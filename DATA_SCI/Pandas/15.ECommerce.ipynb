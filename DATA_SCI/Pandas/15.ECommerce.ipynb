{
 "metadata": {
  "language_info": {
   "codemirror_mode": {
    "name": "ipython",
    "version": 3
   },
   "file_extension": ".py",
   "mimetype": "text/x-python",
   "name": "python",
   "nbconvert_exporter": "python",
   "pygments_lexer": "ipython3",
   "version": "3.9.2-final"
  },
  "orig_nbformat": 2,
  "kernelspec": {
   "name": "python39264bit53189a78836a44bb83e468537909f6de",
   "display_name": "Python 3.9.2 64-bit"
  }
 },
 "nbformat": 4,
 "nbformat_minor": 2,
 "cells": [
  {
   "cell_type": "code",
   "execution_count": 46,
   "metadata": {},
   "outputs": [],
   "source": [
    "import pandas as pd \n",
    "import numpy as np \n",
    "import datetime as dt \n",
    "import seaborn as sns \n",
    "import matplotlib.pyplot as plt "
   ]
  },
  {
   "cell_type": "code",
   "execution_count": 47,
   "metadata": {},
   "outputs": [
    {
     "output_type": "execute_result",
     "data": {
      "text/plain": [
       "  InvoiceNo StockCode                          Description  Quantity  \\\n",
       "0    536365    85123A   WHITE HANGING HEART T-LIGHT HOLDER         6   \n",
       "1    536365     71053                  WHITE METAL LANTERN         6   \n",
       "2    536365    84406B       CREAM CUPID HEARTS COAT HANGER         8   \n",
       "3    536365    84029G  KNITTED UNION FLAG HOT WATER BOTTLE         6   \n",
       "4    536365    84029E       RED WOOLLY HOTTIE WHITE HEART.         6   \n",
       "\n",
       "      InvoiceDate  UnitPrice  CustomerID         Country  \n",
       "0  12/1/2010 8:26       2.55     17850.0  United Kingdom  \n",
       "1  12/1/2010 8:26       3.39     17850.0  United Kingdom  \n",
       "2  12/1/2010 8:26       2.75     17850.0  United Kingdom  \n",
       "3  12/1/2010 8:26       3.39     17850.0  United Kingdom  \n",
       "4  12/1/2010 8:26       3.39     17850.0  United Kingdom  "
      ],
      "text/html": "<div>\n<style scoped>\n    .dataframe tbody tr th:only-of-type {\n        vertical-align: middle;\n    }\n\n    .dataframe tbody tr th {\n        vertical-align: top;\n    }\n\n    .dataframe thead th {\n        text-align: right;\n    }\n</style>\n<table border=\"1\" class=\"dataframe\">\n  <thead>\n    <tr style=\"text-align: right;\">\n      <th></th>\n      <th>InvoiceNo</th>\n      <th>StockCode</th>\n      <th>Description</th>\n      <th>Quantity</th>\n      <th>InvoiceDate</th>\n      <th>UnitPrice</th>\n      <th>CustomerID</th>\n      <th>Country</th>\n    </tr>\n  </thead>\n  <tbody>\n    <tr>\n      <th>0</th>\n      <td>536365</td>\n      <td>85123A</td>\n      <td>WHITE HANGING HEART T-LIGHT HOLDER</td>\n      <td>6</td>\n      <td>12/1/2010 8:26</td>\n      <td>2.55</td>\n      <td>17850.0</td>\n      <td>United Kingdom</td>\n    </tr>\n    <tr>\n      <th>1</th>\n      <td>536365</td>\n      <td>71053</td>\n      <td>WHITE METAL LANTERN</td>\n      <td>6</td>\n      <td>12/1/2010 8:26</td>\n      <td>3.39</td>\n      <td>17850.0</td>\n      <td>United Kingdom</td>\n    </tr>\n    <tr>\n      <th>2</th>\n      <td>536365</td>\n      <td>84406B</td>\n      <td>CREAM CUPID HEARTS COAT HANGER</td>\n      <td>8</td>\n      <td>12/1/2010 8:26</td>\n      <td>2.75</td>\n      <td>17850.0</td>\n      <td>United Kingdom</td>\n    </tr>\n    <tr>\n      <th>3</th>\n      <td>536365</td>\n      <td>84029G</td>\n      <td>KNITTED UNION FLAG HOT WATER BOTTLE</td>\n      <td>6</td>\n      <td>12/1/2010 8:26</td>\n      <td>3.39</td>\n      <td>17850.0</td>\n      <td>United Kingdom</td>\n    </tr>\n    <tr>\n      <th>4</th>\n      <td>536365</td>\n      <td>84029E</td>\n      <td>RED WOOLLY HOTTIE WHITE HEART.</td>\n      <td>6</td>\n      <td>12/1/2010 8:26</td>\n      <td>3.39</td>\n      <td>17850.0</td>\n      <td>United Kingdom</td>\n    </tr>\n  </tbody>\n</table>\n</div>"
     },
     "metadata": {},
     "execution_count": 47
    }
   ],
   "source": [
    "ecom = pd.read_csv('ecomdata.csv')\n",
    "len(ecom.index)\n",
    "ecom.head()"
   ]
  },
  {
   "cell_type": "code",
   "execution_count": 48,
   "metadata": {},
   "outputs": [
    {
     "output_type": "execute_result",
     "data": {
      "text/plain": [
       "541909"
      ]
     },
     "metadata": {},
     "execution_count": 48
    }
   ],
   "source": [
    "len(ecom.index)"
   ]
  },
  {
   "cell_type": "code",
   "execution_count": 49,
   "metadata": {},
   "outputs": [
    {
     "output_type": "execute_result",
     "data": {
      "text/plain": [
       "8"
      ]
     },
     "metadata": {},
     "execution_count": 49
    }
   ],
   "source": [
    "len(ecom.columns)"
   ]
  },
  {
   "cell_type": "code",
   "execution_count": 50,
   "metadata": {},
   "outputs": [],
   "source": [
    "#CHEK DUPLICATES"
   ]
  },
  {
   "cell_type": "code",
   "execution_count": 51,
   "metadata": {},
   "outputs": [
    {
     "output_type": "stream",
     "name": "stdout",
     "text": [
      "5268 rows affected\n"
     ]
    },
    {
     "output_type": "execute_result",
     "data": {
      "text/plain": [
       "InvoiceNo       object\n",
       "StockCode       object\n",
       "Description     object\n",
       "Quantity         int64\n",
       "InvoiceDate     object\n",
       "UnitPrice      float64\n",
       "CustomerID     float64\n",
       "Country         object\n",
       "dtype: object"
      ]
     },
     "metadata": {},
     "execution_count": 51
    }
   ],
   "source": [
    "print(sum(ecom.duplicated(keep='first')), 'rows affected')\n",
    "ecom.dtypes"
   ]
  },
  {
   "cell_type": "code",
   "execution_count": 52,
   "metadata": {},
   "outputs": [],
   "source": [
    "ecom=ecom.drop_duplicates() #DELETE DUPLICATING LINES"
   ]
  },
  {
   "cell_type": "code",
   "execution_count": 53,
   "metadata": {},
   "outputs": [
    {
     "output_type": "execute_result",
     "data": {
      "text/plain": [
       "0         85123A\n",
       "1          71053\n",
       "2         84406B\n",
       "3         84029G\n",
       "4         84029E\n",
       "           ...  \n",
       "541904     22613\n",
       "541905     22899\n",
       "541906     23254\n",
       "541907     23255\n",
       "541908     22138\n",
       "Name: StockCode, Length: 536641, dtype: object"
      ]
     },
     "metadata": {},
     "execution_count": 53
    }
   ],
   "source": [
    "ecom['StockCode']"
   ]
  },
  {
   "cell_type": "code",
   "execution_count": 54,
   "metadata": {},
   "outputs": [
    {
     "output_type": "execute_result",
     "data": {
      "text/plain": [
       "       InvoiceNo StockCode                          Description  Quantity  \\\n",
       "0         536365    85123A   WHITE HANGING HEART T-LIGHT HOLDER         6   \n",
       "1         536365     71053                  WHITE METAL LANTERN         6   \n",
       "2         536365    84406B       CREAM CUPID HEARTS COAT HANGER         8   \n",
       "3         536365    84029G  KNITTED UNION FLAG HOT WATER BOTTLE         6   \n",
       "4         536365    84029E       RED WOOLLY HOTTIE WHITE HEART.         6   \n",
       "...          ...       ...                                  ...       ...   \n",
       "541904    581587     22613          PACK OF 20 SPACEBOY NAPKINS        12   \n",
       "541905    581587     22899         CHILDREN'S APRON DOLLY GIRL          6   \n",
       "541906    581587     23254        CHILDRENS CUTLERY DOLLY GIRL          4   \n",
       "541907    581587     23255      CHILDRENS CUTLERY CIRCUS PARADE         4   \n",
       "541908    581587     22138        BAKING SET 9 PIECE RETROSPOT          3   \n",
       "\n",
       "            InvoiceDate  UnitPrice  CustomerID         Country  \n",
       "0        12/1/2010 8:26       2.55     17850.0  United Kingdom  \n",
       "1        12/1/2010 8:26       3.39     17850.0  United Kingdom  \n",
       "2        12/1/2010 8:26       2.75     17850.0  United Kingdom  \n",
       "3        12/1/2010 8:26       3.39     17850.0  United Kingdom  \n",
       "4        12/1/2010 8:26       3.39     17850.0  United Kingdom  \n",
       "...                 ...        ...         ...             ...  \n",
       "541904  12/9/2011 12:50       0.85     12680.0          France  \n",
       "541905  12/9/2011 12:50       2.10     12680.0          France  \n",
       "541906  12/9/2011 12:50       4.15     12680.0          France  \n",
       "541907  12/9/2011 12:50       4.15     12680.0          France  \n",
       "541908  12/9/2011 12:50       4.95     12680.0          France  \n",
       "\n",
       "[536641 rows x 8 columns]"
      ],
      "text/html": "<div>\n<style scoped>\n    .dataframe tbody tr th:only-of-type {\n        vertical-align: middle;\n    }\n\n    .dataframe tbody tr th {\n        vertical-align: top;\n    }\n\n    .dataframe thead th {\n        text-align: right;\n    }\n</style>\n<table border=\"1\" class=\"dataframe\">\n  <thead>\n    <tr style=\"text-align: right;\">\n      <th></th>\n      <th>InvoiceNo</th>\n      <th>StockCode</th>\n      <th>Description</th>\n      <th>Quantity</th>\n      <th>InvoiceDate</th>\n      <th>UnitPrice</th>\n      <th>CustomerID</th>\n      <th>Country</th>\n    </tr>\n  </thead>\n  <tbody>\n    <tr>\n      <th>0</th>\n      <td>536365</td>\n      <td>85123A</td>\n      <td>WHITE HANGING HEART T-LIGHT HOLDER</td>\n      <td>6</td>\n      <td>12/1/2010 8:26</td>\n      <td>2.55</td>\n      <td>17850.0</td>\n      <td>United Kingdom</td>\n    </tr>\n    <tr>\n      <th>1</th>\n      <td>536365</td>\n      <td>71053</td>\n      <td>WHITE METAL LANTERN</td>\n      <td>6</td>\n      <td>12/1/2010 8:26</td>\n      <td>3.39</td>\n      <td>17850.0</td>\n      <td>United Kingdom</td>\n    </tr>\n    <tr>\n      <th>2</th>\n      <td>536365</td>\n      <td>84406B</td>\n      <td>CREAM CUPID HEARTS COAT HANGER</td>\n      <td>8</td>\n      <td>12/1/2010 8:26</td>\n      <td>2.75</td>\n      <td>17850.0</td>\n      <td>United Kingdom</td>\n    </tr>\n    <tr>\n      <th>3</th>\n      <td>536365</td>\n      <td>84029G</td>\n      <td>KNITTED UNION FLAG HOT WATER BOTTLE</td>\n      <td>6</td>\n      <td>12/1/2010 8:26</td>\n      <td>3.39</td>\n      <td>17850.0</td>\n      <td>United Kingdom</td>\n    </tr>\n    <tr>\n      <th>4</th>\n      <td>536365</td>\n      <td>84029E</td>\n      <td>RED WOOLLY HOTTIE WHITE HEART.</td>\n      <td>6</td>\n      <td>12/1/2010 8:26</td>\n      <td>3.39</td>\n      <td>17850.0</td>\n      <td>United Kingdom</td>\n    </tr>\n    <tr>\n      <th>...</th>\n      <td>...</td>\n      <td>...</td>\n      <td>...</td>\n      <td>...</td>\n      <td>...</td>\n      <td>...</td>\n      <td>...</td>\n      <td>...</td>\n    </tr>\n    <tr>\n      <th>541904</th>\n      <td>581587</td>\n      <td>22613</td>\n      <td>PACK OF 20 SPACEBOY NAPKINS</td>\n      <td>12</td>\n      <td>12/9/2011 12:50</td>\n      <td>0.85</td>\n      <td>12680.0</td>\n      <td>France</td>\n    </tr>\n    <tr>\n      <th>541905</th>\n      <td>581587</td>\n      <td>22899</td>\n      <td>CHILDREN'S APRON DOLLY GIRL</td>\n      <td>6</td>\n      <td>12/9/2011 12:50</td>\n      <td>2.10</td>\n      <td>12680.0</td>\n      <td>France</td>\n    </tr>\n    <tr>\n      <th>541906</th>\n      <td>581587</td>\n      <td>23254</td>\n      <td>CHILDRENS CUTLERY DOLLY GIRL</td>\n      <td>4</td>\n      <td>12/9/2011 12:50</td>\n      <td>4.15</td>\n      <td>12680.0</td>\n      <td>France</td>\n    </tr>\n    <tr>\n      <th>541907</th>\n      <td>581587</td>\n      <td>23255</td>\n      <td>CHILDRENS CUTLERY CIRCUS PARADE</td>\n      <td>4</td>\n      <td>12/9/2011 12:50</td>\n      <td>4.15</td>\n      <td>12680.0</td>\n      <td>France</td>\n    </tr>\n    <tr>\n      <th>541908</th>\n      <td>581587</td>\n      <td>22138</td>\n      <td>BAKING SET 9 PIECE RETROSPOT</td>\n      <td>3</td>\n      <td>12/9/2011 12:50</td>\n      <td>4.95</td>\n      <td>12680.0</td>\n      <td>France</td>\n    </tr>\n  </tbody>\n</table>\n<p>536641 rows × 8 columns</p>\n</div>"
     },
     "metadata": {},
     "execution_count": 54
    }
   ],
   "source": [
    "ecom"
   ]
  },
  {
   "cell_type": "code",
   "execution_count": 55,
   "metadata": {},
   "outputs": [
    {
     "output_type": "execute_result",
     "data": {
      "text/plain": [
       "       InvoiceNo StockCode                          Description  Quantity  \\\n",
       "0         536365    85123A   WHITE HANGING HEART T-LIGHT HOLDER         6   \n",
       "1         536365     71053                  WHITE METAL LANTERN         6   \n",
       "2         536365    84406B       CREAM CUPID HEARTS COAT HANGER         8   \n",
       "3         536365    84029G  KNITTED UNION FLAG HOT WATER BOTTLE         6   \n",
       "4         536365    84029E       RED WOOLLY HOTTIE WHITE HEART.         6   \n",
       "...          ...       ...                                  ...       ...   \n",
       "541904    581587     22613          PACK OF 20 SPACEBOY NAPKINS        12   \n",
       "541905    581587     22899         CHILDREN'S APRON DOLLY GIRL          6   \n",
       "541906    581587     23254        CHILDRENS CUTLERY DOLLY GIRL          4   \n",
       "541907    581587     23255      CHILDRENS CUTLERY CIRCUS PARADE         4   \n",
       "541908    581587     22138        BAKING SET 9 PIECE RETROSPOT          3   \n",
       "\n",
       "            InvoiceDate  UnitPrice  CustomerID         Country  TotalPrice  \n",
       "0        12/1/2010 8:26       2.55     17850.0  United Kingdom       15.30  \n",
       "1        12/1/2010 8:26       3.39     17850.0  United Kingdom       20.34  \n",
       "2        12/1/2010 8:26       2.75     17850.0  United Kingdom       22.00  \n",
       "3        12/1/2010 8:26       3.39     17850.0  United Kingdom       20.34  \n",
       "4        12/1/2010 8:26       3.39     17850.0  United Kingdom       20.34  \n",
       "...                 ...        ...         ...             ...         ...  \n",
       "541904  12/9/2011 12:50       0.85     12680.0          France       10.20  \n",
       "541905  12/9/2011 12:50       2.10     12680.0          France       12.60  \n",
       "541906  12/9/2011 12:50       4.15     12680.0          France       16.60  \n",
       "541907  12/9/2011 12:50       4.15     12680.0          France       16.60  \n",
       "541908  12/9/2011 12:50       4.95     12680.0          France       14.85  \n",
       "\n",
       "[536641 rows x 9 columns]"
      ],
      "text/html": "<div>\n<style scoped>\n    .dataframe tbody tr th:only-of-type {\n        vertical-align: middle;\n    }\n\n    .dataframe tbody tr th {\n        vertical-align: top;\n    }\n\n    .dataframe thead th {\n        text-align: right;\n    }\n</style>\n<table border=\"1\" class=\"dataframe\">\n  <thead>\n    <tr style=\"text-align: right;\">\n      <th></th>\n      <th>InvoiceNo</th>\n      <th>StockCode</th>\n      <th>Description</th>\n      <th>Quantity</th>\n      <th>InvoiceDate</th>\n      <th>UnitPrice</th>\n      <th>CustomerID</th>\n      <th>Country</th>\n      <th>TotalPrice</th>\n    </tr>\n  </thead>\n  <tbody>\n    <tr>\n      <th>0</th>\n      <td>536365</td>\n      <td>85123A</td>\n      <td>WHITE HANGING HEART T-LIGHT HOLDER</td>\n      <td>6</td>\n      <td>12/1/2010 8:26</td>\n      <td>2.55</td>\n      <td>17850.0</td>\n      <td>United Kingdom</td>\n      <td>15.30</td>\n    </tr>\n    <tr>\n      <th>1</th>\n      <td>536365</td>\n      <td>71053</td>\n      <td>WHITE METAL LANTERN</td>\n      <td>6</td>\n      <td>12/1/2010 8:26</td>\n      <td>3.39</td>\n      <td>17850.0</td>\n      <td>United Kingdom</td>\n      <td>20.34</td>\n    </tr>\n    <tr>\n      <th>2</th>\n      <td>536365</td>\n      <td>84406B</td>\n      <td>CREAM CUPID HEARTS COAT HANGER</td>\n      <td>8</td>\n      <td>12/1/2010 8:26</td>\n      <td>2.75</td>\n      <td>17850.0</td>\n      <td>United Kingdom</td>\n      <td>22.00</td>\n    </tr>\n    <tr>\n      <th>3</th>\n      <td>536365</td>\n      <td>84029G</td>\n      <td>KNITTED UNION FLAG HOT WATER BOTTLE</td>\n      <td>6</td>\n      <td>12/1/2010 8:26</td>\n      <td>3.39</td>\n      <td>17850.0</td>\n      <td>United Kingdom</td>\n      <td>20.34</td>\n    </tr>\n    <tr>\n      <th>4</th>\n      <td>536365</td>\n      <td>84029E</td>\n      <td>RED WOOLLY HOTTIE WHITE HEART.</td>\n      <td>6</td>\n      <td>12/1/2010 8:26</td>\n      <td>3.39</td>\n      <td>17850.0</td>\n      <td>United Kingdom</td>\n      <td>20.34</td>\n    </tr>\n    <tr>\n      <th>...</th>\n      <td>...</td>\n      <td>...</td>\n      <td>...</td>\n      <td>...</td>\n      <td>...</td>\n      <td>...</td>\n      <td>...</td>\n      <td>...</td>\n      <td>...</td>\n    </tr>\n    <tr>\n      <th>541904</th>\n      <td>581587</td>\n      <td>22613</td>\n      <td>PACK OF 20 SPACEBOY NAPKINS</td>\n      <td>12</td>\n      <td>12/9/2011 12:50</td>\n      <td>0.85</td>\n      <td>12680.0</td>\n      <td>France</td>\n      <td>10.20</td>\n    </tr>\n    <tr>\n      <th>541905</th>\n      <td>581587</td>\n      <td>22899</td>\n      <td>CHILDREN'S APRON DOLLY GIRL</td>\n      <td>6</td>\n      <td>12/9/2011 12:50</td>\n      <td>2.10</td>\n      <td>12680.0</td>\n      <td>France</td>\n      <td>12.60</td>\n    </tr>\n    <tr>\n      <th>541906</th>\n      <td>581587</td>\n      <td>23254</td>\n      <td>CHILDRENS CUTLERY DOLLY GIRL</td>\n      <td>4</td>\n      <td>12/9/2011 12:50</td>\n      <td>4.15</td>\n      <td>12680.0</td>\n      <td>France</td>\n      <td>16.60</td>\n    </tr>\n    <tr>\n      <th>541907</th>\n      <td>581587</td>\n      <td>23255</td>\n      <td>CHILDRENS CUTLERY CIRCUS PARADE</td>\n      <td>4</td>\n      <td>12/9/2011 12:50</td>\n      <td>4.15</td>\n      <td>12680.0</td>\n      <td>France</td>\n      <td>16.60</td>\n    </tr>\n    <tr>\n      <th>541908</th>\n      <td>581587</td>\n      <td>22138</td>\n      <td>BAKING SET 9 PIECE RETROSPOT</td>\n      <td>3</td>\n      <td>12/9/2011 12:50</td>\n      <td>4.95</td>\n      <td>12680.0</td>\n      <td>France</td>\n      <td>14.85</td>\n    </tr>\n  </tbody>\n</table>\n<p>536641 rows × 9 columns</p>\n</div>"
     },
     "metadata": {},
     "execution_count": 55
    }
   ],
   "source": [
    "ecom['TotalPrice']=ecom['Quantity']*ecom['UnitPrice']\n",
    "ecom"
   ]
  },
  {
   "cell_type": "code",
   "execution_count": 56,
   "metadata": {},
   "outputs": [
    {
     "output_type": "stream",
     "name": "stdout",
     "text": [
      "<class 'pandas.core.frame.DataFrame'>\nInt64Index: 536641 entries, 0 to 541908\nData columns (total 9 columns):\n #   Column       Non-Null Count   Dtype  \n---  ------       --------------   -----  \n 0   InvoiceNo    536641 non-null  object \n 1   StockCode    536641 non-null  object \n 2   Description  535187 non-null  object \n 3   Quantity     536641 non-null  int64  \n 4   InvoiceDate  536641 non-null  object \n 5   UnitPrice    536641 non-null  float64\n 6   CustomerID   401604 non-null  float64\n 7   Country      536641 non-null  object \n 8   TotalPrice   536641 non-null  float64\ndtypes: float64(3), int64(1), object(5)\nmemory usage: 40.9+ MB\n"
     ]
    }
   ],
   "source": [
    "ecom.info()"
   ]
  },
  {
   "cell_type": "code",
   "execution_count": 57,
   "metadata": {},
   "outputs": [
    {
     "output_type": "execute_result",
     "data": {
      "text/plain": [
       "InvoiceNo       581483\n",
       "TotalPrice    168469.6\n",
       "CustomerID     16446.0\n",
       "Name: 540421, dtype: object"
      ]
     },
     "metadata": {},
     "execution_count": 57
    }
   ],
   "source": [
    "ecom.loc[ecom['TotalPrice'].idxmax()][['InvoiceNo', 'TotalPrice', 'CustomerID']]"
   ]
  },
  {
   "cell_type": "code",
   "execution_count": 58,
   "metadata": {},
   "outputs": [
    {
     "output_type": "execute_result",
     "data": {
      "text/plain": [
       "18.123861117581395"
      ]
     },
     "metadata": {},
     "execution_count": 58
    }
   ],
   "source": [
    "ecom['TotalPrice'].mean()"
   ]
  },
  {
   "cell_type": "code",
   "execution_count": 59,
   "metadata": {},
   "outputs": [
    {
     "output_type": "execute_result",
     "data": {
      "text/plain": [
       "InvoiceNo      C581484\n",
       "TotalPrice   -168469.6\n",
       "CustomerID     16446.0\n",
       "Name: 540422, dtype: object"
      ]
     },
     "metadata": {},
     "execution_count": 59
    }
   ],
   "source": [
    "ecom.loc[ecom['TotalPrice'].idxmin()][['InvoiceNo', 'TotalPrice', 'CustomerID']]"
   ]
  },
  {
   "cell_type": "code",
   "execution_count": 60,
   "metadata": {},
   "outputs": [
    {
     "output_type": "stream",
     "name": "stdout",
     "text": [
      "168469.6\n-168469.6\n"
     ]
    }
   ],
   "source": [
    "print(ecom['TotalPrice'].max())\n",
    "print(ecom['TotalPrice'].min())"
   ]
  },
  {
   "cell_type": "code",
   "execution_count": 61,
   "metadata": {},
   "outputs": [
    {
     "output_type": "execute_result",
     "data": {
      "text/plain": [
       "490300"
      ]
     },
     "metadata": {},
     "execution_count": 61
    }
   ],
   "source": [
    "ecom[ecom['Country']=='United Kingdom']['Country'].count()"
   ]
  },
  {
   "cell_type": "code",
   "execution_count": 62,
   "metadata": {},
   "outputs": [
    {
     "output_type": "execute_result",
     "data": {
      "text/plain": [
       "38"
      ]
     },
     "metadata": {},
     "execution_count": 62
    }
   ],
   "source": [
    "ecom['Country'].nunique()"
   ]
  },
  {
   "cell_type": "code",
   "execution_count": 63,
   "metadata": {},
   "outputs": [
    {
     "output_type": "execute_result",
     "data": {
      "text/plain": [
       "InvoiceNo\n",
       "536365        139.12\n",
       "536366         22.20\n",
       "536367        278.73\n",
       "536368         70.05\n",
       "536369         17.85\n",
       "             ...    \n",
       "C581484   -168469.60\n",
       "C581490       -32.53\n",
       "C581499      -224.69\n",
       "C581568       -54.75\n",
       "C581569        -7.50\n",
       "Name: TotalPrice, Length: 25900, dtype: float64"
      ]
     },
     "metadata": {},
     "execution_count": 63
    }
   ],
   "source": [
    "ecom.groupby('InvoiceNo')['TotalPrice'].sum()"
   ]
  },
  {
   "cell_type": "code",
   "execution_count": 64,
   "metadata": {},
   "outputs": [
    {
     "output_type": "execute_result",
     "data": {
      "text/plain": [
       "25900"
      ]
     },
     "metadata": {},
     "execution_count": 64
    }
   ],
   "source": [
    "ecom['InvoiceNo'].nunique() #COUNT UNIQUE INVOICES"
   ]
  },
  {
   "cell_type": "code",
   "execution_count": 65,
   "metadata": {},
   "outputs": [
    {
     "output_type": "execute_result",
     "data": {
      "text/plain": [
       "4372"
      ]
     },
     "metadata": {},
     "execution_count": 65
    }
   ],
   "source": [
    "ecom['CustomerID'].nunique() #COUNT UNIQUE CUSTOMERS"
   ]
  },
  {
   "cell_type": "code",
   "execution_count": 66,
   "metadata": {},
   "outputs": [],
   "source": [
    "#MAX PRICE PER UNIT"
   ]
  },
  {
   "cell_type": "code",
   "execution_count": 67,
   "metadata": {},
   "outputs": [
    {
     "output_type": "execute_result",
     "data": {
      "text/plain": [
       "Description     Manual\n",
       "UnitPrice      38970.0\n",
       "InvoiceNo      C556445\n",
       "Name: 222681, dtype: object"
      ]
     },
     "metadata": {},
     "execution_count": 67
    }
   ],
   "source": [
    "ecom.loc[ecom['UnitPrice'].idxmax()][['Description', 'UnitPrice', 'InvoiceNo']]"
   ]
  },
  {
   "cell_type": "code",
   "execution_count": 68,
   "metadata": {},
   "outputs": [
    {
     "output_type": "execute_result",
     "data": {
      "text/plain": [
       "       InvoiceNo StockCode                          Description  Quantity  \\\n",
       "0         536365    85123A   WHITE HANGING HEART T-LIGHT HOLDER         6   \n",
       "1         536365     71053                  WHITE METAL LANTERN         6   \n",
       "2         536365    84406B       CREAM CUPID HEARTS COAT HANGER         8   \n",
       "3         536365    84029G  KNITTED UNION FLAG HOT WATER BOTTLE         6   \n",
       "4         536365    84029E       RED WOOLLY HOTTIE WHITE HEART.         6   \n",
       "...          ...       ...                                  ...       ...   \n",
       "541904    581587     22613          PACK OF 20 SPACEBOY NAPKINS        12   \n",
       "541905    581587     22899         CHILDREN'S APRON DOLLY GIRL          6   \n",
       "541906    581587     23254        CHILDRENS CUTLERY DOLLY GIRL          4   \n",
       "541907    581587     23255      CHILDRENS CUTLERY CIRCUS PARADE         4   \n",
       "541908    581587     22138        BAKING SET 9 PIECE RETROSPOT          3   \n",
       "\n",
       "               InvoiceDate  UnitPrice  CustomerID         Country  TotalPrice  \n",
       "0      2010-12-01 08:26:00       2.55     17850.0  United Kingdom       15.30  \n",
       "1      2010-12-01 08:26:00       3.39     17850.0  United Kingdom       20.34  \n",
       "2      2010-12-01 08:26:00       2.75     17850.0  United Kingdom       22.00  \n",
       "3      2010-12-01 08:26:00       3.39     17850.0  United Kingdom       20.34  \n",
       "4      2010-12-01 08:26:00       3.39     17850.0  United Kingdom       20.34  \n",
       "...                    ...        ...         ...             ...         ...  \n",
       "541904 2011-12-09 12:50:00       0.85     12680.0          France       10.20  \n",
       "541905 2011-12-09 12:50:00       2.10     12680.0          France       12.60  \n",
       "541906 2011-12-09 12:50:00       4.15     12680.0          France       16.60  \n",
       "541907 2011-12-09 12:50:00       4.15     12680.0          France       16.60  \n",
       "541908 2011-12-09 12:50:00       4.95     12680.0          France       14.85  \n",
       "\n",
       "[536641 rows x 9 columns]"
      ],
      "text/html": "<div>\n<style scoped>\n    .dataframe tbody tr th:only-of-type {\n        vertical-align: middle;\n    }\n\n    .dataframe tbody tr th {\n        vertical-align: top;\n    }\n\n    .dataframe thead th {\n        text-align: right;\n    }\n</style>\n<table border=\"1\" class=\"dataframe\">\n  <thead>\n    <tr style=\"text-align: right;\">\n      <th></th>\n      <th>InvoiceNo</th>\n      <th>StockCode</th>\n      <th>Description</th>\n      <th>Quantity</th>\n      <th>InvoiceDate</th>\n      <th>UnitPrice</th>\n      <th>CustomerID</th>\n      <th>Country</th>\n      <th>TotalPrice</th>\n    </tr>\n  </thead>\n  <tbody>\n    <tr>\n      <th>0</th>\n      <td>536365</td>\n      <td>85123A</td>\n      <td>WHITE HANGING HEART T-LIGHT HOLDER</td>\n      <td>6</td>\n      <td>2010-12-01 08:26:00</td>\n      <td>2.55</td>\n      <td>17850.0</td>\n      <td>United Kingdom</td>\n      <td>15.30</td>\n    </tr>\n    <tr>\n      <th>1</th>\n      <td>536365</td>\n      <td>71053</td>\n      <td>WHITE METAL LANTERN</td>\n      <td>6</td>\n      <td>2010-12-01 08:26:00</td>\n      <td>3.39</td>\n      <td>17850.0</td>\n      <td>United Kingdom</td>\n      <td>20.34</td>\n    </tr>\n    <tr>\n      <th>2</th>\n      <td>536365</td>\n      <td>84406B</td>\n      <td>CREAM CUPID HEARTS COAT HANGER</td>\n      <td>8</td>\n      <td>2010-12-01 08:26:00</td>\n      <td>2.75</td>\n      <td>17850.0</td>\n      <td>United Kingdom</td>\n      <td>22.00</td>\n    </tr>\n    <tr>\n      <th>3</th>\n      <td>536365</td>\n      <td>84029G</td>\n      <td>KNITTED UNION FLAG HOT WATER BOTTLE</td>\n      <td>6</td>\n      <td>2010-12-01 08:26:00</td>\n      <td>3.39</td>\n      <td>17850.0</td>\n      <td>United Kingdom</td>\n      <td>20.34</td>\n    </tr>\n    <tr>\n      <th>4</th>\n      <td>536365</td>\n      <td>84029E</td>\n      <td>RED WOOLLY HOTTIE WHITE HEART.</td>\n      <td>6</td>\n      <td>2010-12-01 08:26:00</td>\n      <td>3.39</td>\n      <td>17850.0</td>\n      <td>United Kingdom</td>\n      <td>20.34</td>\n    </tr>\n    <tr>\n      <th>...</th>\n      <td>...</td>\n      <td>...</td>\n      <td>...</td>\n      <td>...</td>\n      <td>...</td>\n      <td>...</td>\n      <td>...</td>\n      <td>...</td>\n      <td>...</td>\n    </tr>\n    <tr>\n      <th>541904</th>\n      <td>581587</td>\n      <td>22613</td>\n      <td>PACK OF 20 SPACEBOY NAPKINS</td>\n      <td>12</td>\n      <td>2011-12-09 12:50:00</td>\n      <td>0.85</td>\n      <td>12680.0</td>\n      <td>France</td>\n      <td>10.20</td>\n    </tr>\n    <tr>\n      <th>541905</th>\n      <td>581587</td>\n      <td>22899</td>\n      <td>CHILDREN'S APRON DOLLY GIRL</td>\n      <td>6</td>\n      <td>2011-12-09 12:50:00</td>\n      <td>2.10</td>\n      <td>12680.0</td>\n      <td>France</td>\n      <td>12.60</td>\n    </tr>\n    <tr>\n      <th>541906</th>\n      <td>581587</td>\n      <td>23254</td>\n      <td>CHILDRENS CUTLERY DOLLY GIRL</td>\n      <td>4</td>\n      <td>2011-12-09 12:50:00</td>\n      <td>4.15</td>\n      <td>12680.0</td>\n      <td>France</td>\n      <td>16.60</td>\n    </tr>\n    <tr>\n      <th>541907</th>\n      <td>581587</td>\n      <td>23255</td>\n      <td>CHILDRENS CUTLERY CIRCUS PARADE</td>\n      <td>4</td>\n      <td>2011-12-09 12:50:00</td>\n      <td>4.15</td>\n      <td>12680.0</td>\n      <td>France</td>\n      <td>16.60</td>\n    </tr>\n    <tr>\n      <th>541908</th>\n      <td>581587</td>\n      <td>22138</td>\n      <td>BAKING SET 9 PIECE RETROSPOT</td>\n      <td>3</td>\n      <td>2011-12-09 12:50:00</td>\n      <td>4.95</td>\n      <td>12680.0</td>\n      <td>France</td>\n      <td>14.85</td>\n    </tr>\n  </tbody>\n</table>\n<p>536641 rows × 9 columns</p>\n</div>"
     },
     "metadata": {},
     "execution_count": 68
    }
   ],
   "source": [
    "ecom.InvoiceDate = pd.to_datetime(ecom.InvoiceDate, format=\"%m/%d/%Y %H:%M\")\n",
    "ecom"
   ]
  },
  {
   "cell_type": "code",
   "execution_count": 69,
   "metadata": {},
   "outputs": [
    {
     "output_type": "execute_result",
     "data": {
      "text/plain": [
       "       InvoiceNo StockCode                          Description  Quantity  \\\n",
       "0         536365    85123A   WHITE HANGING HEART T-LIGHT HOLDER         6   \n",
       "1         536365     71053                  WHITE METAL LANTERN         6   \n",
       "2         536365    84406B       CREAM CUPID HEARTS COAT HANGER         8   \n",
       "3         536365    84029G  KNITTED UNION FLAG HOT WATER BOTTLE         6   \n",
       "4         536365    84029E       RED WOOLLY HOTTIE WHITE HEART.         6   \n",
       "...          ...       ...                                  ...       ...   \n",
       "541904    581587     22613          PACK OF 20 SPACEBOY NAPKINS        12   \n",
       "541905    581587     22899         CHILDREN'S APRON DOLLY GIRL          6   \n",
       "541906    581587     23254        CHILDRENS CUTLERY DOLLY GIRL          4   \n",
       "541907    581587     23255      CHILDRENS CUTLERY CIRCUS PARADE         4   \n",
       "541908    581587     22138        BAKING SET 9 PIECE RETROSPOT          3   \n",
       "\n",
       "           InvoiceDateTime  UnitPrice  CustomerID         Country  TotalPrice  \n",
       "0      2010-12-01 08:26:00       2.55     17850.0  United Kingdom       15.30  \n",
       "1      2010-12-01 08:26:00       3.39     17850.0  United Kingdom       20.34  \n",
       "2      2010-12-01 08:26:00       2.75     17850.0  United Kingdom       22.00  \n",
       "3      2010-12-01 08:26:00       3.39     17850.0  United Kingdom       20.34  \n",
       "4      2010-12-01 08:26:00       3.39     17850.0  United Kingdom       20.34  \n",
       "...                    ...        ...         ...             ...         ...  \n",
       "541904 2011-12-09 12:50:00       0.85     12680.0          France       10.20  \n",
       "541905 2011-12-09 12:50:00       2.10     12680.0          France       12.60  \n",
       "541906 2011-12-09 12:50:00       4.15     12680.0          France       16.60  \n",
       "541907 2011-12-09 12:50:00       4.15     12680.0          France       16.60  \n",
       "541908 2011-12-09 12:50:00       4.95     12680.0          France       14.85  \n",
       "\n",
       "[536641 rows x 9 columns]"
      ],
      "text/html": "<div>\n<style scoped>\n    .dataframe tbody tr th:only-of-type {\n        vertical-align: middle;\n    }\n\n    .dataframe tbody tr th {\n        vertical-align: top;\n    }\n\n    .dataframe thead th {\n        text-align: right;\n    }\n</style>\n<table border=\"1\" class=\"dataframe\">\n  <thead>\n    <tr style=\"text-align: right;\">\n      <th></th>\n      <th>InvoiceNo</th>\n      <th>StockCode</th>\n      <th>Description</th>\n      <th>Quantity</th>\n      <th>InvoiceDateTime</th>\n      <th>UnitPrice</th>\n      <th>CustomerID</th>\n      <th>Country</th>\n      <th>TotalPrice</th>\n    </tr>\n  </thead>\n  <tbody>\n    <tr>\n      <th>0</th>\n      <td>536365</td>\n      <td>85123A</td>\n      <td>WHITE HANGING HEART T-LIGHT HOLDER</td>\n      <td>6</td>\n      <td>2010-12-01 08:26:00</td>\n      <td>2.55</td>\n      <td>17850.0</td>\n      <td>United Kingdom</td>\n      <td>15.30</td>\n    </tr>\n    <tr>\n      <th>1</th>\n      <td>536365</td>\n      <td>71053</td>\n      <td>WHITE METAL LANTERN</td>\n      <td>6</td>\n      <td>2010-12-01 08:26:00</td>\n      <td>3.39</td>\n      <td>17850.0</td>\n      <td>United Kingdom</td>\n      <td>20.34</td>\n    </tr>\n    <tr>\n      <th>2</th>\n      <td>536365</td>\n      <td>84406B</td>\n      <td>CREAM CUPID HEARTS COAT HANGER</td>\n      <td>8</td>\n      <td>2010-12-01 08:26:00</td>\n      <td>2.75</td>\n      <td>17850.0</td>\n      <td>United Kingdom</td>\n      <td>22.00</td>\n    </tr>\n    <tr>\n      <th>3</th>\n      <td>536365</td>\n      <td>84029G</td>\n      <td>KNITTED UNION FLAG HOT WATER BOTTLE</td>\n      <td>6</td>\n      <td>2010-12-01 08:26:00</td>\n      <td>3.39</td>\n      <td>17850.0</td>\n      <td>United Kingdom</td>\n      <td>20.34</td>\n    </tr>\n    <tr>\n      <th>4</th>\n      <td>536365</td>\n      <td>84029E</td>\n      <td>RED WOOLLY HOTTIE WHITE HEART.</td>\n      <td>6</td>\n      <td>2010-12-01 08:26:00</td>\n      <td>3.39</td>\n      <td>17850.0</td>\n      <td>United Kingdom</td>\n      <td>20.34</td>\n    </tr>\n    <tr>\n      <th>...</th>\n      <td>...</td>\n      <td>...</td>\n      <td>...</td>\n      <td>...</td>\n      <td>...</td>\n      <td>...</td>\n      <td>...</td>\n      <td>...</td>\n      <td>...</td>\n    </tr>\n    <tr>\n      <th>541904</th>\n      <td>581587</td>\n      <td>22613</td>\n      <td>PACK OF 20 SPACEBOY NAPKINS</td>\n      <td>12</td>\n      <td>2011-12-09 12:50:00</td>\n      <td>0.85</td>\n      <td>12680.0</td>\n      <td>France</td>\n      <td>10.20</td>\n    </tr>\n    <tr>\n      <th>541905</th>\n      <td>581587</td>\n      <td>22899</td>\n      <td>CHILDREN'S APRON DOLLY GIRL</td>\n      <td>6</td>\n      <td>2011-12-09 12:50:00</td>\n      <td>2.10</td>\n      <td>12680.0</td>\n      <td>France</td>\n      <td>12.60</td>\n    </tr>\n    <tr>\n      <th>541906</th>\n      <td>581587</td>\n      <td>23254</td>\n      <td>CHILDRENS CUTLERY DOLLY GIRL</td>\n      <td>4</td>\n      <td>2011-12-09 12:50:00</td>\n      <td>4.15</td>\n      <td>12680.0</td>\n      <td>France</td>\n      <td>16.60</td>\n    </tr>\n    <tr>\n      <th>541907</th>\n      <td>581587</td>\n      <td>23255</td>\n      <td>CHILDRENS CUTLERY CIRCUS PARADE</td>\n      <td>4</td>\n      <td>2011-12-09 12:50:00</td>\n      <td>4.15</td>\n      <td>12680.0</td>\n      <td>France</td>\n      <td>16.60</td>\n    </tr>\n    <tr>\n      <th>541908</th>\n      <td>581587</td>\n      <td>22138</td>\n      <td>BAKING SET 9 PIECE RETROSPOT</td>\n      <td>3</td>\n      <td>2011-12-09 12:50:00</td>\n      <td>4.95</td>\n      <td>12680.0</td>\n      <td>France</td>\n      <td>14.85</td>\n    </tr>\n  </tbody>\n</table>\n<p>536641 rows × 9 columns</p>\n</div>"
     },
     "metadata": {},
     "execution_count": 69
    }
   ],
   "source": [
    "ecom.StockCode=ecom.StockCode.str.upper()\n",
    "ecom.rename(columns={\"InvoiceDate\":'InvoiceDateTime'}, inplace=True)\n",
    "ecom"
   ]
  },
  {
   "cell_type": "code",
   "execution_count": 70,
   "metadata": {},
   "outputs": [],
   "source": [
    "#EXTRACT DATE ONLY"
   ]
  },
  {
   "cell_type": "code",
   "execution_count": 71,
   "metadata": {},
   "outputs": [
    {
     "output_type": "execute_result",
     "data": {
      "text/plain": [
       "       InvoiceNo StockCode                          Description  Quantity  \\\n",
       "0         536365    85123A   WHITE HANGING HEART T-LIGHT HOLDER         6   \n",
       "1         536365     71053                  WHITE METAL LANTERN         6   \n",
       "2         536365    84406B       CREAM CUPID HEARTS COAT HANGER         8   \n",
       "3         536365    84029G  KNITTED UNION FLAG HOT WATER BOTTLE         6   \n",
       "4         536365    84029E       RED WOOLLY HOTTIE WHITE HEART.         6   \n",
       "...          ...       ...                                  ...       ...   \n",
       "541904    581587     22613          PACK OF 20 SPACEBOY NAPKINS        12   \n",
       "541905    581587     22899         CHILDREN'S APRON DOLLY GIRL          6   \n",
       "541906    581587     23254        CHILDRENS CUTLERY DOLLY GIRL          4   \n",
       "541907    581587     23255      CHILDRENS CUTLERY CIRCUS PARADE         4   \n",
       "541908    581587     22138        BAKING SET 9 PIECE RETROSPOT          3   \n",
       "\n",
       "           InvoiceDateTime  UnitPrice  CustomerID         Country  TotalPrice  \\\n",
       "0      2010-12-01 08:26:00       2.55     17850.0  United Kingdom       15.30   \n",
       "1      2010-12-01 08:26:00       3.39     17850.0  United Kingdom       20.34   \n",
       "2      2010-12-01 08:26:00       2.75     17850.0  United Kingdom       22.00   \n",
       "3      2010-12-01 08:26:00       3.39     17850.0  United Kingdom       20.34   \n",
       "4      2010-12-01 08:26:00       3.39     17850.0  United Kingdom       20.34   \n",
       "...                    ...        ...         ...             ...         ...   \n",
       "541904 2011-12-09 12:50:00       0.85     12680.0          France       10.20   \n",
       "541905 2011-12-09 12:50:00       2.10     12680.0          France       12.60   \n",
       "541906 2011-12-09 12:50:00       4.15     12680.0          France       16.60   \n",
       "541907 2011-12-09 12:50:00       4.15     12680.0          France       16.60   \n",
       "541908 2011-12-09 12:50:00       4.95     12680.0          France       14.85   \n",
       "\n",
       "       InvoiceDate  \n",
       "0       2010-12-01  \n",
       "1       2010-12-01  \n",
       "2       2010-12-01  \n",
       "3       2010-12-01  \n",
       "4       2010-12-01  \n",
       "...            ...  \n",
       "541904  2011-12-09  \n",
       "541905  2011-12-09  \n",
       "541906  2011-12-09  \n",
       "541907  2011-12-09  \n",
       "541908  2011-12-09  \n",
       "\n",
       "[536641 rows x 10 columns]"
      ],
      "text/html": "<div>\n<style scoped>\n    .dataframe tbody tr th:only-of-type {\n        vertical-align: middle;\n    }\n\n    .dataframe tbody tr th {\n        vertical-align: top;\n    }\n\n    .dataframe thead th {\n        text-align: right;\n    }\n</style>\n<table border=\"1\" class=\"dataframe\">\n  <thead>\n    <tr style=\"text-align: right;\">\n      <th></th>\n      <th>InvoiceNo</th>\n      <th>StockCode</th>\n      <th>Description</th>\n      <th>Quantity</th>\n      <th>InvoiceDateTime</th>\n      <th>UnitPrice</th>\n      <th>CustomerID</th>\n      <th>Country</th>\n      <th>TotalPrice</th>\n      <th>InvoiceDate</th>\n    </tr>\n  </thead>\n  <tbody>\n    <tr>\n      <th>0</th>\n      <td>536365</td>\n      <td>85123A</td>\n      <td>WHITE HANGING HEART T-LIGHT HOLDER</td>\n      <td>6</td>\n      <td>2010-12-01 08:26:00</td>\n      <td>2.55</td>\n      <td>17850.0</td>\n      <td>United Kingdom</td>\n      <td>15.30</td>\n      <td>2010-12-01</td>\n    </tr>\n    <tr>\n      <th>1</th>\n      <td>536365</td>\n      <td>71053</td>\n      <td>WHITE METAL LANTERN</td>\n      <td>6</td>\n      <td>2010-12-01 08:26:00</td>\n      <td>3.39</td>\n      <td>17850.0</td>\n      <td>United Kingdom</td>\n      <td>20.34</td>\n      <td>2010-12-01</td>\n    </tr>\n    <tr>\n      <th>2</th>\n      <td>536365</td>\n      <td>84406B</td>\n      <td>CREAM CUPID HEARTS COAT HANGER</td>\n      <td>8</td>\n      <td>2010-12-01 08:26:00</td>\n      <td>2.75</td>\n      <td>17850.0</td>\n      <td>United Kingdom</td>\n      <td>22.00</td>\n      <td>2010-12-01</td>\n    </tr>\n    <tr>\n      <th>3</th>\n      <td>536365</td>\n      <td>84029G</td>\n      <td>KNITTED UNION FLAG HOT WATER BOTTLE</td>\n      <td>6</td>\n      <td>2010-12-01 08:26:00</td>\n      <td>3.39</td>\n      <td>17850.0</td>\n      <td>United Kingdom</td>\n      <td>20.34</td>\n      <td>2010-12-01</td>\n    </tr>\n    <tr>\n      <th>4</th>\n      <td>536365</td>\n      <td>84029E</td>\n      <td>RED WOOLLY HOTTIE WHITE HEART.</td>\n      <td>6</td>\n      <td>2010-12-01 08:26:00</td>\n      <td>3.39</td>\n      <td>17850.0</td>\n      <td>United Kingdom</td>\n      <td>20.34</td>\n      <td>2010-12-01</td>\n    </tr>\n    <tr>\n      <th>...</th>\n      <td>...</td>\n      <td>...</td>\n      <td>...</td>\n      <td>...</td>\n      <td>...</td>\n      <td>...</td>\n      <td>...</td>\n      <td>...</td>\n      <td>...</td>\n      <td>...</td>\n    </tr>\n    <tr>\n      <th>541904</th>\n      <td>581587</td>\n      <td>22613</td>\n      <td>PACK OF 20 SPACEBOY NAPKINS</td>\n      <td>12</td>\n      <td>2011-12-09 12:50:00</td>\n      <td>0.85</td>\n      <td>12680.0</td>\n      <td>France</td>\n      <td>10.20</td>\n      <td>2011-12-09</td>\n    </tr>\n    <tr>\n      <th>541905</th>\n      <td>581587</td>\n      <td>22899</td>\n      <td>CHILDREN'S APRON DOLLY GIRL</td>\n      <td>6</td>\n      <td>2011-12-09 12:50:00</td>\n      <td>2.10</td>\n      <td>12680.0</td>\n      <td>France</td>\n      <td>12.60</td>\n      <td>2011-12-09</td>\n    </tr>\n    <tr>\n      <th>541906</th>\n      <td>581587</td>\n      <td>23254</td>\n      <td>CHILDRENS CUTLERY DOLLY GIRL</td>\n      <td>4</td>\n      <td>2011-12-09 12:50:00</td>\n      <td>4.15</td>\n      <td>12680.0</td>\n      <td>France</td>\n      <td>16.60</td>\n      <td>2011-12-09</td>\n    </tr>\n    <tr>\n      <th>541907</th>\n      <td>581587</td>\n      <td>23255</td>\n      <td>CHILDRENS CUTLERY CIRCUS PARADE</td>\n      <td>4</td>\n      <td>2011-12-09 12:50:00</td>\n      <td>4.15</td>\n      <td>12680.0</td>\n      <td>France</td>\n      <td>16.60</td>\n      <td>2011-12-09</td>\n    </tr>\n    <tr>\n      <th>541908</th>\n      <td>581587</td>\n      <td>22138</td>\n      <td>BAKING SET 9 PIECE RETROSPOT</td>\n      <td>3</td>\n      <td>2011-12-09 12:50:00</td>\n      <td>4.95</td>\n      <td>12680.0</td>\n      <td>France</td>\n      <td>14.85</td>\n      <td>2011-12-09</td>\n    </tr>\n  </tbody>\n</table>\n<p>536641 rows × 10 columns</p>\n</div>"
     },
     "metadata": {},
     "execution_count": 71
    }
   ],
   "source": [
    "ecom['InvoiceDate'] = ecom['InvoiceDateTime'].dt.date\n",
    "ecom"
   ]
  },
  {
   "cell_type": "code",
   "execution_count": 72,
   "metadata": {},
   "outputs": [
    {
     "output_type": "execute_result",
     "data": {
      "text/plain": [
       "       InvoiceNo StockCode                          Description  Quantity  \\\n",
       "0         536365    85123A   WHITE HANGING HEART T-LIGHT HOLDER         6   \n",
       "1         536365     71053                  WHITE METAL LANTERN         6   \n",
       "2         536365    84406B       CREAM CUPID HEARTS COAT HANGER         8   \n",
       "3         536365    84029G  KNITTED UNION FLAG HOT WATER BOTTLE         6   \n",
       "4         536365    84029E       RED WOOLLY HOTTIE WHITE HEART.         6   \n",
       "...          ...       ...                                  ...       ...   \n",
       "541904    581587     22613          PACK OF 20 SPACEBOY NAPKINS        12   \n",
       "541905    581587     22899         CHILDREN'S APRON DOLLY GIRL          6   \n",
       "541906    581587     23254        CHILDRENS CUTLERY DOLLY GIRL          4   \n",
       "541907    581587     23255      CHILDRENS CUTLERY CIRCUS PARADE         4   \n",
       "541908    581587     22138        BAKING SET 9 PIECE RETROSPOT          3   \n",
       "\n",
       "        UnitPrice  CustomerID         Country  TotalPrice InvoiceDate  \n",
       "0            2.55     17850.0  United Kingdom       15.30  2010-12-01  \n",
       "1            3.39     17850.0  United Kingdom       20.34  2010-12-01  \n",
       "2            2.75     17850.0  United Kingdom       22.00  2010-12-01  \n",
       "3            3.39     17850.0  United Kingdom       20.34  2010-12-01  \n",
       "4            3.39     17850.0  United Kingdom       20.34  2010-12-01  \n",
       "...           ...         ...             ...         ...         ...  \n",
       "541904       0.85     12680.0          France       10.20  2011-12-09  \n",
       "541905       2.10     12680.0          France       12.60  2011-12-09  \n",
       "541906       4.15     12680.0          France       16.60  2011-12-09  \n",
       "541907       4.15     12680.0          France       16.60  2011-12-09  \n",
       "541908       4.95     12680.0          France       14.85  2011-12-09  \n",
       "\n",
       "[536641 rows x 9 columns]"
      ],
      "text/html": "<div>\n<style scoped>\n    .dataframe tbody tr th:only-of-type {\n        vertical-align: middle;\n    }\n\n    .dataframe tbody tr th {\n        vertical-align: top;\n    }\n\n    .dataframe thead th {\n        text-align: right;\n    }\n</style>\n<table border=\"1\" class=\"dataframe\">\n  <thead>\n    <tr style=\"text-align: right;\">\n      <th></th>\n      <th>InvoiceNo</th>\n      <th>StockCode</th>\n      <th>Description</th>\n      <th>Quantity</th>\n      <th>UnitPrice</th>\n      <th>CustomerID</th>\n      <th>Country</th>\n      <th>TotalPrice</th>\n      <th>InvoiceDate</th>\n    </tr>\n  </thead>\n  <tbody>\n    <tr>\n      <th>0</th>\n      <td>536365</td>\n      <td>85123A</td>\n      <td>WHITE HANGING HEART T-LIGHT HOLDER</td>\n      <td>6</td>\n      <td>2.55</td>\n      <td>17850.0</td>\n      <td>United Kingdom</td>\n      <td>15.30</td>\n      <td>2010-12-01</td>\n    </tr>\n    <tr>\n      <th>1</th>\n      <td>536365</td>\n      <td>71053</td>\n      <td>WHITE METAL LANTERN</td>\n      <td>6</td>\n      <td>3.39</td>\n      <td>17850.0</td>\n      <td>United Kingdom</td>\n      <td>20.34</td>\n      <td>2010-12-01</td>\n    </tr>\n    <tr>\n      <th>2</th>\n      <td>536365</td>\n      <td>84406B</td>\n      <td>CREAM CUPID HEARTS COAT HANGER</td>\n      <td>8</td>\n      <td>2.75</td>\n      <td>17850.0</td>\n      <td>United Kingdom</td>\n      <td>22.00</td>\n      <td>2010-12-01</td>\n    </tr>\n    <tr>\n      <th>3</th>\n      <td>536365</td>\n      <td>84029G</td>\n      <td>KNITTED UNION FLAG HOT WATER BOTTLE</td>\n      <td>6</td>\n      <td>3.39</td>\n      <td>17850.0</td>\n      <td>United Kingdom</td>\n      <td>20.34</td>\n      <td>2010-12-01</td>\n    </tr>\n    <tr>\n      <th>4</th>\n      <td>536365</td>\n      <td>84029E</td>\n      <td>RED WOOLLY HOTTIE WHITE HEART.</td>\n      <td>6</td>\n      <td>3.39</td>\n      <td>17850.0</td>\n      <td>United Kingdom</td>\n      <td>20.34</td>\n      <td>2010-12-01</td>\n    </tr>\n    <tr>\n      <th>...</th>\n      <td>...</td>\n      <td>...</td>\n      <td>...</td>\n      <td>...</td>\n      <td>...</td>\n      <td>...</td>\n      <td>...</td>\n      <td>...</td>\n      <td>...</td>\n    </tr>\n    <tr>\n      <th>541904</th>\n      <td>581587</td>\n      <td>22613</td>\n      <td>PACK OF 20 SPACEBOY NAPKINS</td>\n      <td>12</td>\n      <td>0.85</td>\n      <td>12680.0</td>\n      <td>France</td>\n      <td>10.20</td>\n      <td>2011-12-09</td>\n    </tr>\n    <tr>\n      <th>541905</th>\n      <td>581587</td>\n      <td>22899</td>\n      <td>CHILDREN'S APRON DOLLY GIRL</td>\n      <td>6</td>\n      <td>2.10</td>\n      <td>12680.0</td>\n      <td>France</td>\n      <td>12.60</td>\n      <td>2011-12-09</td>\n    </tr>\n    <tr>\n      <th>541906</th>\n      <td>581587</td>\n      <td>23254</td>\n      <td>CHILDRENS CUTLERY DOLLY GIRL</td>\n      <td>4</td>\n      <td>4.15</td>\n      <td>12680.0</td>\n      <td>France</td>\n      <td>16.60</td>\n      <td>2011-12-09</td>\n    </tr>\n    <tr>\n      <th>541907</th>\n      <td>581587</td>\n      <td>23255</td>\n      <td>CHILDRENS CUTLERY CIRCUS PARADE</td>\n      <td>4</td>\n      <td>4.15</td>\n      <td>12680.0</td>\n      <td>France</td>\n      <td>16.60</td>\n      <td>2011-12-09</td>\n    </tr>\n    <tr>\n      <th>541908</th>\n      <td>581587</td>\n      <td>22138</td>\n      <td>BAKING SET 9 PIECE RETROSPOT</td>\n      <td>3</td>\n      <td>4.95</td>\n      <td>12680.0</td>\n      <td>France</td>\n      <td>14.85</td>\n      <td>2011-12-09</td>\n    </tr>\n  </tbody>\n</table>\n<p>536641 rows × 9 columns</p>\n</div>"
     },
     "metadata": {},
     "execution_count": 72
    }
   ],
   "source": [
    "ecom = ecom.drop('InvoiceDateTime', 1) #DELETE DATETIME AXIS=1\n",
    "ecom"
   ]
  },
  {
   "cell_type": "code",
   "execution_count": 73,
   "metadata": {},
   "outputs": [
    {
     "output_type": "stream",
     "name": "stdout",
     "text": [
      "            Quantity      UnitPrice     CustomerID     TotalPrice\ncount  536641.000000  536641.000000  401604.000000  536641.000000\nmean        9.620029       4.632656   15281.160818      18.123861\nstd       219.130156      97.233118    1714.006089     380.656263\nmin    -80995.000000  -11062.060000   12346.000000 -168469.600000\n1%         -2.000000       0.190000   12415.000000      -6.624000\n5%          1.000000       0.420000   12621.000000       0.840000\n25%         1.000000       1.250000   13939.000000       3.750000\n50%         3.000000       2.080000   15145.000000       9.870000\n75%        10.000000       4.130000   16784.000000      17.400000\n95%        30.000000       9.950000   17898.000000      59.400000\n99%       100.000000      18.000000   18212.000000     180.368000\nmax     80995.000000   38970.000000   18287.000000  168469.600000\n"
     ]
    },
    {
     "output_type": "execute_result",
     "data": {
      "text/plain": [
       "       InvoiceNo StockCode                         Description  \\\n",
       "count     536641    536641                              535187   \n",
       "unique     25900      3958                                4223   \n",
       "top       573585    85123A  WHITE HANGING HEART T-LIGHT HOLDER   \n",
       "freq        1114      2368                                2357   \n",
       "\n",
       "               Country InvoiceDate  \n",
       "count           536641      536641  \n",
       "unique              38         305  \n",
       "top     United Kingdom  2011-12-05  \n",
       "freq            490300        5292  "
      ],
      "text/html": "<div>\n<style scoped>\n    .dataframe tbody tr th:only-of-type {\n        vertical-align: middle;\n    }\n\n    .dataframe tbody tr th {\n        vertical-align: top;\n    }\n\n    .dataframe thead th {\n        text-align: right;\n    }\n</style>\n<table border=\"1\" class=\"dataframe\">\n  <thead>\n    <tr style=\"text-align: right;\">\n      <th></th>\n      <th>InvoiceNo</th>\n      <th>StockCode</th>\n      <th>Description</th>\n      <th>Country</th>\n      <th>InvoiceDate</th>\n    </tr>\n  </thead>\n  <tbody>\n    <tr>\n      <th>count</th>\n      <td>536641</td>\n      <td>536641</td>\n      <td>535187</td>\n      <td>536641</td>\n      <td>536641</td>\n    </tr>\n    <tr>\n      <th>unique</th>\n      <td>25900</td>\n      <td>3958</td>\n      <td>4223</td>\n      <td>38</td>\n      <td>305</td>\n    </tr>\n    <tr>\n      <th>top</th>\n      <td>573585</td>\n      <td>85123A</td>\n      <td>WHITE HANGING HEART T-LIGHT HOLDER</td>\n      <td>United Kingdom</td>\n      <td>2011-12-05</td>\n    </tr>\n    <tr>\n      <th>freq</th>\n      <td>1114</td>\n      <td>2368</td>\n      <td>2357</td>\n      <td>490300</td>\n      <td>5292</td>\n    </tr>\n  </tbody>\n</table>\n</div>"
     },
     "metadata": {},
     "execution_count": 73
    }
   ],
   "source": [
    "print(ecom.describe(percentiles=[.01,.05,.25,.5,.75,.95,.99]))\n",
    "ecom.describe(include=[np.object])"
   ]
  },
  {
   "cell_type": "code",
   "execution_count": 75,
   "metadata": {},
   "outputs": [
    {
     "output_type": "stream",
     "name": "stdout",
     "text": [
      "The number of rows with negative Quantity: 10587\nThe number of rows with negative UnitPrice: 2\n"
     ]
    }
   ],
   "source": [
    "print(\"The number of rows with negative Quantity:\",sum(n < 0 for n in ecom.Quantity))\n",
    "print(\"The number of rows with negative UnitPrice:\",sum(n < 0 for n in ecom.UnitPrice))"
   ]
  },
  {
   "cell_type": "code",
   "execution_count": 76,
   "metadata": {},
   "outputs": [
    {
     "output_type": "execute_result",
     "data": {
      "text/plain": [
       "InvoiceNo      25900\n",
       "StockCode       3958\n",
       "Description     4223\n",
       "Quantity         722\n",
       "UnitPrice       1630\n",
       "CustomerID      4372\n",
       "Country           38\n",
       "TotalPrice      6204\n",
       "InvoiceDate      305\n",
       "dtype: int64"
      ]
     },
     "metadata": {},
     "execution_count": 76
    }
   ],
   "source": [
    "ecom.nunique()"
   ]
  },
  {
   "cell_type": "code",
   "execution_count": 84,
   "metadata": {},
   "outputs": [
    {
     "output_type": "execute_result",
     "data": {
      "text/plain": [
       "       InvoiceNo StockCode                     Description  Quantity  \\\n",
       "61619     541431     23166  MEDIUM CERAMIC TOP STORAGE JAR     74215   \n",
       "61624    C541433     23166  MEDIUM CERAMIC TOP STORAGE JAR    -74215   \n",
       "540421    581483     23843     PAPER CRAFT , LITTLE BIRDIE     80995   \n",
       "540422   C581484     23843     PAPER CRAFT , LITTLE BIRDIE    -80995   \n",
       "\n",
       "        UnitPrice  CustomerID         Country  TotalPrice InvoiceDate  \n",
       "61619        1.04     12346.0  United Kingdom     77183.6  2011-01-18  \n",
       "61624        1.04     12346.0  United Kingdom    -77183.6  2011-01-18  \n",
       "540421       2.08     16446.0  United Kingdom    168469.6  2011-12-09  \n",
       "540422       2.08     16446.0  United Kingdom   -168469.6  2011-12-09  "
      ],
      "text/html": "<div>\n<style scoped>\n    .dataframe tbody tr th:only-of-type {\n        vertical-align: middle;\n    }\n\n    .dataframe tbody tr th {\n        vertical-align: top;\n    }\n\n    .dataframe thead th {\n        text-align: right;\n    }\n</style>\n<table border=\"1\" class=\"dataframe\">\n  <thead>\n    <tr style=\"text-align: right;\">\n      <th></th>\n      <th>InvoiceNo</th>\n      <th>StockCode</th>\n      <th>Description</th>\n      <th>Quantity</th>\n      <th>UnitPrice</th>\n      <th>CustomerID</th>\n      <th>Country</th>\n      <th>TotalPrice</th>\n      <th>InvoiceDate</th>\n    </tr>\n  </thead>\n  <tbody>\n    <tr>\n      <th>61619</th>\n      <td>541431</td>\n      <td>23166</td>\n      <td>MEDIUM CERAMIC TOP STORAGE JAR</td>\n      <td>74215</td>\n      <td>1.04</td>\n      <td>12346.0</td>\n      <td>United Kingdom</td>\n      <td>77183.6</td>\n      <td>2011-01-18</td>\n    </tr>\n    <tr>\n      <th>61624</th>\n      <td>C541433</td>\n      <td>23166</td>\n      <td>MEDIUM CERAMIC TOP STORAGE JAR</td>\n      <td>-74215</td>\n      <td>1.04</td>\n      <td>12346.0</td>\n      <td>United Kingdom</td>\n      <td>-77183.6</td>\n      <td>2011-01-18</td>\n    </tr>\n    <tr>\n      <th>540421</th>\n      <td>581483</td>\n      <td>23843</td>\n      <td>PAPER CRAFT , LITTLE BIRDIE</td>\n      <td>80995</td>\n      <td>2.08</td>\n      <td>16446.0</td>\n      <td>United Kingdom</td>\n      <td>168469.6</td>\n      <td>2011-12-09</td>\n    </tr>\n    <tr>\n      <th>540422</th>\n      <td>C581484</td>\n      <td>23843</td>\n      <td>PAPER CRAFT , LITTLE BIRDIE</td>\n      <td>-80995</td>\n      <td>2.08</td>\n      <td>16446.0</td>\n      <td>United Kingdom</td>\n      <td>-168469.6</td>\n      <td>2011-12-09</td>\n    </tr>\n  </tbody>\n</table>\n</div>"
     },
     "metadata": {},
     "execution_count": 84
    }
   ],
   "source": [
    "ecom[ecom['Quantity'].abs()>60000]"
   ]
  },
  {
   "cell_type": "code",
   "execution_count": 85,
   "metadata": {},
   "outputs": [
    {
     "output_type": "execute_result",
     "data": {
      "text/plain": [
       "       InvoiceNo StockCode                          Description  Quantity  \\\n",
       "4287     C536757     84347  ROTATING SILVER ANGELS T-LIGHT HLDR     -9360   \n",
       "74614     542504     37413                                  NaN      5568   \n",
       "115818    546152    72140F                           throw away     -5368   \n",
       "225528    556687     23003         Printing smudges/thrown away     -9058   \n",
       "225529    556690     23005         printing smudges/thrown away     -9600   \n",
       "225530    556691     23005         printing smudges/thrown away     -9600   \n",
       "502122    578841     84826       ASSTD DESIGN 3D PAPER STICKERS     12540   \n",
       "\n",
       "        UnitPrice  CustomerID         Country  TotalPrice InvoiceDate  \n",
       "4287         0.03     15838.0  United Kingdom      -280.8  2010-12-02  \n",
       "74614        0.00         NaN  United Kingdom         0.0  2011-01-28  \n",
       "115818       0.00         NaN  United Kingdom        -0.0  2011-03-09  \n",
       "225528       0.00         NaN  United Kingdom        -0.0  2011-06-14  \n",
       "225529       0.00         NaN  United Kingdom        -0.0  2011-06-14  \n",
       "225530       0.00         NaN  United Kingdom        -0.0  2011-06-14  \n",
       "502122       0.00     13256.0  United Kingdom         0.0  2011-11-25  "
      ],
      "text/html": "<div>\n<style scoped>\n    .dataframe tbody tr th:only-of-type {\n        vertical-align: middle;\n    }\n\n    .dataframe tbody tr th {\n        vertical-align: top;\n    }\n\n    .dataframe thead th {\n        text-align: right;\n    }\n</style>\n<table border=\"1\" class=\"dataframe\">\n  <thead>\n    <tr style=\"text-align: right;\">\n      <th></th>\n      <th>InvoiceNo</th>\n      <th>StockCode</th>\n      <th>Description</th>\n      <th>Quantity</th>\n      <th>UnitPrice</th>\n      <th>CustomerID</th>\n      <th>Country</th>\n      <th>TotalPrice</th>\n      <th>InvoiceDate</th>\n    </tr>\n  </thead>\n  <tbody>\n    <tr>\n      <th>4287</th>\n      <td>C536757</td>\n      <td>84347</td>\n      <td>ROTATING SILVER ANGELS T-LIGHT HLDR</td>\n      <td>-9360</td>\n      <td>0.03</td>\n      <td>15838.0</td>\n      <td>United Kingdom</td>\n      <td>-280.8</td>\n      <td>2010-12-02</td>\n    </tr>\n    <tr>\n      <th>74614</th>\n      <td>542504</td>\n      <td>37413</td>\n      <td>NaN</td>\n      <td>5568</td>\n      <td>0.00</td>\n      <td>NaN</td>\n      <td>United Kingdom</td>\n      <td>0.0</td>\n      <td>2011-01-28</td>\n    </tr>\n    <tr>\n      <th>115818</th>\n      <td>546152</td>\n      <td>72140F</td>\n      <td>throw away</td>\n      <td>-5368</td>\n      <td>0.00</td>\n      <td>NaN</td>\n      <td>United Kingdom</td>\n      <td>-0.0</td>\n      <td>2011-03-09</td>\n    </tr>\n    <tr>\n      <th>225528</th>\n      <td>556687</td>\n      <td>23003</td>\n      <td>Printing smudges/thrown away</td>\n      <td>-9058</td>\n      <td>0.00</td>\n      <td>NaN</td>\n      <td>United Kingdom</td>\n      <td>-0.0</td>\n      <td>2011-06-14</td>\n    </tr>\n    <tr>\n      <th>225529</th>\n      <td>556690</td>\n      <td>23005</td>\n      <td>printing smudges/thrown away</td>\n      <td>-9600</td>\n      <td>0.00</td>\n      <td>NaN</td>\n      <td>United Kingdom</td>\n      <td>-0.0</td>\n      <td>2011-06-14</td>\n    </tr>\n    <tr>\n      <th>225530</th>\n      <td>556691</td>\n      <td>23005</td>\n      <td>printing smudges/thrown away</td>\n      <td>-9600</td>\n      <td>0.00</td>\n      <td>NaN</td>\n      <td>United Kingdom</td>\n      <td>-0.0</td>\n      <td>2011-06-14</td>\n    </tr>\n    <tr>\n      <th>502122</th>\n      <td>578841</td>\n      <td>84826</td>\n      <td>ASSTD DESIGN 3D PAPER STICKERS</td>\n      <td>12540</td>\n      <td>0.00</td>\n      <td>13256.0</td>\n      <td>United Kingdom</td>\n      <td>0.0</td>\n      <td>2011-11-25</td>\n    </tr>\n  </tbody>\n</table>\n</div>"
     },
     "metadata": {},
     "execution_count": 85
    }
   ],
   "source": [
    "ecom[(ecom['Quantity'].abs()>5000) & (ecom['Quantity'].abs()<20000)]"
   ]
  },
  {
   "cell_type": "code",
   "execution_count": 86,
   "metadata": {},
   "outputs": [
    {
     "output_type": "stream",
     "name": "stdout",
     "text": [
      "Number of rows in each column affected by existence of non-existing values:\n"
     ]
    },
    {
     "output_type": "execute_result",
     "data": {
      "text/plain": [
       "InvoiceNo           0\n",
       "StockCode           0\n",
       "Description      1454\n",
       "Quantity            0\n",
       "UnitPrice           0\n",
       "CustomerID     135037\n",
       "Country             0\n",
       "TotalPrice          0\n",
       "InvoiceDate         0\n",
       "dtype: int64"
      ]
     },
     "metadata": {},
     "execution_count": 86
    }
   ],
   "source": [
    "print('Number of rows in each column affected by existence of non-existing values:')\n",
    "ecom.isnull().sum()"
   ]
  },
  {
   "cell_type": "code",
   "execution_count": 87,
   "metadata": {},
   "outputs": [
    {
     "output_type": "execute_result",
     "data": {
      "text/plain": [
       "    InvoiceNo StockCode                        Description  Quantity  \\\n",
       "141   C536379         D                           Discount        -1   \n",
       "154   C536383    35004C    SET OF 3 COLOURED  FLYING DUCKS        -1   \n",
       "235   C536391     22556     PLASTERS IN TIN CIRCUS PARADE        -12   \n",
       "236   C536391     21984   PACK OF 12 PINK PAISLEY TISSUES        -24   \n",
       "237   C536391     21983   PACK OF 12 BLUE PAISLEY TISSUES        -24   \n",
       "238   C536391     21980  PACK OF 12 RED RETROSPOT TISSUES        -24   \n",
       "239   C536391     21484        CHICK GREY HOT WATER BOTTLE       -12   \n",
       "240   C536391     22557   PLASTERS IN TIN VINTAGE PAISLEY        -12   \n",
       "241   C536391     22553             PLASTERS IN TIN SKULLS       -24   \n",
       "939   C536506     22960           JAM MAKING SET WITH JARS        -6   \n",
       "\n",
       "     UnitPrice  CustomerID         Country  TotalPrice InvoiceDate  \n",
       "141      27.50     14527.0  United Kingdom      -27.50  2010-12-01  \n",
       "154       4.65     15311.0  United Kingdom       -4.65  2010-12-01  \n",
       "235       1.65     17548.0  United Kingdom      -19.80  2010-12-01  \n",
       "236       0.29     17548.0  United Kingdom       -6.96  2010-12-01  \n",
       "237       0.29     17548.0  United Kingdom       -6.96  2010-12-01  \n",
       "238       0.29     17548.0  United Kingdom       -6.96  2010-12-01  \n",
       "239       3.45     17548.0  United Kingdom      -41.40  2010-12-01  \n",
       "240       1.65     17548.0  United Kingdom      -19.80  2010-12-01  \n",
       "241       1.65     17548.0  United Kingdom      -39.60  2010-12-01  \n",
       "939       4.25     17897.0  United Kingdom      -25.50  2010-12-01  "
      ],
      "text/html": "<div>\n<style scoped>\n    .dataframe tbody tr th:only-of-type {\n        vertical-align: middle;\n    }\n\n    .dataframe tbody tr th {\n        vertical-align: top;\n    }\n\n    .dataframe thead th {\n        text-align: right;\n    }\n</style>\n<table border=\"1\" class=\"dataframe\">\n  <thead>\n    <tr style=\"text-align: right;\">\n      <th></th>\n      <th>InvoiceNo</th>\n      <th>StockCode</th>\n      <th>Description</th>\n      <th>Quantity</th>\n      <th>UnitPrice</th>\n      <th>CustomerID</th>\n      <th>Country</th>\n      <th>TotalPrice</th>\n      <th>InvoiceDate</th>\n    </tr>\n  </thead>\n  <tbody>\n    <tr>\n      <th>141</th>\n      <td>C536379</td>\n      <td>D</td>\n      <td>Discount</td>\n      <td>-1</td>\n      <td>27.50</td>\n      <td>14527.0</td>\n      <td>United Kingdom</td>\n      <td>-27.50</td>\n      <td>2010-12-01</td>\n    </tr>\n    <tr>\n      <th>154</th>\n      <td>C536383</td>\n      <td>35004C</td>\n      <td>SET OF 3 COLOURED  FLYING DUCKS</td>\n      <td>-1</td>\n      <td>4.65</td>\n      <td>15311.0</td>\n      <td>United Kingdom</td>\n      <td>-4.65</td>\n      <td>2010-12-01</td>\n    </tr>\n    <tr>\n      <th>235</th>\n      <td>C536391</td>\n      <td>22556</td>\n      <td>PLASTERS IN TIN CIRCUS PARADE</td>\n      <td>-12</td>\n      <td>1.65</td>\n      <td>17548.0</td>\n      <td>United Kingdom</td>\n      <td>-19.80</td>\n      <td>2010-12-01</td>\n    </tr>\n    <tr>\n      <th>236</th>\n      <td>C536391</td>\n      <td>21984</td>\n      <td>PACK OF 12 PINK PAISLEY TISSUES</td>\n      <td>-24</td>\n      <td>0.29</td>\n      <td>17548.0</td>\n      <td>United Kingdom</td>\n      <td>-6.96</td>\n      <td>2010-12-01</td>\n    </tr>\n    <tr>\n      <th>237</th>\n      <td>C536391</td>\n      <td>21983</td>\n      <td>PACK OF 12 BLUE PAISLEY TISSUES</td>\n      <td>-24</td>\n      <td>0.29</td>\n      <td>17548.0</td>\n      <td>United Kingdom</td>\n      <td>-6.96</td>\n      <td>2010-12-01</td>\n    </tr>\n    <tr>\n      <th>238</th>\n      <td>C536391</td>\n      <td>21980</td>\n      <td>PACK OF 12 RED RETROSPOT TISSUES</td>\n      <td>-24</td>\n      <td>0.29</td>\n      <td>17548.0</td>\n      <td>United Kingdom</td>\n      <td>-6.96</td>\n      <td>2010-12-01</td>\n    </tr>\n    <tr>\n      <th>239</th>\n      <td>C536391</td>\n      <td>21484</td>\n      <td>CHICK GREY HOT WATER BOTTLE</td>\n      <td>-12</td>\n      <td>3.45</td>\n      <td>17548.0</td>\n      <td>United Kingdom</td>\n      <td>-41.40</td>\n      <td>2010-12-01</td>\n    </tr>\n    <tr>\n      <th>240</th>\n      <td>C536391</td>\n      <td>22557</td>\n      <td>PLASTERS IN TIN VINTAGE PAISLEY</td>\n      <td>-12</td>\n      <td>1.65</td>\n      <td>17548.0</td>\n      <td>United Kingdom</td>\n      <td>-19.80</td>\n      <td>2010-12-01</td>\n    </tr>\n    <tr>\n      <th>241</th>\n      <td>C536391</td>\n      <td>22553</td>\n      <td>PLASTERS IN TIN SKULLS</td>\n      <td>-24</td>\n      <td>1.65</td>\n      <td>17548.0</td>\n      <td>United Kingdom</td>\n      <td>-39.60</td>\n      <td>2010-12-01</td>\n    </tr>\n    <tr>\n      <th>939</th>\n      <td>C536506</td>\n      <td>22960</td>\n      <td>JAM MAKING SET WITH JARS</td>\n      <td>-6</td>\n      <td>4.25</td>\n      <td>17897.0</td>\n      <td>United Kingdom</td>\n      <td>-25.50</td>\n      <td>2010-12-01</td>\n    </tr>\n  </tbody>\n</table>\n</div>"
     },
     "metadata": {},
     "execution_count": 87
    }
   ],
   "source": [
    "ecom[ecom['Quantity']<=0].head(10)"
   ]
  },
  {
   "cell_type": "code",
   "execution_count": 88,
   "metadata": {},
   "outputs": [
    {
     "output_type": "stream",
     "name": "stdout",
     "text": [
      "Descriptive statistics of numeric columns:\n           Quantity  UnitPrice  CustomerID  TotalPrice\ncount  1454.000000     1454.0         0.0      1454.0\nmean     -9.359697        0.0         NaN         0.0\nstd     243.238758        0.0         NaN         0.0\nmin   -3667.000000        0.0         NaN         0.0\n25%     -24.000000        0.0         NaN         0.0\n50%      -3.000000        0.0         NaN         0.0\n75%       4.000000        0.0         NaN         0.0\nmax    5568.000000        0.0         NaN         0.0\n\nDescriptive statistics of CustomerID columns:\n count    0.0\nmean     NaN\nstd      NaN\nmin      NaN\n25%      NaN\n50%      NaN\n75%      NaN\nmax      NaN\nName: CustomerID, dtype: float64\n"
     ]
    }
   ],
   "source": [
    "print('Descriptive statistics of numeric columns:\\n',ecom[ecom.Description.isnull()].describe())\n",
    "print('\\nDescriptive statistics of CustomerID columns:\\n',ecom[ecom.Description.isnull()].CustomerID.describe())"
   ]
  },
  {
   "cell_type": "code",
   "execution_count": null,
   "metadata": {},
   "outputs": [],
   "source": []
  }
 ]
}