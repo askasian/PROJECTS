{
 "metadata": {
  "language_info": {
   "codemirror_mode": {
    "name": "ipython",
    "version": 3
   },
   "file_extension": ".py",
   "mimetype": "text/x-python",
   "name": "python",
   "nbconvert_exporter": "python",
   "pygments_lexer": "ipython3",
   "version": "3.9.2-final"
  },
  "orig_nbformat": 2,
  "kernelspec": {
   "name": "python39264bit53189a78836a44bb83e468537909f6de",
   "display_name": "Python 3.9.2 64-bit"
  }
 },
 "nbformat": 4,
 "nbformat_minor": 2,
 "cells": [
  {
   "cell_type": "code",
   "execution_count": 424,
   "metadata": {},
   "outputs": [],
   "source": [
    "import pandas as pd \n",
    "import numpy as np \n",
    "import datetime as dt \n",
    "import seaborn as sns \n",
    "import matplotlib.pyplot as plt "
   ]
  },
  {
   "cell_type": "code",
   "execution_count": 425,
   "metadata": {},
   "outputs": [
    {
     "output_type": "execute_result",
     "data": {
      "text/plain": [
       "  InvoiceNo StockCode                          Description  Quantity  \\\n",
       "0    536365    85123A   WHITE HANGING HEART T-LIGHT HOLDER         6   \n",
       "1    536365     71053                  WHITE METAL LANTERN         6   \n",
       "2    536365    84406B       CREAM CUPID HEARTS COAT HANGER         8   \n",
       "3    536365    84029G  KNITTED UNION FLAG HOT WATER BOTTLE         6   \n",
       "4    536365    84029E       RED WOOLLY HOTTIE WHITE HEART.         6   \n",
       "\n",
       "      InvoiceDate  UnitPrice  CustomerID         Country  \n",
       "0  12/1/2010 8:26       2.55     17850.0  United Kingdom  \n",
       "1  12/1/2010 8:26       3.39     17850.0  United Kingdom  \n",
       "2  12/1/2010 8:26       2.75     17850.0  United Kingdom  \n",
       "3  12/1/2010 8:26       3.39     17850.0  United Kingdom  \n",
       "4  12/1/2010 8:26       3.39     17850.0  United Kingdom  "
      ],
      "text/html": "<div>\n<style scoped>\n    .dataframe tbody tr th:only-of-type {\n        vertical-align: middle;\n    }\n\n    .dataframe tbody tr th {\n        vertical-align: top;\n    }\n\n    .dataframe thead th {\n        text-align: right;\n    }\n</style>\n<table border=\"1\" class=\"dataframe\">\n  <thead>\n    <tr style=\"text-align: right;\">\n      <th></th>\n      <th>InvoiceNo</th>\n      <th>StockCode</th>\n      <th>Description</th>\n      <th>Quantity</th>\n      <th>InvoiceDate</th>\n      <th>UnitPrice</th>\n      <th>CustomerID</th>\n      <th>Country</th>\n    </tr>\n  </thead>\n  <tbody>\n    <tr>\n      <th>0</th>\n      <td>536365</td>\n      <td>85123A</td>\n      <td>WHITE HANGING HEART T-LIGHT HOLDER</td>\n      <td>6</td>\n      <td>12/1/2010 8:26</td>\n      <td>2.55</td>\n      <td>17850.0</td>\n      <td>United Kingdom</td>\n    </tr>\n    <tr>\n      <th>1</th>\n      <td>536365</td>\n      <td>71053</td>\n      <td>WHITE METAL LANTERN</td>\n      <td>6</td>\n      <td>12/1/2010 8:26</td>\n      <td>3.39</td>\n      <td>17850.0</td>\n      <td>United Kingdom</td>\n    </tr>\n    <tr>\n      <th>2</th>\n      <td>536365</td>\n      <td>84406B</td>\n      <td>CREAM CUPID HEARTS COAT HANGER</td>\n      <td>8</td>\n      <td>12/1/2010 8:26</td>\n      <td>2.75</td>\n      <td>17850.0</td>\n      <td>United Kingdom</td>\n    </tr>\n    <tr>\n      <th>3</th>\n      <td>536365</td>\n      <td>84029G</td>\n      <td>KNITTED UNION FLAG HOT WATER BOTTLE</td>\n      <td>6</td>\n      <td>12/1/2010 8:26</td>\n      <td>3.39</td>\n      <td>17850.0</td>\n      <td>United Kingdom</td>\n    </tr>\n    <tr>\n      <th>4</th>\n      <td>536365</td>\n      <td>84029E</td>\n      <td>RED WOOLLY HOTTIE WHITE HEART.</td>\n      <td>6</td>\n      <td>12/1/2010 8:26</td>\n      <td>3.39</td>\n      <td>17850.0</td>\n      <td>United Kingdom</td>\n    </tr>\n  </tbody>\n</table>\n</div>"
     },
     "metadata": {},
     "execution_count": 425
    }
   ],
   "source": [
    "ecom = pd.read_csv('ecomdata.csv')\n",
    "len(ecom.index)\n",
    "ecom.head()"
   ]
  },
  {
   "cell_type": "code",
   "execution_count": 426,
   "metadata": {},
   "outputs": [
    {
     "output_type": "execute_result",
     "data": {
      "text/plain": [
       "541909"
      ]
     },
     "metadata": {},
     "execution_count": 426
    }
   ],
   "source": [
    "len(ecom.index)"
   ]
  },
  {
   "cell_type": "code",
   "execution_count": 427,
   "metadata": {},
   "outputs": [
    {
     "output_type": "execute_result",
     "data": {
      "text/plain": [
       "8"
      ]
     },
     "metadata": {},
     "execution_count": 427
    }
   ],
   "source": [
    "len(ecom.columns)"
   ]
  },
  {
   "cell_type": "code",
   "execution_count": 428,
   "metadata": {},
   "outputs": [],
   "source": [
    "#CHEK DUPLICATES"
   ]
  },
  {
   "cell_type": "code",
   "execution_count": 429,
   "metadata": {},
   "outputs": [
    {
     "output_type": "stream",
     "name": "stdout",
     "text": [
      "5268 rows affected\n"
     ]
    },
    {
     "output_type": "execute_result",
     "data": {
      "text/plain": [
       "InvoiceNo       object\n",
       "StockCode       object\n",
       "Description     object\n",
       "Quantity         int64\n",
       "InvoiceDate     object\n",
       "UnitPrice      float64\n",
       "CustomerID     float64\n",
       "Country         object\n",
       "dtype: object"
      ]
     },
     "metadata": {},
     "execution_count": 429
    }
   ],
   "source": [
    "print(sum(ecom.duplicated(keep='first')), 'rows affected')\n",
    "ecom.dtypes"
   ]
  },
  {
   "cell_type": "code",
   "execution_count": 430,
   "metadata": {},
   "outputs": [],
   "source": [
    "ecom=ecom.drop_duplicates() #DELETE DUPLICATING LINES"
   ]
  },
  {
   "cell_type": "code",
   "execution_count": 431,
   "metadata": {},
   "outputs": [
    {
     "output_type": "execute_result",
     "data": {
      "text/plain": [
       "0         85123A\n",
       "1          71053\n",
       "2         84406B\n",
       "3         84029G\n",
       "4         84029E\n",
       "           ...  \n",
       "541904     22613\n",
       "541905     22899\n",
       "541906     23254\n",
       "541907     23255\n",
       "541908     22138\n",
       "Name: StockCode, Length: 536641, dtype: object"
      ]
     },
     "metadata": {},
     "execution_count": 431
    }
   ],
   "source": [
    "ecom['StockCode']"
   ]
  },
  {
   "cell_type": "code",
   "execution_count": 432,
   "metadata": {},
   "outputs": [
    {
     "output_type": "execute_result",
     "data": {
      "text/plain": [
       "       InvoiceNo StockCode                          Description  Quantity  \\\n",
       "0         536365    85123A   WHITE HANGING HEART T-LIGHT HOLDER         6   \n",
       "1         536365     71053                  WHITE METAL LANTERN         6   \n",
       "2         536365    84406B       CREAM CUPID HEARTS COAT HANGER         8   \n",
       "3         536365    84029G  KNITTED UNION FLAG HOT WATER BOTTLE         6   \n",
       "4         536365    84029E       RED WOOLLY HOTTIE WHITE HEART.         6   \n",
       "...          ...       ...                                  ...       ...   \n",
       "541904    581587     22613          PACK OF 20 SPACEBOY NAPKINS        12   \n",
       "541905    581587     22899         CHILDREN'S APRON DOLLY GIRL          6   \n",
       "541906    581587     23254        CHILDRENS CUTLERY DOLLY GIRL          4   \n",
       "541907    581587     23255      CHILDRENS CUTLERY CIRCUS PARADE         4   \n",
       "541908    581587     22138        BAKING SET 9 PIECE RETROSPOT          3   \n",
       "\n",
       "            InvoiceDate  UnitPrice  CustomerID         Country  \n",
       "0        12/1/2010 8:26       2.55     17850.0  United Kingdom  \n",
       "1        12/1/2010 8:26       3.39     17850.0  United Kingdom  \n",
       "2        12/1/2010 8:26       2.75     17850.0  United Kingdom  \n",
       "3        12/1/2010 8:26       3.39     17850.0  United Kingdom  \n",
       "4        12/1/2010 8:26       3.39     17850.0  United Kingdom  \n",
       "...                 ...        ...         ...             ...  \n",
       "541904  12/9/2011 12:50       0.85     12680.0          France  \n",
       "541905  12/9/2011 12:50       2.10     12680.0          France  \n",
       "541906  12/9/2011 12:50       4.15     12680.0          France  \n",
       "541907  12/9/2011 12:50       4.15     12680.0          France  \n",
       "541908  12/9/2011 12:50       4.95     12680.0          France  \n",
       "\n",
       "[536641 rows x 8 columns]"
      ],
      "text/html": "<div>\n<style scoped>\n    .dataframe tbody tr th:only-of-type {\n        vertical-align: middle;\n    }\n\n    .dataframe tbody tr th {\n        vertical-align: top;\n    }\n\n    .dataframe thead th {\n        text-align: right;\n    }\n</style>\n<table border=\"1\" class=\"dataframe\">\n  <thead>\n    <tr style=\"text-align: right;\">\n      <th></th>\n      <th>InvoiceNo</th>\n      <th>StockCode</th>\n      <th>Description</th>\n      <th>Quantity</th>\n      <th>InvoiceDate</th>\n      <th>UnitPrice</th>\n      <th>CustomerID</th>\n      <th>Country</th>\n    </tr>\n  </thead>\n  <tbody>\n    <tr>\n      <th>0</th>\n      <td>536365</td>\n      <td>85123A</td>\n      <td>WHITE HANGING HEART T-LIGHT HOLDER</td>\n      <td>6</td>\n      <td>12/1/2010 8:26</td>\n      <td>2.55</td>\n      <td>17850.0</td>\n      <td>United Kingdom</td>\n    </tr>\n    <tr>\n      <th>1</th>\n      <td>536365</td>\n      <td>71053</td>\n      <td>WHITE METAL LANTERN</td>\n      <td>6</td>\n      <td>12/1/2010 8:26</td>\n      <td>3.39</td>\n      <td>17850.0</td>\n      <td>United Kingdom</td>\n    </tr>\n    <tr>\n      <th>2</th>\n      <td>536365</td>\n      <td>84406B</td>\n      <td>CREAM CUPID HEARTS COAT HANGER</td>\n      <td>8</td>\n      <td>12/1/2010 8:26</td>\n      <td>2.75</td>\n      <td>17850.0</td>\n      <td>United Kingdom</td>\n    </tr>\n    <tr>\n      <th>3</th>\n      <td>536365</td>\n      <td>84029G</td>\n      <td>KNITTED UNION FLAG HOT WATER BOTTLE</td>\n      <td>6</td>\n      <td>12/1/2010 8:26</td>\n      <td>3.39</td>\n      <td>17850.0</td>\n      <td>United Kingdom</td>\n    </tr>\n    <tr>\n      <th>4</th>\n      <td>536365</td>\n      <td>84029E</td>\n      <td>RED WOOLLY HOTTIE WHITE HEART.</td>\n      <td>6</td>\n      <td>12/1/2010 8:26</td>\n      <td>3.39</td>\n      <td>17850.0</td>\n      <td>United Kingdom</td>\n    </tr>\n    <tr>\n      <th>...</th>\n      <td>...</td>\n      <td>...</td>\n      <td>...</td>\n      <td>...</td>\n      <td>...</td>\n      <td>...</td>\n      <td>...</td>\n      <td>...</td>\n    </tr>\n    <tr>\n      <th>541904</th>\n      <td>581587</td>\n      <td>22613</td>\n      <td>PACK OF 20 SPACEBOY NAPKINS</td>\n      <td>12</td>\n      <td>12/9/2011 12:50</td>\n      <td>0.85</td>\n      <td>12680.0</td>\n      <td>France</td>\n    </tr>\n    <tr>\n      <th>541905</th>\n      <td>581587</td>\n      <td>22899</td>\n      <td>CHILDREN'S APRON DOLLY GIRL</td>\n      <td>6</td>\n      <td>12/9/2011 12:50</td>\n      <td>2.10</td>\n      <td>12680.0</td>\n      <td>France</td>\n    </tr>\n    <tr>\n      <th>541906</th>\n      <td>581587</td>\n      <td>23254</td>\n      <td>CHILDRENS CUTLERY DOLLY GIRL</td>\n      <td>4</td>\n      <td>12/9/2011 12:50</td>\n      <td>4.15</td>\n      <td>12680.0</td>\n      <td>France</td>\n    </tr>\n    <tr>\n      <th>541907</th>\n      <td>581587</td>\n      <td>23255</td>\n      <td>CHILDRENS CUTLERY CIRCUS PARADE</td>\n      <td>4</td>\n      <td>12/9/2011 12:50</td>\n      <td>4.15</td>\n      <td>12680.0</td>\n      <td>France</td>\n    </tr>\n    <tr>\n      <th>541908</th>\n      <td>581587</td>\n      <td>22138</td>\n      <td>BAKING SET 9 PIECE RETROSPOT</td>\n      <td>3</td>\n      <td>12/9/2011 12:50</td>\n      <td>4.95</td>\n      <td>12680.0</td>\n      <td>France</td>\n    </tr>\n  </tbody>\n</table>\n<p>536641 rows × 8 columns</p>\n</div>"
     },
     "metadata": {},
     "execution_count": 432
    }
   ],
   "source": [
    "ecom"
   ]
  },
  {
   "cell_type": "code",
   "execution_count": 433,
   "metadata": {},
   "outputs": [
    {
     "output_type": "execute_result",
     "data": {
      "text/plain": [
       "       InvoiceNo StockCode                          Description  Quantity  \\\n",
       "0         536365    85123A   WHITE HANGING HEART T-LIGHT HOLDER         6   \n",
       "1         536365     71053                  WHITE METAL LANTERN         6   \n",
       "2         536365    84406B       CREAM CUPID HEARTS COAT HANGER         8   \n",
       "3         536365    84029G  KNITTED UNION FLAG HOT WATER BOTTLE         6   \n",
       "4         536365    84029E       RED WOOLLY HOTTIE WHITE HEART.         6   \n",
       "...          ...       ...                                  ...       ...   \n",
       "541904    581587     22613          PACK OF 20 SPACEBOY NAPKINS        12   \n",
       "541905    581587     22899         CHILDREN'S APRON DOLLY GIRL          6   \n",
       "541906    581587     23254        CHILDRENS CUTLERY DOLLY GIRL          4   \n",
       "541907    581587     23255      CHILDRENS CUTLERY CIRCUS PARADE         4   \n",
       "541908    581587     22138        BAKING SET 9 PIECE RETROSPOT          3   \n",
       "\n",
       "            InvoiceDate  UnitPrice  CustomerID         Country  TotalPrice  \n",
       "0        12/1/2010 8:26       2.55     17850.0  United Kingdom       15.30  \n",
       "1        12/1/2010 8:26       3.39     17850.0  United Kingdom       20.34  \n",
       "2        12/1/2010 8:26       2.75     17850.0  United Kingdom       22.00  \n",
       "3        12/1/2010 8:26       3.39     17850.0  United Kingdom       20.34  \n",
       "4        12/1/2010 8:26       3.39     17850.0  United Kingdom       20.34  \n",
       "...                 ...        ...         ...             ...         ...  \n",
       "541904  12/9/2011 12:50       0.85     12680.0          France       10.20  \n",
       "541905  12/9/2011 12:50       2.10     12680.0          France       12.60  \n",
       "541906  12/9/2011 12:50       4.15     12680.0          France       16.60  \n",
       "541907  12/9/2011 12:50       4.15     12680.0          France       16.60  \n",
       "541908  12/9/2011 12:50       4.95     12680.0          France       14.85  \n",
       "\n",
       "[536641 rows x 9 columns]"
      ],
      "text/html": "<div>\n<style scoped>\n    .dataframe tbody tr th:only-of-type {\n        vertical-align: middle;\n    }\n\n    .dataframe tbody tr th {\n        vertical-align: top;\n    }\n\n    .dataframe thead th {\n        text-align: right;\n    }\n</style>\n<table border=\"1\" class=\"dataframe\">\n  <thead>\n    <tr style=\"text-align: right;\">\n      <th></th>\n      <th>InvoiceNo</th>\n      <th>StockCode</th>\n      <th>Description</th>\n      <th>Quantity</th>\n      <th>InvoiceDate</th>\n      <th>UnitPrice</th>\n      <th>CustomerID</th>\n      <th>Country</th>\n      <th>TotalPrice</th>\n    </tr>\n  </thead>\n  <tbody>\n    <tr>\n      <th>0</th>\n      <td>536365</td>\n      <td>85123A</td>\n      <td>WHITE HANGING HEART T-LIGHT HOLDER</td>\n      <td>6</td>\n      <td>12/1/2010 8:26</td>\n      <td>2.55</td>\n      <td>17850.0</td>\n      <td>United Kingdom</td>\n      <td>15.30</td>\n    </tr>\n    <tr>\n      <th>1</th>\n      <td>536365</td>\n      <td>71053</td>\n      <td>WHITE METAL LANTERN</td>\n      <td>6</td>\n      <td>12/1/2010 8:26</td>\n      <td>3.39</td>\n      <td>17850.0</td>\n      <td>United Kingdom</td>\n      <td>20.34</td>\n    </tr>\n    <tr>\n      <th>2</th>\n      <td>536365</td>\n      <td>84406B</td>\n      <td>CREAM CUPID HEARTS COAT HANGER</td>\n      <td>8</td>\n      <td>12/1/2010 8:26</td>\n      <td>2.75</td>\n      <td>17850.0</td>\n      <td>United Kingdom</td>\n      <td>22.00</td>\n    </tr>\n    <tr>\n      <th>3</th>\n      <td>536365</td>\n      <td>84029G</td>\n      <td>KNITTED UNION FLAG HOT WATER BOTTLE</td>\n      <td>6</td>\n      <td>12/1/2010 8:26</td>\n      <td>3.39</td>\n      <td>17850.0</td>\n      <td>United Kingdom</td>\n      <td>20.34</td>\n    </tr>\n    <tr>\n      <th>4</th>\n      <td>536365</td>\n      <td>84029E</td>\n      <td>RED WOOLLY HOTTIE WHITE HEART.</td>\n      <td>6</td>\n      <td>12/1/2010 8:26</td>\n      <td>3.39</td>\n      <td>17850.0</td>\n      <td>United Kingdom</td>\n      <td>20.34</td>\n    </tr>\n    <tr>\n      <th>...</th>\n      <td>...</td>\n      <td>...</td>\n      <td>...</td>\n      <td>...</td>\n      <td>...</td>\n      <td>...</td>\n      <td>...</td>\n      <td>...</td>\n      <td>...</td>\n    </tr>\n    <tr>\n      <th>541904</th>\n      <td>581587</td>\n      <td>22613</td>\n      <td>PACK OF 20 SPACEBOY NAPKINS</td>\n      <td>12</td>\n      <td>12/9/2011 12:50</td>\n      <td>0.85</td>\n      <td>12680.0</td>\n      <td>France</td>\n      <td>10.20</td>\n    </tr>\n    <tr>\n      <th>541905</th>\n      <td>581587</td>\n      <td>22899</td>\n      <td>CHILDREN'S APRON DOLLY GIRL</td>\n      <td>6</td>\n      <td>12/9/2011 12:50</td>\n      <td>2.10</td>\n      <td>12680.0</td>\n      <td>France</td>\n      <td>12.60</td>\n    </tr>\n    <tr>\n      <th>541906</th>\n      <td>581587</td>\n      <td>23254</td>\n      <td>CHILDRENS CUTLERY DOLLY GIRL</td>\n      <td>4</td>\n      <td>12/9/2011 12:50</td>\n      <td>4.15</td>\n      <td>12680.0</td>\n      <td>France</td>\n      <td>16.60</td>\n    </tr>\n    <tr>\n      <th>541907</th>\n      <td>581587</td>\n      <td>23255</td>\n      <td>CHILDRENS CUTLERY CIRCUS PARADE</td>\n      <td>4</td>\n      <td>12/9/2011 12:50</td>\n      <td>4.15</td>\n      <td>12680.0</td>\n      <td>France</td>\n      <td>16.60</td>\n    </tr>\n    <tr>\n      <th>541908</th>\n      <td>581587</td>\n      <td>22138</td>\n      <td>BAKING SET 9 PIECE RETROSPOT</td>\n      <td>3</td>\n      <td>12/9/2011 12:50</td>\n      <td>4.95</td>\n      <td>12680.0</td>\n      <td>France</td>\n      <td>14.85</td>\n    </tr>\n  </tbody>\n</table>\n<p>536641 rows × 9 columns</p>\n</div>"
     },
     "metadata": {},
     "execution_count": 433
    }
   ],
   "source": [
    "ecom['TotalPrice']=ecom['Quantity']*ecom['UnitPrice']\n",
    "ecom"
   ]
  },
  {
   "cell_type": "code",
   "execution_count": 434,
   "metadata": {},
   "outputs": [
    {
     "output_type": "stream",
     "name": "stdout",
     "text": [
      "<class 'pandas.core.frame.DataFrame'>\nInt64Index: 536641 entries, 0 to 541908\nData columns (total 9 columns):\n #   Column       Non-Null Count   Dtype  \n---  ------       --------------   -----  \n 0   InvoiceNo    536641 non-null  object \n 1   StockCode    536641 non-null  object \n 2   Description  535187 non-null  object \n 3   Quantity     536641 non-null  int64  \n 4   InvoiceDate  536641 non-null  object \n 5   UnitPrice    536641 non-null  float64\n 6   CustomerID   401604 non-null  float64\n 7   Country      536641 non-null  object \n 8   TotalPrice   536641 non-null  float64\ndtypes: float64(3), int64(1), object(5)\nmemory usage: 40.9+ MB\n"
     ]
    }
   ],
   "source": [
    "ecom.info()"
   ]
  },
  {
   "cell_type": "code",
   "execution_count": 435,
   "metadata": {},
   "outputs": [
    {
     "output_type": "execute_result",
     "data": {
      "text/plain": [
       "InvoiceNo       581483\n",
       "TotalPrice    168469.6\n",
       "CustomerID     16446.0\n",
       "Name: 540421, dtype: object"
      ]
     },
     "metadata": {},
     "execution_count": 435
    }
   ],
   "source": [
    "ecom.loc[ecom['TotalPrice'].idxmax()][['InvoiceNo', 'TotalPrice', 'CustomerID']]"
   ]
  },
  {
   "cell_type": "code",
   "execution_count": 436,
   "metadata": {},
   "outputs": [
    {
     "output_type": "execute_result",
     "data": {
      "text/plain": [
       "18.123861117581395"
      ]
     },
     "metadata": {},
     "execution_count": 436
    }
   ],
   "source": [
    "ecom['TotalPrice'].mean()"
   ]
  },
  {
   "cell_type": "code",
   "execution_count": 437,
   "metadata": {},
   "outputs": [
    {
     "output_type": "execute_result",
     "data": {
      "text/plain": [
       "InvoiceNo      C581484\n",
       "TotalPrice   -168469.6\n",
       "CustomerID     16446.0\n",
       "Name: 540422, dtype: object"
      ]
     },
     "metadata": {},
     "execution_count": 437
    }
   ],
   "source": [
    "ecom.loc[ecom['TotalPrice'].idxmin()][['InvoiceNo', 'TotalPrice', 'CustomerID']]"
   ]
  },
  {
   "cell_type": "code",
   "execution_count": 438,
   "metadata": {},
   "outputs": [
    {
     "output_type": "stream",
     "name": "stdout",
     "text": [
      "168469.6\n-168469.6\n"
     ]
    }
   ],
   "source": [
    "print(ecom['TotalPrice'].max())\n",
    "print(ecom['TotalPrice'].min())"
   ]
  },
  {
   "cell_type": "code",
   "execution_count": 439,
   "metadata": {},
   "outputs": [
    {
     "output_type": "execute_result",
     "data": {
      "text/plain": [
       "490300"
      ]
     },
     "metadata": {},
     "execution_count": 439
    }
   ],
   "source": [
    "ecom[ecom['Country']=='United Kingdom']['Country'].count()"
   ]
  },
  {
   "cell_type": "code",
   "execution_count": 440,
   "metadata": {},
   "outputs": [
    {
     "output_type": "execute_result",
     "data": {
      "text/plain": [
       "38"
      ]
     },
     "metadata": {},
     "execution_count": 440
    }
   ],
   "source": [
    "ecom['Country'].nunique()"
   ]
  },
  {
   "cell_type": "code",
   "execution_count": 441,
   "metadata": {},
   "outputs": [
    {
     "output_type": "execute_result",
     "data": {
      "text/plain": [
       "InvoiceNo\n",
       "536365        139.12\n",
       "536366         22.20\n",
       "536367        278.73\n",
       "536368         70.05\n",
       "536369         17.85\n",
       "             ...    \n",
       "C581484   -168469.60\n",
       "C581490       -32.53\n",
       "C581499      -224.69\n",
       "C581568       -54.75\n",
       "C581569        -7.50\n",
       "Name: TotalPrice, Length: 25900, dtype: float64"
      ]
     },
     "metadata": {},
     "execution_count": 441
    }
   ],
   "source": [
    "ecom.groupby('InvoiceNo')['TotalPrice'].sum()"
   ]
  },
  {
   "cell_type": "code",
   "execution_count": 442,
   "metadata": {},
   "outputs": [
    {
     "output_type": "execute_result",
     "data": {
      "text/plain": [
       "25900"
      ]
     },
     "metadata": {},
     "execution_count": 442
    }
   ],
   "source": [
    "ecom['InvoiceNo'].nunique() #COUNT UNIQUE INVOICES"
   ]
  },
  {
   "cell_type": "code",
   "execution_count": 443,
   "metadata": {},
   "outputs": [
    {
     "output_type": "execute_result",
     "data": {
      "text/plain": [
       "4372"
      ]
     },
     "metadata": {},
     "execution_count": 443
    }
   ],
   "source": [
    "ecom['CustomerID'].nunique() #COUNT UNIQUE CUSTOMERS"
   ]
  },
  {
   "cell_type": "code",
   "execution_count": 444,
   "metadata": {},
   "outputs": [],
   "source": [
    "#MAX PRICE PER UNIT"
   ]
  },
  {
   "cell_type": "code",
   "execution_count": 445,
   "metadata": {},
   "outputs": [
    {
     "output_type": "execute_result",
     "data": {
      "text/plain": [
       "Description     Manual\n",
       "UnitPrice      38970.0\n",
       "InvoiceNo      C556445\n",
       "Name: 222681, dtype: object"
      ]
     },
     "metadata": {},
     "execution_count": 445
    }
   ],
   "source": [
    "ecom.loc[ecom['UnitPrice'].idxmax()][['Description', 'UnitPrice', 'InvoiceNo']]"
   ]
  },
  {
   "cell_type": "code",
   "execution_count": 446,
   "metadata": {},
   "outputs": [
    {
     "output_type": "execute_result",
     "data": {
      "text/plain": [
       "       InvoiceNo StockCode                          Description  Quantity  \\\n",
       "0         536365    85123A   WHITE HANGING HEART T-LIGHT HOLDER         6   \n",
       "1         536365     71053                  WHITE METAL LANTERN         6   \n",
       "2         536365    84406B       CREAM CUPID HEARTS COAT HANGER         8   \n",
       "3         536365    84029G  KNITTED UNION FLAG HOT WATER BOTTLE         6   \n",
       "4         536365    84029E       RED WOOLLY HOTTIE WHITE HEART.         6   \n",
       "...          ...       ...                                  ...       ...   \n",
       "541904    581587     22613          PACK OF 20 SPACEBOY NAPKINS        12   \n",
       "541905    581587     22899         CHILDREN'S APRON DOLLY GIRL          6   \n",
       "541906    581587     23254        CHILDRENS CUTLERY DOLLY GIRL          4   \n",
       "541907    581587     23255      CHILDRENS CUTLERY CIRCUS PARADE         4   \n",
       "541908    581587     22138        BAKING SET 9 PIECE RETROSPOT          3   \n",
       "\n",
       "               InvoiceDate  UnitPrice  CustomerID         Country  TotalPrice  \n",
       "0      2010-12-01 08:26:00       2.55     17850.0  United Kingdom       15.30  \n",
       "1      2010-12-01 08:26:00       3.39     17850.0  United Kingdom       20.34  \n",
       "2      2010-12-01 08:26:00       2.75     17850.0  United Kingdom       22.00  \n",
       "3      2010-12-01 08:26:00       3.39     17850.0  United Kingdom       20.34  \n",
       "4      2010-12-01 08:26:00       3.39     17850.0  United Kingdom       20.34  \n",
       "...                    ...        ...         ...             ...         ...  \n",
       "541904 2011-12-09 12:50:00       0.85     12680.0          France       10.20  \n",
       "541905 2011-12-09 12:50:00       2.10     12680.0          France       12.60  \n",
       "541906 2011-12-09 12:50:00       4.15     12680.0          France       16.60  \n",
       "541907 2011-12-09 12:50:00       4.15     12680.0          France       16.60  \n",
       "541908 2011-12-09 12:50:00       4.95     12680.0          France       14.85  \n",
       "\n",
       "[536641 rows x 9 columns]"
      ],
      "text/html": "<div>\n<style scoped>\n    .dataframe tbody tr th:only-of-type {\n        vertical-align: middle;\n    }\n\n    .dataframe tbody tr th {\n        vertical-align: top;\n    }\n\n    .dataframe thead th {\n        text-align: right;\n    }\n</style>\n<table border=\"1\" class=\"dataframe\">\n  <thead>\n    <tr style=\"text-align: right;\">\n      <th></th>\n      <th>InvoiceNo</th>\n      <th>StockCode</th>\n      <th>Description</th>\n      <th>Quantity</th>\n      <th>InvoiceDate</th>\n      <th>UnitPrice</th>\n      <th>CustomerID</th>\n      <th>Country</th>\n      <th>TotalPrice</th>\n    </tr>\n  </thead>\n  <tbody>\n    <tr>\n      <th>0</th>\n      <td>536365</td>\n      <td>85123A</td>\n      <td>WHITE HANGING HEART T-LIGHT HOLDER</td>\n      <td>6</td>\n      <td>2010-12-01 08:26:00</td>\n      <td>2.55</td>\n      <td>17850.0</td>\n      <td>United Kingdom</td>\n      <td>15.30</td>\n    </tr>\n    <tr>\n      <th>1</th>\n      <td>536365</td>\n      <td>71053</td>\n      <td>WHITE METAL LANTERN</td>\n      <td>6</td>\n      <td>2010-12-01 08:26:00</td>\n      <td>3.39</td>\n      <td>17850.0</td>\n      <td>United Kingdom</td>\n      <td>20.34</td>\n    </tr>\n    <tr>\n      <th>2</th>\n      <td>536365</td>\n      <td>84406B</td>\n      <td>CREAM CUPID HEARTS COAT HANGER</td>\n      <td>8</td>\n      <td>2010-12-01 08:26:00</td>\n      <td>2.75</td>\n      <td>17850.0</td>\n      <td>United Kingdom</td>\n      <td>22.00</td>\n    </tr>\n    <tr>\n      <th>3</th>\n      <td>536365</td>\n      <td>84029G</td>\n      <td>KNITTED UNION FLAG HOT WATER BOTTLE</td>\n      <td>6</td>\n      <td>2010-12-01 08:26:00</td>\n      <td>3.39</td>\n      <td>17850.0</td>\n      <td>United Kingdom</td>\n      <td>20.34</td>\n    </tr>\n    <tr>\n      <th>4</th>\n      <td>536365</td>\n      <td>84029E</td>\n      <td>RED WOOLLY HOTTIE WHITE HEART.</td>\n      <td>6</td>\n      <td>2010-12-01 08:26:00</td>\n      <td>3.39</td>\n      <td>17850.0</td>\n      <td>United Kingdom</td>\n      <td>20.34</td>\n    </tr>\n    <tr>\n      <th>...</th>\n      <td>...</td>\n      <td>...</td>\n      <td>...</td>\n      <td>...</td>\n      <td>...</td>\n      <td>...</td>\n      <td>...</td>\n      <td>...</td>\n      <td>...</td>\n    </tr>\n    <tr>\n      <th>541904</th>\n      <td>581587</td>\n      <td>22613</td>\n      <td>PACK OF 20 SPACEBOY NAPKINS</td>\n      <td>12</td>\n      <td>2011-12-09 12:50:00</td>\n      <td>0.85</td>\n      <td>12680.0</td>\n      <td>France</td>\n      <td>10.20</td>\n    </tr>\n    <tr>\n      <th>541905</th>\n      <td>581587</td>\n      <td>22899</td>\n      <td>CHILDREN'S APRON DOLLY GIRL</td>\n      <td>6</td>\n      <td>2011-12-09 12:50:00</td>\n      <td>2.10</td>\n      <td>12680.0</td>\n      <td>France</td>\n      <td>12.60</td>\n    </tr>\n    <tr>\n      <th>541906</th>\n      <td>581587</td>\n      <td>23254</td>\n      <td>CHILDRENS CUTLERY DOLLY GIRL</td>\n      <td>4</td>\n      <td>2011-12-09 12:50:00</td>\n      <td>4.15</td>\n      <td>12680.0</td>\n      <td>France</td>\n      <td>16.60</td>\n    </tr>\n    <tr>\n      <th>541907</th>\n      <td>581587</td>\n      <td>23255</td>\n      <td>CHILDRENS CUTLERY CIRCUS PARADE</td>\n      <td>4</td>\n      <td>2011-12-09 12:50:00</td>\n      <td>4.15</td>\n      <td>12680.0</td>\n      <td>France</td>\n      <td>16.60</td>\n    </tr>\n    <tr>\n      <th>541908</th>\n      <td>581587</td>\n      <td>22138</td>\n      <td>BAKING SET 9 PIECE RETROSPOT</td>\n      <td>3</td>\n      <td>2011-12-09 12:50:00</td>\n      <td>4.95</td>\n      <td>12680.0</td>\n      <td>France</td>\n      <td>14.85</td>\n    </tr>\n  </tbody>\n</table>\n<p>536641 rows × 9 columns</p>\n</div>"
     },
     "metadata": {},
     "execution_count": 446
    }
   ],
   "source": [
    "ecom.InvoiceDate = pd.to_datetime(ecom.InvoiceDate, format=\"%m/%d/%Y %H:%M\")\n",
    "ecom"
   ]
  },
  {
   "cell_type": "code",
   "execution_count": 447,
   "metadata": {},
   "outputs": [
    {
     "output_type": "execute_result",
     "data": {
      "text/plain": [
       "       InvoiceNo StockCode                          Description  Quantity  \\\n",
       "0         536365    85123A   WHITE HANGING HEART T-LIGHT HOLDER         6   \n",
       "1         536365     71053                  WHITE METAL LANTERN         6   \n",
       "2         536365    84406B       CREAM CUPID HEARTS COAT HANGER         8   \n",
       "3         536365    84029G  KNITTED UNION FLAG HOT WATER BOTTLE         6   \n",
       "4         536365    84029E       RED WOOLLY HOTTIE WHITE HEART.         6   \n",
       "...          ...       ...                                  ...       ...   \n",
       "541904    581587     22613          PACK OF 20 SPACEBOY NAPKINS        12   \n",
       "541905    581587     22899         CHILDREN'S APRON DOLLY GIRL          6   \n",
       "541906    581587     23254        CHILDRENS CUTLERY DOLLY GIRL          4   \n",
       "541907    581587     23255      CHILDRENS CUTLERY CIRCUS PARADE         4   \n",
       "541908    581587     22138        BAKING SET 9 PIECE RETROSPOT          3   \n",
       "\n",
       "           InvoiceDateTime  UnitPrice  CustomerID         Country  TotalPrice  \n",
       "0      2010-12-01 08:26:00       2.55     17850.0  United Kingdom       15.30  \n",
       "1      2010-12-01 08:26:00       3.39     17850.0  United Kingdom       20.34  \n",
       "2      2010-12-01 08:26:00       2.75     17850.0  United Kingdom       22.00  \n",
       "3      2010-12-01 08:26:00       3.39     17850.0  United Kingdom       20.34  \n",
       "4      2010-12-01 08:26:00       3.39     17850.0  United Kingdom       20.34  \n",
       "...                    ...        ...         ...             ...         ...  \n",
       "541904 2011-12-09 12:50:00       0.85     12680.0          France       10.20  \n",
       "541905 2011-12-09 12:50:00       2.10     12680.0          France       12.60  \n",
       "541906 2011-12-09 12:50:00       4.15     12680.0          France       16.60  \n",
       "541907 2011-12-09 12:50:00       4.15     12680.0          France       16.60  \n",
       "541908 2011-12-09 12:50:00       4.95     12680.0          France       14.85  \n",
       "\n",
       "[536641 rows x 9 columns]"
      ],
      "text/html": "<div>\n<style scoped>\n    .dataframe tbody tr th:only-of-type {\n        vertical-align: middle;\n    }\n\n    .dataframe tbody tr th {\n        vertical-align: top;\n    }\n\n    .dataframe thead th {\n        text-align: right;\n    }\n</style>\n<table border=\"1\" class=\"dataframe\">\n  <thead>\n    <tr style=\"text-align: right;\">\n      <th></th>\n      <th>InvoiceNo</th>\n      <th>StockCode</th>\n      <th>Description</th>\n      <th>Quantity</th>\n      <th>InvoiceDateTime</th>\n      <th>UnitPrice</th>\n      <th>CustomerID</th>\n      <th>Country</th>\n      <th>TotalPrice</th>\n    </tr>\n  </thead>\n  <tbody>\n    <tr>\n      <th>0</th>\n      <td>536365</td>\n      <td>85123A</td>\n      <td>WHITE HANGING HEART T-LIGHT HOLDER</td>\n      <td>6</td>\n      <td>2010-12-01 08:26:00</td>\n      <td>2.55</td>\n      <td>17850.0</td>\n      <td>United Kingdom</td>\n      <td>15.30</td>\n    </tr>\n    <tr>\n      <th>1</th>\n      <td>536365</td>\n      <td>71053</td>\n      <td>WHITE METAL LANTERN</td>\n      <td>6</td>\n      <td>2010-12-01 08:26:00</td>\n      <td>3.39</td>\n      <td>17850.0</td>\n      <td>United Kingdom</td>\n      <td>20.34</td>\n    </tr>\n    <tr>\n      <th>2</th>\n      <td>536365</td>\n      <td>84406B</td>\n      <td>CREAM CUPID HEARTS COAT HANGER</td>\n      <td>8</td>\n      <td>2010-12-01 08:26:00</td>\n      <td>2.75</td>\n      <td>17850.0</td>\n      <td>United Kingdom</td>\n      <td>22.00</td>\n    </tr>\n    <tr>\n      <th>3</th>\n      <td>536365</td>\n      <td>84029G</td>\n      <td>KNITTED UNION FLAG HOT WATER BOTTLE</td>\n      <td>6</td>\n      <td>2010-12-01 08:26:00</td>\n      <td>3.39</td>\n      <td>17850.0</td>\n      <td>United Kingdom</td>\n      <td>20.34</td>\n    </tr>\n    <tr>\n      <th>4</th>\n      <td>536365</td>\n      <td>84029E</td>\n      <td>RED WOOLLY HOTTIE WHITE HEART.</td>\n      <td>6</td>\n      <td>2010-12-01 08:26:00</td>\n      <td>3.39</td>\n      <td>17850.0</td>\n      <td>United Kingdom</td>\n      <td>20.34</td>\n    </tr>\n    <tr>\n      <th>...</th>\n      <td>...</td>\n      <td>...</td>\n      <td>...</td>\n      <td>...</td>\n      <td>...</td>\n      <td>...</td>\n      <td>...</td>\n      <td>...</td>\n      <td>...</td>\n    </tr>\n    <tr>\n      <th>541904</th>\n      <td>581587</td>\n      <td>22613</td>\n      <td>PACK OF 20 SPACEBOY NAPKINS</td>\n      <td>12</td>\n      <td>2011-12-09 12:50:00</td>\n      <td>0.85</td>\n      <td>12680.0</td>\n      <td>France</td>\n      <td>10.20</td>\n    </tr>\n    <tr>\n      <th>541905</th>\n      <td>581587</td>\n      <td>22899</td>\n      <td>CHILDREN'S APRON DOLLY GIRL</td>\n      <td>6</td>\n      <td>2011-12-09 12:50:00</td>\n      <td>2.10</td>\n      <td>12680.0</td>\n      <td>France</td>\n      <td>12.60</td>\n    </tr>\n    <tr>\n      <th>541906</th>\n      <td>581587</td>\n      <td>23254</td>\n      <td>CHILDRENS CUTLERY DOLLY GIRL</td>\n      <td>4</td>\n      <td>2011-12-09 12:50:00</td>\n      <td>4.15</td>\n      <td>12680.0</td>\n      <td>France</td>\n      <td>16.60</td>\n    </tr>\n    <tr>\n      <th>541907</th>\n      <td>581587</td>\n      <td>23255</td>\n      <td>CHILDRENS CUTLERY CIRCUS PARADE</td>\n      <td>4</td>\n      <td>2011-12-09 12:50:00</td>\n      <td>4.15</td>\n      <td>12680.0</td>\n      <td>France</td>\n      <td>16.60</td>\n    </tr>\n    <tr>\n      <th>541908</th>\n      <td>581587</td>\n      <td>22138</td>\n      <td>BAKING SET 9 PIECE RETROSPOT</td>\n      <td>3</td>\n      <td>2011-12-09 12:50:00</td>\n      <td>4.95</td>\n      <td>12680.0</td>\n      <td>France</td>\n      <td>14.85</td>\n    </tr>\n  </tbody>\n</table>\n<p>536641 rows × 9 columns</p>\n</div>"
     },
     "metadata": {},
     "execution_count": 447
    }
   ],
   "source": [
    "ecom.StockCode=ecom.StockCode.str.upper()\n",
    "ecom.rename(columns={\"InvoiceDate\":'InvoiceDateTime'}, inplace=True)\n",
    "ecom"
   ]
  },
  {
   "cell_type": "code",
   "execution_count": 448,
   "metadata": {},
   "outputs": [],
   "source": [
    "#EXTRACT DATE ONLY"
   ]
  },
  {
   "cell_type": "code",
   "execution_count": 449,
   "metadata": {},
   "outputs": [
    {
     "output_type": "execute_result",
     "data": {
      "text/plain": [
       "       InvoiceNo StockCode                          Description  Quantity  \\\n",
       "0         536365    85123A   WHITE HANGING HEART T-LIGHT HOLDER         6   \n",
       "1         536365     71053                  WHITE METAL LANTERN         6   \n",
       "2         536365    84406B       CREAM CUPID HEARTS COAT HANGER         8   \n",
       "3         536365    84029G  KNITTED UNION FLAG HOT WATER BOTTLE         6   \n",
       "4         536365    84029E       RED WOOLLY HOTTIE WHITE HEART.         6   \n",
       "...          ...       ...                                  ...       ...   \n",
       "541904    581587     22613          PACK OF 20 SPACEBOY NAPKINS        12   \n",
       "541905    581587     22899         CHILDREN'S APRON DOLLY GIRL          6   \n",
       "541906    581587     23254        CHILDRENS CUTLERY DOLLY GIRL          4   \n",
       "541907    581587     23255      CHILDRENS CUTLERY CIRCUS PARADE         4   \n",
       "541908    581587     22138        BAKING SET 9 PIECE RETROSPOT          3   \n",
       "\n",
       "           InvoiceDateTime  UnitPrice  CustomerID         Country  TotalPrice  \\\n",
       "0      2010-12-01 08:26:00       2.55     17850.0  United Kingdom       15.30   \n",
       "1      2010-12-01 08:26:00       3.39     17850.0  United Kingdom       20.34   \n",
       "2      2010-12-01 08:26:00       2.75     17850.0  United Kingdom       22.00   \n",
       "3      2010-12-01 08:26:00       3.39     17850.0  United Kingdom       20.34   \n",
       "4      2010-12-01 08:26:00       3.39     17850.0  United Kingdom       20.34   \n",
       "...                    ...        ...         ...             ...         ...   \n",
       "541904 2011-12-09 12:50:00       0.85     12680.0          France       10.20   \n",
       "541905 2011-12-09 12:50:00       2.10     12680.0          France       12.60   \n",
       "541906 2011-12-09 12:50:00       4.15     12680.0          France       16.60   \n",
       "541907 2011-12-09 12:50:00       4.15     12680.0          France       16.60   \n",
       "541908 2011-12-09 12:50:00       4.95     12680.0          France       14.85   \n",
       "\n",
       "       InvoiceDate  \n",
       "0       2010-12-01  \n",
       "1       2010-12-01  \n",
       "2       2010-12-01  \n",
       "3       2010-12-01  \n",
       "4       2010-12-01  \n",
       "...            ...  \n",
       "541904  2011-12-09  \n",
       "541905  2011-12-09  \n",
       "541906  2011-12-09  \n",
       "541907  2011-12-09  \n",
       "541908  2011-12-09  \n",
       "\n",
       "[536641 rows x 10 columns]"
      ],
      "text/html": "<div>\n<style scoped>\n    .dataframe tbody tr th:only-of-type {\n        vertical-align: middle;\n    }\n\n    .dataframe tbody tr th {\n        vertical-align: top;\n    }\n\n    .dataframe thead th {\n        text-align: right;\n    }\n</style>\n<table border=\"1\" class=\"dataframe\">\n  <thead>\n    <tr style=\"text-align: right;\">\n      <th></th>\n      <th>InvoiceNo</th>\n      <th>StockCode</th>\n      <th>Description</th>\n      <th>Quantity</th>\n      <th>InvoiceDateTime</th>\n      <th>UnitPrice</th>\n      <th>CustomerID</th>\n      <th>Country</th>\n      <th>TotalPrice</th>\n      <th>InvoiceDate</th>\n    </tr>\n  </thead>\n  <tbody>\n    <tr>\n      <th>0</th>\n      <td>536365</td>\n      <td>85123A</td>\n      <td>WHITE HANGING HEART T-LIGHT HOLDER</td>\n      <td>6</td>\n      <td>2010-12-01 08:26:00</td>\n      <td>2.55</td>\n      <td>17850.0</td>\n      <td>United Kingdom</td>\n      <td>15.30</td>\n      <td>2010-12-01</td>\n    </tr>\n    <tr>\n      <th>1</th>\n      <td>536365</td>\n      <td>71053</td>\n      <td>WHITE METAL LANTERN</td>\n      <td>6</td>\n      <td>2010-12-01 08:26:00</td>\n      <td>3.39</td>\n      <td>17850.0</td>\n      <td>United Kingdom</td>\n      <td>20.34</td>\n      <td>2010-12-01</td>\n    </tr>\n    <tr>\n      <th>2</th>\n      <td>536365</td>\n      <td>84406B</td>\n      <td>CREAM CUPID HEARTS COAT HANGER</td>\n      <td>8</td>\n      <td>2010-12-01 08:26:00</td>\n      <td>2.75</td>\n      <td>17850.0</td>\n      <td>United Kingdom</td>\n      <td>22.00</td>\n      <td>2010-12-01</td>\n    </tr>\n    <tr>\n      <th>3</th>\n      <td>536365</td>\n      <td>84029G</td>\n      <td>KNITTED UNION FLAG HOT WATER BOTTLE</td>\n      <td>6</td>\n      <td>2010-12-01 08:26:00</td>\n      <td>3.39</td>\n      <td>17850.0</td>\n      <td>United Kingdom</td>\n      <td>20.34</td>\n      <td>2010-12-01</td>\n    </tr>\n    <tr>\n      <th>4</th>\n      <td>536365</td>\n      <td>84029E</td>\n      <td>RED WOOLLY HOTTIE WHITE HEART.</td>\n      <td>6</td>\n      <td>2010-12-01 08:26:00</td>\n      <td>3.39</td>\n      <td>17850.0</td>\n      <td>United Kingdom</td>\n      <td>20.34</td>\n      <td>2010-12-01</td>\n    </tr>\n    <tr>\n      <th>...</th>\n      <td>...</td>\n      <td>...</td>\n      <td>...</td>\n      <td>...</td>\n      <td>...</td>\n      <td>...</td>\n      <td>...</td>\n      <td>...</td>\n      <td>...</td>\n      <td>...</td>\n    </tr>\n    <tr>\n      <th>541904</th>\n      <td>581587</td>\n      <td>22613</td>\n      <td>PACK OF 20 SPACEBOY NAPKINS</td>\n      <td>12</td>\n      <td>2011-12-09 12:50:00</td>\n      <td>0.85</td>\n      <td>12680.0</td>\n      <td>France</td>\n      <td>10.20</td>\n      <td>2011-12-09</td>\n    </tr>\n    <tr>\n      <th>541905</th>\n      <td>581587</td>\n      <td>22899</td>\n      <td>CHILDREN'S APRON DOLLY GIRL</td>\n      <td>6</td>\n      <td>2011-12-09 12:50:00</td>\n      <td>2.10</td>\n      <td>12680.0</td>\n      <td>France</td>\n      <td>12.60</td>\n      <td>2011-12-09</td>\n    </tr>\n    <tr>\n      <th>541906</th>\n      <td>581587</td>\n      <td>23254</td>\n      <td>CHILDRENS CUTLERY DOLLY GIRL</td>\n      <td>4</td>\n      <td>2011-12-09 12:50:00</td>\n      <td>4.15</td>\n      <td>12680.0</td>\n      <td>France</td>\n      <td>16.60</td>\n      <td>2011-12-09</td>\n    </tr>\n    <tr>\n      <th>541907</th>\n      <td>581587</td>\n      <td>23255</td>\n      <td>CHILDRENS CUTLERY CIRCUS PARADE</td>\n      <td>4</td>\n      <td>2011-12-09 12:50:00</td>\n      <td>4.15</td>\n      <td>12680.0</td>\n      <td>France</td>\n      <td>16.60</td>\n      <td>2011-12-09</td>\n    </tr>\n    <tr>\n      <th>541908</th>\n      <td>581587</td>\n      <td>22138</td>\n      <td>BAKING SET 9 PIECE RETROSPOT</td>\n      <td>3</td>\n      <td>2011-12-09 12:50:00</td>\n      <td>4.95</td>\n      <td>12680.0</td>\n      <td>France</td>\n      <td>14.85</td>\n      <td>2011-12-09</td>\n    </tr>\n  </tbody>\n</table>\n<p>536641 rows × 10 columns</p>\n</div>"
     },
     "metadata": {},
     "execution_count": 449
    }
   ],
   "source": [
    "ecom['InvoiceDate'] = ecom['InvoiceDateTime'].dt.date\n",
    "ecom"
   ]
  },
  {
   "cell_type": "code",
   "execution_count": 450,
   "metadata": {},
   "outputs": [
    {
     "output_type": "execute_result",
     "data": {
      "text/plain": [
       "       InvoiceNo StockCode                          Description  Quantity  \\\n",
       "0         536365    85123A   WHITE HANGING HEART T-LIGHT HOLDER         6   \n",
       "1         536365     71053                  WHITE METAL LANTERN         6   \n",
       "2         536365    84406B       CREAM CUPID HEARTS COAT HANGER         8   \n",
       "3         536365    84029G  KNITTED UNION FLAG HOT WATER BOTTLE         6   \n",
       "4         536365    84029E       RED WOOLLY HOTTIE WHITE HEART.         6   \n",
       "...          ...       ...                                  ...       ...   \n",
       "541904    581587     22613          PACK OF 20 SPACEBOY NAPKINS        12   \n",
       "541905    581587     22899         CHILDREN'S APRON DOLLY GIRL          6   \n",
       "541906    581587     23254        CHILDRENS CUTLERY DOLLY GIRL          4   \n",
       "541907    581587     23255      CHILDRENS CUTLERY CIRCUS PARADE         4   \n",
       "541908    581587     22138        BAKING SET 9 PIECE RETROSPOT          3   \n",
       "\n",
       "        UnitPrice  CustomerID         Country  TotalPrice InvoiceDate  \n",
       "0            2.55     17850.0  United Kingdom       15.30  2010-12-01  \n",
       "1            3.39     17850.0  United Kingdom       20.34  2010-12-01  \n",
       "2            2.75     17850.0  United Kingdom       22.00  2010-12-01  \n",
       "3            3.39     17850.0  United Kingdom       20.34  2010-12-01  \n",
       "4            3.39     17850.0  United Kingdom       20.34  2010-12-01  \n",
       "...           ...         ...             ...         ...         ...  \n",
       "541904       0.85     12680.0          France       10.20  2011-12-09  \n",
       "541905       2.10     12680.0          France       12.60  2011-12-09  \n",
       "541906       4.15     12680.0          France       16.60  2011-12-09  \n",
       "541907       4.15     12680.0          France       16.60  2011-12-09  \n",
       "541908       4.95     12680.0          France       14.85  2011-12-09  \n",
       "\n",
       "[536641 rows x 9 columns]"
      ],
      "text/html": "<div>\n<style scoped>\n    .dataframe tbody tr th:only-of-type {\n        vertical-align: middle;\n    }\n\n    .dataframe tbody tr th {\n        vertical-align: top;\n    }\n\n    .dataframe thead th {\n        text-align: right;\n    }\n</style>\n<table border=\"1\" class=\"dataframe\">\n  <thead>\n    <tr style=\"text-align: right;\">\n      <th></th>\n      <th>InvoiceNo</th>\n      <th>StockCode</th>\n      <th>Description</th>\n      <th>Quantity</th>\n      <th>UnitPrice</th>\n      <th>CustomerID</th>\n      <th>Country</th>\n      <th>TotalPrice</th>\n      <th>InvoiceDate</th>\n    </tr>\n  </thead>\n  <tbody>\n    <tr>\n      <th>0</th>\n      <td>536365</td>\n      <td>85123A</td>\n      <td>WHITE HANGING HEART T-LIGHT HOLDER</td>\n      <td>6</td>\n      <td>2.55</td>\n      <td>17850.0</td>\n      <td>United Kingdom</td>\n      <td>15.30</td>\n      <td>2010-12-01</td>\n    </tr>\n    <tr>\n      <th>1</th>\n      <td>536365</td>\n      <td>71053</td>\n      <td>WHITE METAL LANTERN</td>\n      <td>6</td>\n      <td>3.39</td>\n      <td>17850.0</td>\n      <td>United Kingdom</td>\n      <td>20.34</td>\n      <td>2010-12-01</td>\n    </tr>\n    <tr>\n      <th>2</th>\n      <td>536365</td>\n      <td>84406B</td>\n      <td>CREAM CUPID HEARTS COAT HANGER</td>\n      <td>8</td>\n      <td>2.75</td>\n      <td>17850.0</td>\n      <td>United Kingdom</td>\n      <td>22.00</td>\n      <td>2010-12-01</td>\n    </tr>\n    <tr>\n      <th>3</th>\n      <td>536365</td>\n      <td>84029G</td>\n      <td>KNITTED UNION FLAG HOT WATER BOTTLE</td>\n      <td>6</td>\n      <td>3.39</td>\n      <td>17850.0</td>\n      <td>United Kingdom</td>\n      <td>20.34</td>\n      <td>2010-12-01</td>\n    </tr>\n    <tr>\n      <th>4</th>\n      <td>536365</td>\n      <td>84029E</td>\n      <td>RED WOOLLY HOTTIE WHITE HEART.</td>\n      <td>6</td>\n      <td>3.39</td>\n      <td>17850.0</td>\n      <td>United Kingdom</td>\n      <td>20.34</td>\n      <td>2010-12-01</td>\n    </tr>\n    <tr>\n      <th>...</th>\n      <td>...</td>\n      <td>...</td>\n      <td>...</td>\n      <td>...</td>\n      <td>...</td>\n      <td>...</td>\n      <td>...</td>\n      <td>...</td>\n      <td>...</td>\n    </tr>\n    <tr>\n      <th>541904</th>\n      <td>581587</td>\n      <td>22613</td>\n      <td>PACK OF 20 SPACEBOY NAPKINS</td>\n      <td>12</td>\n      <td>0.85</td>\n      <td>12680.0</td>\n      <td>France</td>\n      <td>10.20</td>\n      <td>2011-12-09</td>\n    </tr>\n    <tr>\n      <th>541905</th>\n      <td>581587</td>\n      <td>22899</td>\n      <td>CHILDREN'S APRON DOLLY GIRL</td>\n      <td>6</td>\n      <td>2.10</td>\n      <td>12680.0</td>\n      <td>France</td>\n      <td>12.60</td>\n      <td>2011-12-09</td>\n    </tr>\n    <tr>\n      <th>541906</th>\n      <td>581587</td>\n      <td>23254</td>\n      <td>CHILDRENS CUTLERY DOLLY GIRL</td>\n      <td>4</td>\n      <td>4.15</td>\n      <td>12680.0</td>\n      <td>France</td>\n      <td>16.60</td>\n      <td>2011-12-09</td>\n    </tr>\n    <tr>\n      <th>541907</th>\n      <td>581587</td>\n      <td>23255</td>\n      <td>CHILDRENS CUTLERY CIRCUS PARADE</td>\n      <td>4</td>\n      <td>4.15</td>\n      <td>12680.0</td>\n      <td>France</td>\n      <td>16.60</td>\n      <td>2011-12-09</td>\n    </tr>\n    <tr>\n      <th>541908</th>\n      <td>581587</td>\n      <td>22138</td>\n      <td>BAKING SET 9 PIECE RETROSPOT</td>\n      <td>3</td>\n      <td>4.95</td>\n      <td>12680.0</td>\n      <td>France</td>\n      <td>14.85</td>\n      <td>2011-12-09</td>\n    </tr>\n  </tbody>\n</table>\n<p>536641 rows × 9 columns</p>\n</div>"
     },
     "metadata": {},
     "execution_count": 450
    }
   ],
   "source": [
    "ecom = ecom.drop('InvoiceDateTime', 1) #DELETE DATETIME AXIS=1\n",
    "ecom"
   ]
  },
  {
   "cell_type": "code",
   "execution_count": 451,
   "metadata": {},
   "outputs": [
    {
     "output_type": "stream",
     "name": "stdout",
     "text": [
      "            Quantity      UnitPrice     CustomerID     TotalPrice\ncount  536641.000000  536641.000000  401604.000000  536641.000000\nmean        9.620029       4.632656   15281.160818      18.123861\nstd       219.130156      97.233118    1714.006089     380.656263\nmin    -80995.000000  -11062.060000   12346.000000 -168469.600000\n1%         -2.000000       0.190000   12415.000000      -6.624000\n5%          1.000000       0.420000   12621.000000       0.840000\n25%         1.000000       1.250000   13939.000000       3.750000\n50%         3.000000       2.080000   15145.000000       9.870000\n75%        10.000000       4.130000   16784.000000      17.400000\n95%        30.000000       9.950000   17898.000000      59.400000\n99%       100.000000      18.000000   18212.000000     180.368000\nmax     80995.000000   38970.000000   18287.000000  168469.600000\n"
     ]
    },
    {
     "output_type": "execute_result",
     "data": {
      "text/plain": [
       "       InvoiceNo StockCode                         Description  \\\n",
       "count     536641    536641                              535187   \n",
       "unique     25900      3958                                4223   \n",
       "top       573585    85123A  WHITE HANGING HEART T-LIGHT HOLDER   \n",
       "freq        1114      2368                                2357   \n",
       "\n",
       "               Country InvoiceDate  \n",
       "count           536641      536641  \n",
       "unique              38         305  \n",
       "top     United Kingdom  2011-12-05  \n",
       "freq            490300        5292  "
      ],
      "text/html": "<div>\n<style scoped>\n    .dataframe tbody tr th:only-of-type {\n        vertical-align: middle;\n    }\n\n    .dataframe tbody tr th {\n        vertical-align: top;\n    }\n\n    .dataframe thead th {\n        text-align: right;\n    }\n</style>\n<table border=\"1\" class=\"dataframe\">\n  <thead>\n    <tr style=\"text-align: right;\">\n      <th></th>\n      <th>InvoiceNo</th>\n      <th>StockCode</th>\n      <th>Description</th>\n      <th>Country</th>\n      <th>InvoiceDate</th>\n    </tr>\n  </thead>\n  <tbody>\n    <tr>\n      <th>count</th>\n      <td>536641</td>\n      <td>536641</td>\n      <td>535187</td>\n      <td>536641</td>\n      <td>536641</td>\n    </tr>\n    <tr>\n      <th>unique</th>\n      <td>25900</td>\n      <td>3958</td>\n      <td>4223</td>\n      <td>38</td>\n      <td>305</td>\n    </tr>\n    <tr>\n      <th>top</th>\n      <td>573585</td>\n      <td>85123A</td>\n      <td>WHITE HANGING HEART T-LIGHT HOLDER</td>\n      <td>United Kingdom</td>\n      <td>2011-12-05</td>\n    </tr>\n    <tr>\n      <th>freq</th>\n      <td>1114</td>\n      <td>2368</td>\n      <td>2357</td>\n      <td>490300</td>\n      <td>5292</td>\n    </tr>\n  </tbody>\n</table>\n</div>"
     },
     "metadata": {},
     "execution_count": 451
    }
   ],
   "source": [
    "print(ecom.describe(percentiles=[.01,.05,.25,.5,.75,.95,.99]))\n",
    "ecom.describe(include=[np.object])"
   ]
  },
  {
   "cell_type": "code",
   "execution_count": 452,
   "metadata": {},
   "outputs": [
    {
     "output_type": "stream",
     "name": "stdout",
     "text": [
      "The number of rows with negative Quantity: 10587\nThe number of rows with negative UnitPrice: 2\n"
     ]
    }
   ],
   "source": [
    "print(\"The number of rows with negative Quantity:\",sum(n < 0 for n in ecom.Quantity))\n",
    "print(\"The number of rows with negative UnitPrice:\",sum(n < 0 for n in ecom.UnitPrice))"
   ]
  },
  {
   "cell_type": "code",
   "execution_count": 453,
   "metadata": {},
   "outputs": [
    {
     "output_type": "execute_result",
     "data": {
      "text/plain": [
       "InvoiceNo      25900\n",
       "StockCode       3958\n",
       "Description     4223\n",
       "Quantity         722\n",
       "UnitPrice       1630\n",
       "CustomerID      4372\n",
       "Country           38\n",
       "TotalPrice      6204\n",
       "InvoiceDate      305\n",
       "dtype: int64"
      ]
     },
     "metadata": {},
     "execution_count": 453
    }
   ],
   "source": [
    "ecom.nunique()"
   ]
  },
  {
   "cell_type": "code",
   "execution_count": 454,
   "metadata": {},
   "outputs": [
    {
     "output_type": "execute_result",
     "data": {
      "text/plain": [
       "       InvoiceNo StockCode                     Description  Quantity  \\\n",
       "61619     541431     23166  MEDIUM CERAMIC TOP STORAGE JAR     74215   \n",
       "61624    C541433     23166  MEDIUM CERAMIC TOP STORAGE JAR    -74215   \n",
       "540421    581483     23843     PAPER CRAFT , LITTLE BIRDIE     80995   \n",
       "540422   C581484     23843     PAPER CRAFT , LITTLE BIRDIE    -80995   \n",
       "\n",
       "        UnitPrice  CustomerID         Country  TotalPrice InvoiceDate  \n",
       "61619        1.04     12346.0  United Kingdom     77183.6  2011-01-18  \n",
       "61624        1.04     12346.0  United Kingdom    -77183.6  2011-01-18  \n",
       "540421       2.08     16446.0  United Kingdom    168469.6  2011-12-09  \n",
       "540422       2.08     16446.0  United Kingdom   -168469.6  2011-12-09  "
      ],
      "text/html": "<div>\n<style scoped>\n    .dataframe tbody tr th:only-of-type {\n        vertical-align: middle;\n    }\n\n    .dataframe tbody tr th {\n        vertical-align: top;\n    }\n\n    .dataframe thead th {\n        text-align: right;\n    }\n</style>\n<table border=\"1\" class=\"dataframe\">\n  <thead>\n    <tr style=\"text-align: right;\">\n      <th></th>\n      <th>InvoiceNo</th>\n      <th>StockCode</th>\n      <th>Description</th>\n      <th>Quantity</th>\n      <th>UnitPrice</th>\n      <th>CustomerID</th>\n      <th>Country</th>\n      <th>TotalPrice</th>\n      <th>InvoiceDate</th>\n    </tr>\n  </thead>\n  <tbody>\n    <tr>\n      <th>61619</th>\n      <td>541431</td>\n      <td>23166</td>\n      <td>MEDIUM CERAMIC TOP STORAGE JAR</td>\n      <td>74215</td>\n      <td>1.04</td>\n      <td>12346.0</td>\n      <td>United Kingdom</td>\n      <td>77183.6</td>\n      <td>2011-01-18</td>\n    </tr>\n    <tr>\n      <th>61624</th>\n      <td>C541433</td>\n      <td>23166</td>\n      <td>MEDIUM CERAMIC TOP STORAGE JAR</td>\n      <td>-74215</td>\n      <td>1.04</td>\n      <td>12346.0</td>\n      <td>United Kingdom</td>\n      <td>-77183.6</td>\n      <td>2011-01-18</td>\n    </tr>\n    <tr>\n      <th>540421</th>\n      <td>581483</td>\n      <td>23843</td>\n      <td>PAPER CRAFT , LITTLE BIRDIE</td>\n      <td>80995</td>\n      <td>2.08</td>\n      <td>16446.0</td>\n      <td>United Kingdom</td>\n      <td>168469.6</td>\n      <td>2011-12-09</td>\n    </tr>\n    <tr>\n      <th>540422</th>\n      <td>C581484</td>\n      <td>23843</td>\n      <td>PAPER CRAFT , LITTLE BIRDIE</td>\n      <td>-80995</td>\n      <td>2.08</td>\n      <td>16446.0</td>\n      <td>United Kingdom</td>\n      <td>-168469.6</td>\n      <td>2011-12-09</td>\n    </tr>\n  </tbody>\n</table>\n</div>"
     },
     "metadata": {},
     "execution_count": 454
    }
   ],
   "source": [
    "ecom[ecom['Quantity'].abs()>60000]"
   ]
  },
  {
   "cell_type": "code",
   "execution_count": 455,
   "metadata": {},
   "outputs": [
    {
     "output_type": "execute_result",
     "data": {
      "text/plain": [
       "       InvoiceNo StockCode                          Description  Quantity  \\\n",
       "4287     C536757     84347  ROTATING SILVER ANGELS T-LIGHT HLDR     -9360   \n",
       "74614     542504     37413                                  NaN      5568   \n",
       "115818    546152    72140F                           throw away     -5368   \n",
       "225528    556687     23003         Printing smudges/thrown away     -9058   \n",
       "225529    556690     23005         printing smudges/thrown away     -9600   \n",
       "225530    556691     23005         printing smudges/thrown away     -9600   \n",
       "502122    578841     84826       ASSTD DESIGN 3D PAPER STICKERS     12540   \n",
       "\n",
       "        UnitPrice  CustomerID         Country  TotalPrice InvoiceDate  \n",
       "4287         0.03     15838.0  United Kingdom      -280.8  2010-12-02  \n",
       "74614        0.00         NaN  United Kingdom         0.0  2011-01-28  \n",
       "115818       0.00         NaN  United Kingdom        -0.0  2011-03-09  \n",
       "225528       0.00         NaN  United Kingdom        -0.0  2011-06-14  \n",
       "225529       0.00         NaN  United Kingdom        -0.0  2011-06-14  \n",
       "225530       0.00         NaN  United Kingdom        -0.0  2011-06-14  \n",
       "502122       0.00     13256.0  United Kingdom         0.0  2011-11-25  "
      ],
      "text/html": "<div>\n<style scoped>\n    .dataframe tbody tr th:only-of-type {\n        vertical-align: middle;\n    }\n\n    .dataframe tbody tr th {\n        vertical-align: top;\n    }\n\n    .dataframe thead th {\n        text-align: right;\n    }\n</style>\n<table border=\"1\" class=\"dataframe\">\n  <thead>\n    <tr style=\"text-align: right;\">\n      <th></th>\n      <th>InvoiceNo</th>\n      <th>StockCode</th>\n      <th>Description</th>\n      <th>Quantity</th>\n      <th>UnitPrice</th>\n      <th>CustomerID</th>\n      <th>Country</th>\n      <th>TotalPrice</th>\n      <th>InvoiceDate</th>\n    </tr>\n  </thead>\n  <tbody>\n    <tr>\n      <th>4287</th>\n      <td>C536757</td>\n      <td>84347</td>\n      <td>ROTATING SILVER ANGELS T-LIGHT HLDR</td>\n      <td>-9360</td>\n      <td>0.03</td>\n      <td>15838.0</td>\n      <td>United Kingdom</td>\n      <td>-280.8</td>\n      <td>2010-12-02</td>\n    </tr>\n    <tr>\n      <th>74614</th>\n      <td>542504</td>\n      <td>37413</td>\n      <td>NaN</td>\n      <td>5568</td>\n      <td>0.00</td>\n      <td>NaN</td>\n      <td>United Kingdom</td>\n      <td>0.0</td>\n      <td>2011-01-28</td>\n    </tr>\n    <tr>\n      <th>115818</th>\n      <td>546152</td>\n      <td>72140F</td>\n      <td>throw away</td>\n      <td>-5368</td>\n      <td>0.00</td>\n      <td>NaN</td>\n      <td>United Kingdom</td>\n      <td>-0.0</td>\n      <td>2011-03-09</td>\n    </tr>\n    <tr>\n      <th>225528</th>\n      <td>556687</td>\n      <td>23003</td>\n      <td>Printing smudges/thrown away</td>\n      <td>-9058</td>\n      <td>0.00</td>\n      <td>NaN</td>\n      <td>United Kingdom</td>\n      <td>-0.0</td>\n      <td>2011-06-14</td>\n    </tr>\n    <tr>\n      <th>225529</th>\n      <td>556690</td>\n      <td>23005</td>\n      <td>printing smudges/thrown away</td>\n      <td>-9600</td>\n      <td>0.00</td>\n      <td>NaN</td>\n      <td>United Kingdom</td>\n      <td>-0.0</td>\n      <td>2011-06-14</td>\n    </tr>\n    <tr>\n      <th>225530</th>\n      <td>556691</td>\n      <td>23005</td>\n      <td>printing smudges/thrown away</td>\n      <td>-9600</td>\n      <td>0.00</td>\n      <td>NaN</td>\n      <td>United Kingdom</td>\n      <td>-0.0</td>\n      <td>2011-06-14</td>\n    </tr>\n    <tr>\n      <th>502122</th>\n      <td>578841</td>\n      <td>84826</td>\n      <td>ASSTD DESIGN 3D PAPER STICKERS</td>\n      <td>12540</td>\n      <td>0.00</td>\n      <td>13256.0</td>\n      <td>United Kingdom</td>\n      <td>0.0</td>\n      <td>2011-11-25</td>\n    </tr>\n  </tbody>\n</table>\n</div>"
     },
     "metadata": {},
     "execution_count": 455
    }
   ],
   "source": [
    "ecom[(ecom['Quantity'].abs()>5000) & (ecom['Quantity'].abs()<20000)]"
   ]
  },
  {
   "cell_type": "code",
   "execution_count": 456,
   "metadata": {},
   "outputs": [
    {
     "output_type": "stream",
     "name": "stdout",
     "text": [
      "Number of rows in each column affected by existence of non-existing values:\n"
     ]
    },
    {
     "output_type": "execute_result",
     "data": {
      "text/plain": [
       "InvoiceNo           0\n",
       "StockCode           0\n",
       "Description      1454\n",
       "Quantity            0\n",
       "UnitPrice           0\n",
       "CustomerID     135037\n",
       "Country             0\n",
       "TotalPrice          0\n",
       "InvoiceDate         0\n",
       "dtype: int64"
      ]
     },
     "metadata": {},
     "execution_count": 456
    }
   ],
   "source": [
    "print('Number of rows in each column affected by existence of non-existing values:')\n",
    "ecom.isnull().sum()"
   ]
  },
  {
   "cell_type": "code",
   "execution_count": 457,
   "metadata": {},
   "outputs": [
    {
     "output_type": "execute_result",
     "data": {
      "text/plain": [
       "    InvoiceNo StockCode                        Description  Quantity  \\\n",
       "141   C536379         D                           Discount        -1   \n",
       "154   C536383    35004C    SET OF 3 COLOURED  FLYING DUCKS        -1   \n",
       "235   C536391     22556     PLASTERS IN TIN CIRCUS PARADE        -12   \n",
       "236   C536391     21984   PACK OF 12 PINK PAISLEY TISSUES        -24   \n",
       "237   C536391     21983   PACK OF 12 BLUE PAISLEY TISSUES        -24   \n",
       "238   C536391     21980  PACK OF 12 RED RETROSPOT TISSUES        -24   \n",
       "239   C536391     21484        CHICK GREY HOT WATER BOTTLE       -12   \n",
       "240   C536391     22557   PLASTERS IN TIN VINTAGE PAISLEY        -12   \n",
       "241   C536391     22553             PLASTERS IN TIN SKULLS       -24   \n",
       "939   C536506     22960           JAM MAKING SET WITH JARS        -6   \n",
       "\n",
       "     UnitPrice  CustomerID         Country  TotalPrice InvoiceDate  \n",
       "141      27.50     14527.0  United Kingdom      -27.50  2010-12-01  \n",
       "154       4.65     15311.0  United Kingdom       -4.65  2010-12-01  \n",
       "235       1.65     17548.0  United Kingdom      -19.80  2010-12-01  \n",
       "236       0.29     17548.0  United Kingdom       -6.96  2010-12-01  \n",
       "237       0.29     17548.0  United Kingdom       -6.96  2010-12-01  \n",
       "238       0.29     17548.0  United Kingdom       -6.96  2010-12-01  \n",
       "239       3.45     17548.0  United Kingdom      -41.40  2010-12-01  \n",
       "240       1.65     17548.0  United Kingdom      -19.80  2010-12-01  \n",
       "241       1.65     17548.0  United Kingdom      -39.60  2010-12-01  \n",
       "939       4.25     17897.0  United Kingdom      -25.50  2010-12-01  "
      ],
      "text/html": "<div>\n<style scoped>\n    .dataframe tbody tr th:only-of-type {\n        vertical-align: middle;\n    }\n\n    .dataframe tbody tr th {\n        vertical-align: top;\n    }\n\n    .dataframe thead th {\n        text-align: right;\n    }\n</style>\n<table border=\"1\" class=\"dataframe\">\n  <thead>\n    <tr style=\"text-align: right;\">\n      <th></th>\n      <th>InvoiceNo</th>\n      <th>StockCode</th>\n      <th>Description</th>\n      <th>Quantity</th>\n      <th>UnitPrice</th>\n      <th>CustomerID</th>\n      <th>Country</th>\n      <th>TotalPrice</th>\n      <th>InvoiceDate</th>\n    </tr>\n  </thead>\n  <tbody>\n    <tr>\n      <th>141</th>\n      <td>C536379</td>\n      <td>D</td>\n      <td>Discount</td>\n      <td>-1</td>\n      <td>27.50</td>\n      <td>14527.0</td>\n      <td>United Kingdom</td>\n      <td>-27.50</td>\n      <td>2010-12-01</td>\n    </tr>\n    <tr>\n      <th>154</th>\n      <td>C536383</td>\n      <td>35004C</td>\n      <td>SET OF 3 COLOURED  FLYING DUCKS</td>\n      <td>-1</td>\n      <td>4.65</td>\n      <td>15311.0</td>\n      <td>United Kingdom</td>\n      <td>-4.65</td>\n      <td>2010-12-01</td>\n    </tr>\n    <tr>\n      <th>235</th>\n      <td>C536391</td>\n      <td>22556</td>\n      <td>PLASTERS IN TIN CIRCUS PARADE</td>\n      <td>-12</td>\n      <td>1.65</td>\n      <td>17548.0</td>\n      <td>United Kingdom</td>\n      <td>-19.80</td>\n      <td>2010-12-01</td>\n    </tr>\n    <tr>\n      <th>236</th>\n      <td>C536391</td>\n      <td>21984</td>\n      <td>PACK OF 12 PINK PAISLEY TISSUES</td>\n      <td>-24</td>\n      <td>0.29</td>\n      <td>17548.0</td>\n      <td>United Kingdom</td>\n      <td>-6.96</td>\n      <td>2010-12-01</td>\n    </tr>\n    <tr>\n      <th>237</th>\n      <td>C536391</td>\n      <td>21983</td>\n      <td>PACK OF 12 BLUE PAISLEY TISSUES</td>\n      <td>-24</td>\n      <td>0.29</td>\n      <td>17548.0</td>\n      <td>United Kingdom</td>\n      <td>-6.96</td>\n      <td>2010-12-01</td>\n    </tr>\n    <tr>\n      <th>238</th>\n      <td>C536391</td>\n      <td>21980</td>\n      <td>PACK OF 12 RED RETROSPOT TISSUES</td>\n      <td>-24</td>\n      <td>0.29</td>\n      <td>17548.0</td>\n      <td>United Kingdom</td>\n      <td>-6.96</td>\n      <td>2010-12-01</td>\n    </tr>\n    <tr>\n      <th>239</th>\n      <td>C536391</td>\n      <td>21484</td>\n      <td>CHICK GREY HOT WATER BOTTLE</td>\n      <td>-12</td>\n      <td>3.45</td>\n      <td>17548.0</td>\n      <td>United Kingdom</td>\n      <td>-41.40</td>\n      <td>2010-12-01</td>\n    </tr>\n    <tr>\n      <th>240</th>\n      <td>C536391</td>\n      <td>22557</td>\n      <td>PLASTERS IN TIN VINTAGE PAISLEY</td>\n      <td>-12</td>\n      <td>1.65</td>\n      <td>17548.0</td>\n      <td>United Kingdom</td>\n      <td>-19.80</td>\n      <td>2010-12-01</td>\n    </tr>\n    <tr>\n      <th>241</th>\n      <td>C536391</td>\n      <td>22553</td>\n      <td>PLASTERS IN TIN SKULLS</td>\n      <td>-24</td>\n      <td>1.65</td>\n      <td>17548.0</td>\n      <td>United Kingdom</td>\n      <td>-39.60</td>\n      <td>2010-12-01</td>\n    </tr>\n    <tr>\n      <th>939</th>\n      <td>C536506</td>\n      <td>22960</td>\n      <td>JAM MAKING SET WITH JARS</td>\n      <td>-6</td>\n      <td>4.25</td>\n      <td>17897.0</td>\n      <td>United Kingdom</td>\n      <td>-25.50</td>\n      <td>2010-12-01</td>\n    </tr>\n  </tbody>\n</table>\n</div>"
     },
     "metadata": {},
     "execution_count": 457
    }
   ],
   "source": [
    "ecom[ecom['Quantity']<=0].head(10)"
   ]
  },
  {
   "cell_type": "code",
   "execution_count": 458,
   "metadata": {},
   "outputs": [
    {
     "output_type": "stream",
     "name": "stdout",
     "text": [
      "Descriptive statistics of numeric columns:\n",
      "           Quantity  UnitPrice  CustomerID  TotalPrice\n",
      "count  1454.000000     1454.0         0.0      1454.0\n",
      "mean     -9.359697        0.0         NaN         0.0\n",
      "std     243.238758        0.0         NaN         0.0\n",
      "min   -3667.000000        0.0         NaN         0.0\n",
      "25%     -24.000000        0.0         NaN         0.0\n",
      "50%      -3.000000        0.0         NaN         0.0\n",
      "75%       4.000000        0.0         NaN         0.0\n",
      "max    5568.000000        0.0         NaN         0.0\n",
      "\n",
      "Descriptive statistics of CustomerID columns:\n",
      " count    0.0\n",
      "mean     NaN\n",
      "std      NaN\n",
      "min      NaN\n",
      "25%      NaN\n",
      "50%      NaN\n",
      "75%      NaN\n",
      "max      NaN\n",
      "Name: CustomerID, dtype: float64\n"
     ]
    }
   ],
   "source": [
    "print('Descriptive statistics of numeric columns:\\n',ecom[ecom.Description.isnull()].describe())\n",
    "print('\\nDescriptive statistics of CustomerID columns:\\n',ecom[ecom.Description.isnull()].CustomerID.describe())"
   ]
  },
  {
   "cell_type": "code",
   "execution_count": 459,
   "metadata": {},
   "outputs": [
    {
     "output_type": "execute_result",
     "data": {
      "text/plain": [
       "       InvoiceNo  StockCode      Description  Quantity  UnitPrice  CustomerID  \\\n",
       "15016    C537630  AMAZONFEE       AMAZON FEE        -1   13541.33         NaN   \n",
       "15017     537632  AMAZONFEE       AMAZON FEE         1   13541.33         NaN   \n",
       "16232    C537644  AMAZONFEE       AMAZON FEE        -1   13474.79         NaN   \n",
       "16356    C537651  AMAZONFEE       AMAZON FEE        -1   13541.33         NaN   \n",
       "43702    C540117  AMAZONFEE       AMAZON FEE        -1   16888.02         NaN   \n",
       "43703    C540118  AMAZONFEE       AMAZON FEE        -1   16453.71         NaN   \n",
       "222681   C556445          M           Manual        -1   38970.00     15098.0   \n",
       "299982   A563185          B  Adjust bad debt         1   11062.06         NaN   \n",
       "299983   A563186          B  Adjust bad debt         1  -11062.06         NaN   \n",
       "299984   A563187          B  Adjust bad debt         1  -11062.06         NaN   \n",
       "524601   C580604  AMAZONFEE       AMAZON FEE        -1   11586.50         NaN   \n",
       "524602   C580605  AMAZONFEE       AMAZON FEE        -1   17836.46         NaN   \n",
       "\n",
       "               Country  TotalPrice InvoiceDate  \n",
       "15016   United Kingdom   -13541.33  2010-12-07  \n",
       "15017   United Kingdom    13541.33  2010-12-07  \n",
       "16232   United Kingdom   -13474.79  2010-12-07  \n",
       "16356   United Kingdom   -13541.33  2010-12-07  \n",
       "43702   United Kingdom   -16888.02  2011-01-05  \n",
       "43703   United Kingdom   -16453.71  2011-01-05  \n",
       "222681  United Kingdom   -38970.00  2011-06-10  \n",
       "299982  United Kingdom    11062.06  2011-08-12  \n",
       "299983  United Kingdom   -11062.06  2011-08-12  \n",
       "299984  United Kingdom   -11062.06  2011-08-12  \n",
       "524601  United Kingdom   -11586.50  2011-12-05  \n",
       "524602  United Kingdom   -17836.46  2011-12-05  "
      ],
      "text/html": "<div>\n<style scoped>\n    .dataframe tbody tr th:only-of-type {\n        vertical-align: middle;\n    }\n\n    .dataframe tbody tr th {\n        vertical-align: top;\n    }\n\n    .dataframe thead th {\n        text-align: right;\n    }\n</style>\n<table border=\"1\" class=\"dataframe\">\n  <thead>\n    <tr style=\"text-align: right;\">\n      <th></th>\n      <th>InvoiceNo</th>\n      <th>StockCode</th>\n      <th>Description</th>\n      <th>Quantity</th>\n      <th>UnitPrice</th>\n      <th>CustomerID</th>\n      <th>Country</th>\n      <th>TotalPrice</th>\n      <th>InvoiceDate</th>\n    </tr>\n  </thead>\n  <tbody>\n    <tr>\n      <th>15016</th>\n      <td>C537630</td>\n      <td>AMAZONFEE</td>\n      <td>AMAZON FEE</td>\n      <td>-1</td>\n      <td>13541.33</td>\n      <td>NaN</td>\n      <td>United Kingdom</td>\n      <td>-13541.33</td>\n      <td>2010-12-07</td>\n    </tr>\n    <tr>\n      <th>15017</th>\n      <td>537632</td>\n      <td>AMAZONFEE</td>\n      <td>AMAZON FEE</td>\n      <td>1</td>\n      <td>13541.33</td>\n      <td>NaN</td>\n      <td>United Kingdom</td>\n      <td>13541.33</td>\n      <td>2010-12-07</td>\n    </tr>\n    <tr>\n      <th>16232</th>\n      <td>C537644</td>\n      <td>AMAZONFEE</td>\n      <td>AMAZON FEE</td>\n      <td>-1</td>\n      <td>13474.79</td>\n      <td>NaN</td>\n      <td>United Kingdom</td>\n      <td>-13474.79</td>\n      <td>2010-12-07</td>\n    </tr>\n    <tr>\n      <th>16356</th>\n      <td>C537651</td>\n      <td>AMAZONFEE</td>\n      <td>AMAZON FEE</td>\n      <td>-1</td>\n      <td>13541.33</td>\n      <td>NaN</td>\n      <td>United Kingdom</td>\n      <td>-13541.33</td>\n      <td>2010-12-07</td>\n    </tr>\n    <tr>\n      <th>43702</th>\n      <td>C540117</td>\n      <td>AMAZONFEE</td>\n      <td>AMAZON FEE</td>\n      <td>-1</td>\n      <td>16888.02</td>\n      <td>NaN</td>\n      <td>United Kingdom</td>\n      <td>-16888.02</td>\n      <td>2011-01-05</td>\n    </tr>\n    <tr>\n      <th>43703</th>\n      <td>C540118</td>\n      <td>AMAZONFEE</td>\n      <td>AMAZON FEE</td>\n      <td>-1</td>\n      <td>16453.71</td>\n      <td>NaN</td>\n      <td>United Kingdom</td>\n      <td>-16453.71</td>\n      <td>2011-01-05</td>\n    </tr>\n    <tr>\n      <th>222681</th>\n      <td>C556445</td>\n      <td>M</td>\n      <td>Manual</td>\n      <td>-1</td>\n      <td>38970.00</td>\n      <td>15098.0</td>\n      <td>United Kingdom</td>\n      <td>-38970.00</td>\n      <td>2011-06-10</td>\n    </tr>\n    <tr>\n      <th>299982</th>\n      <td>A563185</td>\n      <td>B</td>\n      <td>Adjust bad debt</td>\n      <td>1</td>\n      <td>11062.06</td>\n      <td>NaN</td>\n      <td>United Kingdom</td>\n      <td>11062.06</td>\n      <td>2011-08-12</td>\n    </tr>\n    <tr>\n      <th>299983</th>\n      <td>A563186</td>\n      <td>B</td>\n      <td>Adjust bad debt</td>\n      <td>1</td>\n      <td>-11062.06</td>\n      <td>NaN</td>\n      <td>United Kingdom</td>\n      <td>-11062.06</td>\n      <td>2011-08-12</td>\n    </tr>\n    <tr>\n      <th>299984</th>\n      <td>A563187</td>\n      <td>B</td>\n      <td>Adjust bad debt</td>\n      <td>1</td>\n      <td>-11062.06</td>\n      <td>NaN</td>\n      <td>United Kingdom</td>\n      <td>-11062.06</td>\n      <td>2011-08-12</td>\n    </tr>\n    <tr>\n      <th>524601</th>\n      <td>C580604</td>\n      <td>AMAZONFEE</td>\n      <td>AMAZON FEE</td>\n      <td>-1</td>\n      <td>11586.50</td>\n      <td>NaN</td>\n      <td>United Kingdom</td>\n      <td>-11586.50</td>\n      <td>2011-12-05</td>\n    </tr>\n    <tr>\n      <th>524602</th>\n      <td>C580605</td>\n      <td>AMAZONFEE</td>\n      <td>AMAZON FEE</td>\n      <td>-1</td>\n      <td>17836.46</td>\n      <td>NaN</td>\n      <td>United Kingdom</td>\n      <td>-17836.46</td>\n      <td>2011-12-05</td>\n    </tr>\n  </tbody>\n</table>\n</div>"
     },
     "metadata": {},
     "execution_count": 459
    }
   ],
   "source": [
    "ecom[ecom['UnitPrice'].abs()>10000]"
   ]
  },
  {
   "cell_type": "code",
   "execution_count": 460,
   "metadata": {},
   "outputs": [
    {
     "output_type": "stream",
     "name": "stdout",
     "text": [
      "length of InvoiceNo:\n    length of InvoiceNo  no_rows\n0                    6   527387\n1                    7     9254\n\nFirst letter for invoice:\n   invoice first letter  no_rows\n0                    5   527387\n1                    C     9251\n2                    A        3\n"
     ]
    }
   ],
   "source": [
    "ecom['length_stockcode']=ecom.StockCode.str.len()\n",
    "ecom['length_invoiceno']=ecom.InvoiceNo.str.len()\n",
    "ecom['invoiceno_letter1']=ecom['InvoiceNo'].str[0]\n",
    "\n",
    "print(\"length of InvoiceNo:\\n\",ecom.length_invoiceno.value_counts(sort=True)\\\n",
    "      .reset_index(name='no_rows').rename(columns={'index':'length of InvoiceNo'}))\n",
    "print(\"\\nFirst letter for invoice:\\n\",ecom.invoiceno_letter1.value_counts(sort=True)\\\n",
    "      .reset_index(name='no_rows').rename(columns={'index':'invoice first letter'}))\n"
   ]
  },
  {
   "cell_type": "code",
   "execution_count": 461,
   "metadata": {},
   "outputs": [
    {
     "output_type": "stream",
     "name": "stdout",
     "text": [
      "\nDescription for StockCode with length below 5 or above 8 and number of lines affected:\n"
     ]
    },
    {
     "output_type": "execute_result",
     "data": {
      "text/plain": [
       "    length_stockcode     StockCode invoiceno_letter1  \\\n",
       "0                  1             B                 A   \n",
       "1                  1             D                 C   \n",
       "2                  1             M                 5   \n",
       "3                  1             M                 C   \n",
       "4                  1             S                 5   \n",
       "5                  1             S                 C   \n",
       "6                  2            C2                 5   \n",
       "7                  2            C2                 C   \n",
       "8                  3           DOT                 5   \n",
       "9                  3           DOT                 C   \n",
       "10                 4          CRUK                 C   \n",
       "11                 4          PADS                 5   \n",
       "12                 4          POST                 5   \n",
       "13                 4          POST                 C   \n",
       "14                 9     AMAZONFEE                 5   \n",
       "15                 9     AMAZONFEE                 C   \n",
       "16                 9     DCGSSGIRL                 5   \n",
       "17                12  BANK CHARGES                 5   \n",
       "18                12  BANK CHARGES                 C   \n",
       "19                12  GIFT_0001_10                 5   \n",
       "20                12  GIFT_0001_20                 5   \n",
       "21                12  GIFT_0001_20                 5   \n",
       "22                12  GIFT_0001_30                 5   \n",
       "23                12  GIFT_0001_40                 5   \n",
       "24                12  GIFT_0001_50                 5   \n",
       "\n",
       "                            Description  Freq  \n",
       "0                       Adjust bad debt     3  \n",
       "1                              Discount    77  \n",
       "2                                Manual   323  \n",
       "3                                Manual   244  \n",
       "4                               SAMPLES     2  \n",
       "5                               SAMPLES    60  \n",
       "6                              CARRIAGE   141  \n",
       "7                              CARRIAGE     2  \n",
       "8                        DOTCOM POSTAGE   708  \n",
       "9                        DOTCOM POSTAGE     1  \n",
       "10                      CRUK Commission    16  \n",
       "11           PADS TO MATCH ALL CUSHIONS     4  \n",
       "12                              POSTAGE  1126  \n",
       "13                              POSTAGE   126  \n",
       "14                           AMAZON FEE     2  \n",
       "15                           AMAZON FEE    32  \n",
       "16                      GIRLS PARTY BAG    13  \n",
       "17                         Bank Charges    12  \n",
       "18                         Bank Charges    25  \n",
       "19   Dotcomgiftshop Gift Voucher �10.00     8  \n",
       "20   Dotcomgiftshop Gift Voucher �20.00     9  \n",
       "21  to push order througha s stock was      1  \n",
       "22   Dotcomgiftshop Gift Voucher �30.00     7  \n",
       "23   Dotcomgiftshop Gift Voucher �40.00     3  \n",
       "24   Dotcomgiftshop Gift Voucher �50.00     4  "
      ],
      "text/html": "<div>\n<style scoped>\n    .dataframe tbody tr th:only-of-type {\n        vertical-align: middle;\n    }\n\n    .dataframe tbody tr th {\n        vertical-align: top;\n    }\n\n    .dataframe thead th {\n        text-align: right;\n    }\n</style>\n<table border=\"1\" class=\"dataframe\">\n  <thead>\n    <tr style=\"text-align: right;\">\n      <th></th>\n      <th>length_stockcode</th>\n      <th>StockCode</th>\n      <th>invoiceno_letter1</th>\n      <th>Description</th>\n      <th>Freq</th>\n    </tr>\n  </thead>\n  <tbody>\n    <tr>\n      <th>0</th>\n      <td>1</td>\n      <td>B</td>\n      <td>A</td>\n      <td>Adjust bad debt</td>\n      <td>3</td>\n    </tr>\n    <tr>\n      <th>1</th>\n      <td>1</td>\n      <td>D</td>\n      <td>C</td>\n      <td>Discount</td>\n      <td>77</td>\n    </tr>\n    <tr>\n      <th>2</th>\n      <td>1</td>\n      <td>M</td>\n      <td>5</td>\n      <td>Manual</td>\n      <td>323</td>\n    </tr>\n    <tr>\n      <th>3</th>\n      <td>1</td>\n      <td>M</td>\n      <td>C</td>\n      <td>Manual</td>\n      <td>244</td>\n    </tr>\n    <tr>\n      <th>4</th>\n      <td>1</td>\n      <td>S</td>\n      <td>5</td>\n      <td>SAMPLES</td>\n      <td>2</td>\n    </tr>\n    <tr>\n      <th>5</th>\n      <td>1</td>\n      <td>S</td>\n      <td>C</td>\n      <td>SAMPLES</td>\n      <td>60</td>\n    </tr>\n    <tr>\n      <th>6</th>\n      <td>2</td>\n      <td>C2</td>\n      <td>5</td>\n      <td>CARRIAGE</td>\n      <td>141</td>\n    </tr>\n    <tr>\n      <th>7</th>\n      <td>2</td>\n      <td>C2</td>\n      <td>C</td>\n      <td>CARRIAGE</td>\n      <td>2</td>\n    </tr>\n    <tr>\n      <th>8</th>\n      <td>3</td>\n      <td>DOT</td>\n      <td>5</td>\n      <td>DOTCOM POSTAGE</td>\n      <td>708</td>\n    </tr>\n    <tr>\n      <th>9</th>\n      <td>3</td>\n      <td>DOT</td>\n      <td>C</td>\n      <td>DOTCOM POSTAGE</td>\n      <td>1</td>\n    </tr>\n    <tr>\n      <th>10</th>\n      <td>4</td>\n      <td>CRUK</td>\n      <td>C</td>\n      <td>CRUK Commission</td>\n      <td>16</td>\n    </tr>\n    <tr>\n      <th>11</th>\n      <td>4</td>\n      <td>PADS</td>\n      <td>5</td>\n      <td>PADS TO MATCH ALL CUSHIONS</td>\n      <td>4</td>\n    </tr>\n    <tr>\n      <th>12</th>\n      <td>4</td>\n      <td>POST</td>\n      <td>5</td>\n      <td>POSTAGE</td>\n      <td>1126</td>\n    </tr>\n    <tr>\n      <th>13</th>\n      <td>4</td>\n      <td>POST</td>\n      <td>C</td>\n      <td>POSTAGE</td>\n      <td>126</td>\n    </tr>\n    <tr>\n      <th>14</th>\n      <td>9</td>\n      <td>AMAZONFEE</td>\n      <td>5</td>\n      <td>AMAZON FEE</td>\n      <td>2</td>\n    </tr>\n    <tr>\n      <th>15</th>\n      <td>9</td>\n      <td>AMAZONFEE</td>\n      <td>C</td>\n      <td>AMAZON FEE</td>\n      <td>32</td>\n    </tr>\n    <tr>\n      <th>16</th>\n      <td>9</td>\n      <td>DCGSSGIRL</td>\n      <td>5</td>\n      <td>GIRLS PARTY BAG</td>\n      <td>13</td>\n    </tr>\n    <tr>\n      <th>17</th>\n      <td>12</td>\n      <td>BANK CHARGES</td>\n      <td>5</td>\n      <td>Bank Charges</td>\n      <td>12</td>\n    </tr>\n    <tr>\n      <th>18</th>\n      <td>12</td>\n      <td>BANK CHARGES</td>\n      <td>C</td>\n      <td>Bank Charges</td>\n      <td>25</td>\n    </tr>\n    <tr>\n      <th>19</th>\n      <td>12</td>\n      <td>GIFT_0001_10</td>\n      <td>5</td>\n      <td>Dotcomgiftshop Gift Voucher �10.00</td>\n      <td>8</td>\n    </tr>\n    <tr>\n      <th>20</th>\n      <td>12</td>\n      <td>GIFT_0001_20</td>\n      <td>5</td>\n      <td>Dotcomgiftshop Gift Voucher �20.00</td>\n      <td>9</td>\n    </tr>\n    <tr>\n      <th>21</th>\n      <td>12</td>\n      <td>GIFT_0001_20</td>\n      <td>5</td>\n      <td>to push order througha s stock was</td>\n      <td>1</td>\n    </tr>\n    <tr>\n      <th>22</th>\n      <td>12</td>\n      <td>GIFT_0001_30</td>\n      <td>5</td>\n      <td>Dotcomgiftshop Gift Voucher �30.00</td>\n      <td>7</td>\n    </tr>\n    <tr>\n      <th>23</th>\n      <td>12</td>\n      <td>GIFT_0001_40</td>\n      <td>5</td>\n      <td>Dotcomgiftshop Gift Voucher �40.00</td>\n      <td>3</td>\n    </tr>\n    <tr>\n      <th>24</th>\n      <td>12</td>\n      <td>GIFT_0001_50</td>\n      <td>5</td>\n      <td>Dotcomgiftshop Gift Voucher �50.00</td>\n      <td>4</td>\n    </tr>\n  </tbody>\n</table>\n</div>"
     },
     "metadata": {},
     "execution_count": 461
    }
   ],
   "source": [
    "print(\"\\nDescription for StockCode with length below 5 or above 8 and number of lines affected:\")\n",
    "\n",
    "ecom[(ecom['length_stockcode']<5) | (ecom['length_stockcode']>8)]\\\n",
    "[['length_stockcode','invoiceno_letter1','StockCode','Description']]\\\n",
    ".groupby(by=['length_stockcode','StockCode','invoiceno_letter1']).Description.value_counts().reset_index(name='Freq')\n",
    "\n"
   ]
  },
  {
   "cell_type": "code",
   "execution_count": 462,
   "metadata": {},
   "outputs": [
    {
     "output_type": "stream",
     "name": "stdout",
     "text": [
      "\nDescription for StockCode with length 7 or 8 and number of lines affected:\n\n"
     ]
    },
    {
     "output_type": "execute_result",
     "data": {
      "text/plain": [
       "    length_stockcode StockCode                   Description  freq\n",
       "0                  7   15056BL       EDWARDIAN PARASOL BLACK   388\n",
       "1                  7   79323GR        Unsaleable, destroyed.     1\n",
       "2                  7   79323LP        Unsaleable, destroyed.     1\n",
       "3                  8  DCGS0003           BOXED GLASS ASHTRAY     4\n",
       "4                  8  DCGS0003                          ebay     1\n",
       "5                  8  DCGS0004    HAYNES CAMPER SHOULDER BAG     1\n",
       "6                  8  DCGS0067                          ebay     1\n",
       "7                  8  DCGS0068                          ebay     1\n",
       "8                  8  DCGS0069         OOH LA LA DOGS COLLAR     1\n",
       "9                  8  DCGS0069                          ebay     1\n",
       "10                 8  DCGS0070         CAMOUFLAGE DOG COLLAR     1\n",
       "11                 8  DCGS0073                          ebay     1\n",
       "12                 8  DCGS0076  SUNJAR LED NIGHT NIGHT LIGHT     2\n",
       "13                 8  DCGSSBOY                BOYS PARTY BAG    11"
      ],
      "text/html": "<div>\n<style scoped>\n    .dataframe tbody tr th:only-of-type {\n        vertical-align: middle;\n    }\n\n    .dataframe tbody tr th {\n        vertical-align: top;\n    }\n\n    .dataframe thead th {\n        text-align: right;\n    }\n</style>\n<table border=\"1\" class=\"dataframe\">\n  <thead>\n    <tr style=\"text-align: right;\">\n      <th></th>\n      <th>length_stockcode</th>\n      <th>StockCode</th>\n      <th>Description</th>\n      <th>freq</th>\n    </tr>\n  </thead>\n  <tbody>\n    <tr>\n      <th>0</th>\n      <td>7</td>\n      <td>15056BL</td>\n      <td>EDWARDIAN PARASOL BLACK</td>\n      <td>388</td>\n    </tr>\n    <tr>\n      <th>1</th>\n      <td>7</td>\n      <td>79323GR</td>\n      <td>Unsaleable, destroyed.</td>\n      <td>1</td>\n    </tr>\n    <tr>\n      <th>2</th>\n      <td>7</td>\n      <td>79323LP</td>\n      <td>Unsaleable, destroyed.</td>\n      <td>1</td>\n    </tr>\n    <tr>\n      <th>3</th>\n      <td>8</td>\n      <td>DCGS0003</td>\n      <td>BOXED GLASS ASHTRAY</td>\n      <td>4</td>\n    </tr>\n    <tr>\n      <th>4</th>\n      <td>8</td>\n      <td>DCGS0003</td>\n      <td>ebay</td>\n      <td>1</td>\n    </tr>\n    <tr>\n      <th>5</th>\n      <td>8</td>\n      <td>DCGS0004</td>\n      <td>HAYNES CAMPER SHOULDER BAG</td>\n      <td>1</td>\n    </tr>\n    <tr>\n      <th>6</th>\n      <td>8</td>\n      <td>DCGS0067</td>\n      <td>ebay</td>\n      <td>1</td>\n    </tr>\n    <tr>\n      <th>7</th>\n      <td>8</td>\n      <td>DCGS0068</td>\n      <td>ebay</td>\n      <td>1</td>\n    </tr>\n    <tr>\n      <th>8</th>\n      <td>8</td>\n      <td>DCGS0069</td>\n      <td>OOH LA LA DOGS COLLAR</td>\n      <td>1</td>\n    </tr>\n    <tr>\n      <th>9</th>\n      <td>8</td>\n      <td>DCGS0069</td>\n      <td>ebay</td>\n      <td>1</td>\n    </tr>\n    <tr>\n      <th>10</th>\n      <td>8</td>\n      <td>DCGS0070</td>\n      <td>CAMOUFLAGE DOG COLLAR</td>\n      <td>1</td>\n    </tr>\n    <tr>\n      <th>11</th>\n      <td>8</td>\n      <td>DCGS0073</td>\n      <td>ebay</td>\n      <td>1</td>\n    </tr>\n    <tr>\n      <th>12</th>\n      <td>8</td>\n      <td>DCGS0076</td>\n      <td>SUNJAR LED NIGHT NIGHT LIGHT</td>\n      <td>2</td>\n    </tr>\n    <tr>\n      <th>13</th>\n      <td>8</td>\n      <td>DCGSSBOY</td>\n      <td>BOYS PARTY BAG</td>\n      <td>11</td>\n    </tr>\n  </tbody>\n</table>\n</div>"
     },
     "metadata": {},
     "execution_count": 462
    }
   ],
   "source": [
    "print(\"\\nDescription for StockCode with length 7 or 8 and number of lines affected:\\n\")\n",
    "ecom[(ecom['length_stockcode']==7) | (ecom['length_stockcode']==8)]\\\n",
    "[['length_stockcode','invoiceno_letter1','StockCode','Description']]\\\n",
    ".groupby(by=['length_stockcode','StockCode']).Description.value_counts().reset_index(name='freq')"
   ]
  },
  {
   "cell_type": "code",
   "execution_count": 463,
   "metadata": {},
   "outputs": [
    {
     "output_type": "execute_result",
     "data": {
      "text/plain": [
       "      InvoiceNo StockCode                 Description  Quantity  UnitPrice  \\\n",
       "6391     536941     22734                      amazon        20        0.0   \n",
       "6392     536942     22139                      amazon        15        0.0   \n",
       "7313     537032     21275                           ?       -30        0.0   \n",
       "13217    537425    84968F                       check       -20        0.0   \n",
       "13218    537426    84968E                       check       -35        0.0   \n",
       "13264    537432    35833G                     damages       -43        0.0   \n",
       "15651    537639     22734                      amazon        30        0.0   \n",
       "21338    538072     22423                      faulty       -13        0.0   \n",
       "21518    538090     20956                           ?      -723        0.0   \n",
       "24290    538348     22734                      amazon        30        0.0   \n",
       "30555    538873     22734                amazon sales        20        0.0   \n",
       "38261    539494     21479                           ?       752        0.0   \n",
       "42564    540010     22501  reverse 21/5/10 adjustment      -100        0.0   \n",
       "42566    540012     22502  reverse 21/5/10 adjustment      -100        0.0   \n",
       "43662    540100     22837                           ?      -106        0.0   \n",
       "50806    540558     21258                           ?       -29        0.0   \n",
       "50849    540564     22617        mouldy, thrown away.     -2600        0.0   \n",
       "51049    540638    72038P                     damages      -990        0.0   \n",
       "51673    540651     82599                           ?      -290        0.0   \n",
       "51757    540673     21644                       found       144        0.0   \n",
       "\n",
       "       CustomerID         Country  TotalPrice InvoiceDate  \n",
       "6391          NaN  United Kingdom         0.0  2010-12-03  \n",
       "6392          NaN  United Kingdom         0.0  2010-12-03  \n",
       "7313          NaN  United Kingdom        -0.0  2010-12-03  \n",
       "13217         NaN  United Kingdom        -0.0  2010-12-06  \n",
       "13218         NaN  United Kingdom        -0.0  2010-12-06  \n",
       "13264         NaN  United Kingdom        -0.0  2010-12-06  \n",
       "15651         NaN  United Kingdom         0.0  2010-12-07  \n",
       "21338         NaN  United Kingdom        -0.0  2010-12-09  \n",
       "21518         NaN  United Kingdom        -0.0  2010-12-09  \n",
       "24290         NaN  United Kingdom         0.0  2010-12-10  \n",
       "30555         NaN  United Kingdom         0.0  2010-12-14  \n",
       "38261         NaN  United Kingdom         0.0  2010-12-20  \n",
       "42564         NaN  United Kingdom        -0.0  2011-01-04  \n",
       "42566         NaN  United Kingdom        -0.0  2011-01-04  \n",
       "43662         NaN  United Kingdom        -0.0  2011-01-04  \n",
       "50806         NaN  United Kingdom        -0.0  2011-01-10  \n",
       "50849         NaN  United Kingdom        -0.0  2011-01-10  \n",
       "51049         NaN  United Kingdom        -0.0  2011-01-10  \n",
       "51673         NaN  United Kingdom        -0.0  2011-01-10  \n",
       "51757         NaN  United Kingdom         0.0  2011-01-10  "
      ],
      "text/html": "<div>\n<style scoped>\n    .dataframe tbody tr th:only-of-type {\n        vertical-align: middle;\n    }\n\n    .dataframe tbody tr th {\n        vertical-align: top;\n    }\n\n    .dataframe thead th {\n        text-align: right;\n    }\n</style>\n<table border=\"1\" class=\"dataframe\">\n  <thead>\n    <tr style=\"text-align: right;\">\n      <th></th>\n      <th>InvoiceNo</th>\n      <th>StockCode</th>\n      <th>Description</th>\n      <th>Quantity</th>\n      <th>UnitPrice</th>\n      <th>CustomerID</th>\n      <th>Country</th>\n      <th>TotalPrice</th>\n      <th>InvoiceDate</th>\n    </tr>\n  </thead>\n  <tbody>\n    <tr>\n      <th>6391</th>\n      <td>536941</td>\n      <td>22734</td>\n      <td>amazon</td>\n      <td>20</td>\n      <td>0.0</td>\n      <td>NaN</td>\n      <td>United Kingdom</td>\n      <td>0.0</td>\n      <td>2010-12-03</td>\n    </tr>\n    <tr>\n      <th>6392</th>\n      <td>536942</td>\n      <td>22139</td>\n      <td>amazon</td>\n      <td>15</td>\n      <td>0.0</td>\n      <td>NaN</td>\n      <td>United Kingdom</td>\n      <td>0.0</td>\n      <td>2010-12-03</td>\n    </tr>\n    <tr>\n      <th>7313</th>\n      <td>537032</td>\n      <td>21275</td>\n      <td>?</td>\n      <td>-30</td>\n      <td>0.0</td>\n      <td>NaN</td>\n      <td>United Kingdom</td>\n      <td>-0.0</td>\n      <td>2010-12-03</td>\n    </tr>\n    <tr>\n      <th>13217</th>\n      <td>537425</td>\n      <td>84968F</td>\n      <td>check</td>\n      <td>-20</td>\n      <td>0.0</td>\n      <td>NaN</td>\n      <td>United Kingdom</td>\n      <td>-0.0</td>\n      <td>2010-12-06</td>\n    </tr>\n    <tr>\n      <th>13218</th>\n      <td>537426</td>\n      <td>84968E</td>\n      <td>check</td>\n      <td>-35</td>\n      <td>0.0</td>\n      <td>NaN</td>\n      <td>United Kingdom</td>\n      <td>-0.0</td>\n      <td>2010-12-06</td>\n    </tr>\n    <tr>\n      <th>13264</th>\n      <td>537432</td>\n      <td>35833G</td>\n      <td>damages</td>\n      <td>-43</td>\n      <td>0.0</td>\n      <td>NaN</td>\n      <td>United Kingdom</td>\n      <td>-0.0</td>\n      <td>2010-12-06</td>\n    </tr>\n    <tr>\n      <th>15651</th>\n      <td>537639</td>\n      <td>22734</td>\n      <td>amazon</td>\n      <td>30</td>\n      <td>0.0</td>\n      <td>NaN</td>\n      <td>United Kingdom</td>\n      <td>0.0</td>\n      <td>2010-12-07</td>\n    </tr>\n    <tr>\n      <th>21338</th>\n      <td>538072</td>\n      <td>22423</td>\n      <td>faulty</td>\n      <td>-13</td>\n      <td>0.0</td>\n      <td>NaN</td>\n      <td>United Kingdom</td>\n      <td>-0.0</td>\n      <td>2010-12-09</td>\n    </tr>\n    <tr>\n      <th>21518</th>\n      <td>538090</td>\n      <td>20956</td>\n      <td>?</td>\n      <td>-723</td>\n      <td>0.0</td>\n      <td>NaN</td>\n      <td>United Kingdom</td>\n      <td>-0.0</td>\n      <td>2010-12-09</td>\n    </tr>\n    <tr>\n      <th>24290</th>\n      <td>538348</td>\n      <td>22734</td>\n      <td>amazon</td>\n      <td>30</td>\n      <td>0.0</td>\n      <td>NaN</td>\n      <td>United Kingdom</td>\n      <td>0.0</td>\n      <td>2010-12-10</td>\n    </tr>\n    <tr>\n      <th>30555</th>\n      <td>538873</td>\n      <td>22734</td>\n      <td>amazon sales</td>\n      <td>20</td>\n      <td>0.0</td>\n      <td>NaN</td>\n      <td>United Kingdom</td>\n      <td>0.0</td>\n      <td>2010-12-14</td>\n    </tr>\n    <tr>\n      <th>38261</th>\n      <td>539494</td>\n      <td>21479</td>\n      <td>?</td>\n      <td>752</td>\n      <td>0.0</td>\n      <td>NaN</td>\n      <td>United Kingdom</td>\n      <td>0.0</td>\n      <td>2010-12-20</td>\n    </tr>\n    <tr>\n      <th>42564</th>\n      <td>540010</td>\n      <td>22501</td>\n      <td>reverse 21/5/10 adjustment</td>\n      <td>-100</td>\n      <td>0.0</td>\n      <td>NaN</td>\n      <td>United Kingdom</td>\n      <td>-0.0</td>\n      <td>2011-01-04</td>\n    </tr>\n    <tr>\n      <th>42566</th>\n      <td>540012</td>\n      <td>22502</td>\n      <td>reverse 21/5/10 adjustment</td>\n      <td>-100</td>\n      <td>0.0</td>\n      <td>NaN</td>\n      <td>United Kingdom</td>\n      <td>-0.0</td>\n      <td>2011-01-04</td>\n    </tr>\n    <tr>\n      <th>43662</th>\n      <td>540100</td>\n      <td>22837</td>\n      <td>?</td>\n      <td>-106</td>\n      <td>0.0</td>\n      <td>NaN</td>\n      <td>United Kingdom</td>\n      <td>-0.0</td>\n      <td>2011-01-04</td>\n    </tr>\n    <tr>\n      <th>50806</th>\n      <td>540558</td>\n      <td>21258</td>\n      <td>?</td>\n      <td>-29</td>\n      <td>0.0</td>\n      <td>NaN</td>\n      <td>United Kingdom</td>\n      <td>-0.0</td>\n      <td>2011-01-10</td>\n    </tr>\n    <tr>\n      <th>50849</th>\n      <td>540564</td>\n      <td>22617</td>\n      <td>mouldy, thrown away.</td>\n      <td>-2600</td>\n      <td>0.0</td>\n      <td>NaN</td>\n      <td>United Kingdom</td>\n      <td>-0.0</td>\n      <td>2011-01-10</td>\n    </tr>\n    <tr>\n      <th>51049</th>\n      <td>540638</td>\n      <td>72038P</td>\n      <td>damages</td>\n      <td>-990</td>\n      <td>0.0</td>\n      <td>NaN</td>\n      <td>United Kingdom</td>\n      <td>-0.0</td>\n      <td>2011-01-10</td>\n    </tr>\n    <tr>\n      <th>51673</th>\n      <td>540651</td>\n      <td>82599</td>\n      <td>?</td>\n      <td>-290</td>\n      <td>0.0</td>\n      <td>NaN</td>\n      <td>United Kingdom</td>\n      <td>-0.0</td>\n      <td>2011-01-10</td>\n    </tr>\n    <tr>\n      <th>51757</th>\n      <td>540673</td>\n      <td>21644</td>\n      <td>found</td>\n      <td>144</td>\n      <td>0.0</td>\n      <td>NaN</td>\n      <td>United Kingdom</td>\n      <td>0.0</td>\n      <td>2011-01-10</td>\n    </tr>\n  </tbody>\n</table>\n</div>"
     },
     "metadata": {},
     "execution_count": 463
    }
   ],
   "source": [
    "ecom[ecom['Description'].str.contains(\"^[a-z]|\\\\?\",case=True, na=False)].\\\n",
    "drop(['length_stockcode','length_invoiceno','invoiceno_letter1'],axis=1).head(20)\n"
   ]
  },
  {
   "cell_type": "code",
   "execution_count": 464,
   "metadata": {},
   "outputs": [
    {
     "output_type": "stream",
     "name": "stdout",
     "text": [
      "no of rows affected: 2470\n"
     ]
    },
    {
     "output_type": "execute_result",
     "data": {
      "text/plain": [
       "                        Description  freq\n",
       "0                             check   159\n",
       "1                                 ?    47\n",
       "2                           damages    45\n",
       "3                           damaged    43\n",
       "4                             found    25\n",
       "5             sold as set on dotcom    20\n",
       "6                        adjustment    16\n",
       "7                           Damaged    14\n",
       "8                       thrown away     9\n",
       "9            Unsaleable, destroyed.     9\n",
       "10    FRENCH BLUE METAL DOOR SIGN 1     9\n",
       "11                            Found     8\n",
       "12    FRENCH BLUE METAL DOOR SIGN 8     8\n",
       "13                           amazon     8\n",
       "14                     OWL DOORSTOP     7\n",
       "15   FRENCH BLUE METAL DOOR SIGN No     7\n",
       "16  RECIPE BOX PANTRY YELLOW DESIGN     7\n",
       "17    FRENCH BLUE METAL DOOR SIGN 3     7\n",
       "18                           Amazon     7\n",
       "19    FRENCH BLUE METAL DOOR SIGN 4     7"
      ],
      "text/html": "<div>\n<style scoped>\n    .dataframe tbody tr th:only-of-type {\n        vertical-align: middle;\n    }\n\n    .dataframe tbody tr th {\n        vertical-align: top;\n    }\n\n    .dataframe thead th {\n        text-align: right;\n    }\n</style>\n<table border=\"1\" class=\"dataframe\">\n  <thead>\n    <tr style=\"text-align: right;\">\n      <th></th>\n      <th>Description</th>\n      <th>freq</th>\n    </tr>\n  </thead>\n  <tbody>\n    <tr>\n      <th>0</th>\n      <td>check</td>\n      <td>159</td>\n    </tr>\n    <tr>\n      <th>1</th>\n      <td>?</td>\n      <td>47</td>\n    </tr>\n    <tr>\n      <th>2</th>\n      <td>damages</td>\n      <td>45</td>\n    </tr>\n    <tr>\n      <th>3</th>\n      <td>damaged</td>\n      <td>43</td>\n    </tr>\n    <tr>\n      <th>4</th>\n      <td>found</td>\n      <td>25</td>\n    </tr>\n    <tr>\n      <th>5</th>\n      <td>sold as set on dotcom</td>\n      <td>20</td>\n    </tr>\n    <tr>\n      <th>6</th>\n      <td>adjustment</td>\n      <td>16</td>\n    </tr>\n    <tr>\n      <th>7</th>\n      <td>Damaged</td>\n      <td>14</td>\n    </tr>\n    <tr>\n      <th>8</th>\n      <td>thrown away</td>\n      <td>9</td>\n    </tr>\n    <tr>\n      <th>9</th>\n      <td>Unsaleable, destroyed.</td>\n      <td>9</td>\n    </tr>\n    <tr>\n      <th>10</th>\n      <td>FRENCH BLUE METAL DOOR SIGN 1</td>\n      <td>9</td>\n    </tr>\n    <tr>\n      <th>11</th>\n      <td>Found</td>\n      <td>8</td>\n    </tr>\n    <tr>\n      <th>12</th>\n      <td>FRENCH BLUE METAL DOOR SIGN 8</td>\n      <td>8</td>\n    </tr>\n    <tr>\n      <th>13</th>\n      <td>amazon</td>\n      <td>8</td>\n    </tr>\n    <tr>\n      <th>14</th>\n      <td>OWL DOORSTOP</td>\n      <td>7</td>\n    </tr>\n    <tr>\n      <th>15</th>\n      <td>FRENCH BLUE METAL DOOR SIGN No</td>\n      <td>7</td>\n    </tr>\n    <tr>\n      <th>16</th>\n      <td>RECIPE BOX PANTRY YELLOW DESIGN</td>\n      <td>7</td>\n    </tr>\n    <tr>\n      <th>17</th>\n      <td>FRENCH BLUE METAL DOOR SIGN 3</td>\n      <td>7</td>\n    </tr>\n    <tr>\n      <th>18</th>\n      <td>Amazon</td>\n      <td>7</td>\n    </tr>\n    <tr>\n      <th>19</th>\n      <td>FRENCH BLUE METAL DOOR SIGN 4</td>\n      <td>7</td>\n    </tr>\n  </tbody>\n</table>\n</div>"
     },
     "metadata": {},
     "execution_count": 464
    }
   ],
   "source": [
    "print('no of rows affected:',ecom[(ecom.CustomerID.isnull()) & (ecom['UnitPrice']==0)].shape[0])\n",
    "ecom[(ecom.CustomerID.isnull()) & (ecom['UnitPrice']==0)]\\\n",
    ".Description.value_counts().reset_index(name='freq').rename(columns={'index':'Description'}).head(20)"
   ]
  },
  {
   "cell_type": "code",
   "execution_count": 465,
   "metadata": {},
   "outputs": [
    {
     "output_type": "execute_result",
     "data": {
      "text/plain": [
       "(536641, 12)"
      ]
     },
     "metadata": {},
     "execution_count": 465
    }
   ],
   "source": [
    "ecom1=ecom.copy()\n",
    "ecom.shape"
   ]
  },
  {
   "cell_type": "code",
   "execution_count": 466,
   "metadata": {},
   "outputs": [
    {
     "output_type": "stream",
     "name": "stdout",
     "text": [
      "(1454, 12)\n",
      "(535187, 12)\n"
     ]
    }
   ],
   "source": [
    "#1. Separate missing description rows\n",
    "ecom.NAdesc=ecom1[(ecom1.Description.isnull())]\n",
    "print(ecom.NAdesc.shape)\n",
    "ecom.NAdesc.to_csv('No descriptions.csv',index=False)\n",
    "ecom1=ecom1[~(ecom1.Description.isnull())]\n",
    "print(ecom1.shape)"
   ]
  },
  {
   "cell_type": "code",
   "execution_count": 467,
   "metadata": {},
   "outputs": [
    {
     "output_type": "execute_result",
     "data": {
      "text/plain": [
       "  InvoiceNo StockCode                          Description  Quantity  \\\n",
       "0    536365    85123A   WHITE HANGING HEART T-LIGHT HOLDER         6   \n",
       "1    536365     71053                  WHITE METAL LANTERN         6   \n",
       "2    536365    84406B       CREAM CUPID HEARTS COAT HANGER         8   \n",
       "3    536365    84029G  KNITTED UNION FLAG HOT WATER BOTTLE         6   \n",
       "4    536365    84029E       RED WOOLLY HOTTIE WHITE HEART.         6   \n",
       "5    536365     22752         SET 7 BABUSHKA NESTING BOXES         2   \n",
       "6    536365     21730    GLASS STAR FROSTED T-LIGHT HOLDER         6   \n",
       "7    536366     22633               HAND WARMER UNION JACK         6   \n",
       "8    536366     22632            HAND WARMER RED POLKA DOT         6   \n",
       "9    536367     84879        ASSORTED COLOUR BIRD ORNAMENT        32   \n",
       "\n",
       "   UnitPrice  CustomerID         Country  TotalPrice InvoiceDate  \\\n",
       "0       2.55     17850.0  United Kingdom       15.30  2010-12-01   \n",
       "1       3.39     17850.0  United Kingdom       20.34  2010-12-01   \n",
       "2       2.75     17850.0  United Kingdom       22.00  2010-12-01   \n",
       "3       3.39     17850.0  United Kingdom       20.34  2010-12-01   \n",
       "4       3.39     17850.0  United Kingdom       20.34  2010-12-01   \n",
       "5       7.65     17850.0  United Kingdom       15.30  2010-12-01   \n",
       "6       4.25     17850.0  United Kingdom       25.50  2010-12-01   \n",
       "7       1.85     17850.0  United Kingdom       11.10  2010-12-01   \n",
       "8       1.85     17850.0  United Kingdom       11.10  2010-12-01   \n",
       "9       1.69     13047.0  United Kingdom       54.08  2010-12-01   \n",
       "\n",
       "   length_stockcode  length_invoiceno invoiceno_letter1  \n",
       "0                 6                 6                 5  \n",
       "1                 5                 6                 5  \n",
       "2                 6                 6                 5  \n",
       "3                 6                 6                 5  \n",
       "4                 6                 6                 5  \n",
       "5                 5                 6                 5  \n",
       "6                 5                 6                 5  \n",
       "7                 5                 6                 5  \n",
       "8                 5                 6                 5  \n",
       "9                 5                 6                 5  "
      ],
      "text/html": "<div>\n<style scoped>\n    .dataframe tbody tr th:only-of-type {\n        vertical-align: middle;\n    }\n\n    .dataframe tbody tr th {\n        vertical-align: top;\n    }\n\n    .dataframe thead th {\n        text-align: right;\n    }\n</style>\n<table border=\"1\" class=\"dataframe\">\n  <thead>\n    <tr style=\"text-align: right;\">\n      <th></th>\n      <th>InvoiceNo</th>\n      <th>StockCode</th>\n      <th>Description</th>\n      <th>Quantity</th>\n      <th>UnitPrice</th>\n      <th>CustomerID</th>\n      <th>Country</th>\n      <th>TotalPrice</th>\n      <th>InvoiceDate</th>\n      <th>length_stockcode</th>\n      <th>length_invoiceno</th>\n      <th>invoiceno_letter1</th>\n    </tr>\n  </thead>\n  <tbody>\n    <tr>\n      <th>0</th>\n      <td>536365</td>\n      <td>85123A</td>\n      <td>WHITE HANGING HEART T-LIGHT HOLDER</td>\n      <td>6</td>\n      <td>2.55</td>\n      <td>17850.0</td>\n      <td>United Kingdom</td>\n      <td>15.30</td>\n      <td>2010-12-01</td>\n      <td>6</td>\n      <td>6</td>\n      <td>5</td>\n    </tr>\n    <tr>\n      <th>1</th>\n      <td>536365</td>\n      <td>71053</td>\n      <td>WHITE METAL LANTERN</td>\n      <td>6</td>\n      <td>3.39</td>\n      <td>17850.0</td>\n      <td>United Kingdom</td>\n      <td>20.34</td>\n      <td>2010-12-01</td>\n      <td>5</td>\n      <td>6</td>\n      <td>5</td>\n    </tr>\n    <tr>\n      <th>2</th>\n      <td>536365</td>\n      <td>84406B</td>\n      <td>CREAM CUPID HEARTS COAT HANGER</td>\n      <td>8</td>\n      <td>2.75</td>\n      <td>17850.0</td>\n      <td>United Kingdom</td>\n      <td>22.00</td>\n      <td>2010-12-01</td>\n      <td>6</td>\n      <td>6</td>\n      <td>5</td>\n    </tr>\n    <tr>\n      <th>3</th>\n      <td>536365</td>\n      <td>84029G</td>\n      <td>KNITTED UNION FLAG HOT WATER BOTTLE</td>\n      <td>6</td>\n      <td>3.39</td>\n      <td>17850.0</td>\n      <td>United Kingdom</td>\n      <td>20.34</td>\n      <td>2010-12-01</td>\n      <td>6</td>\n      <td>6</td>\n      <td>5</td>\n    </tr>\n    <tr>\n      <th>4</th>\n      <td>536365</td>\n      <td>84029E</td>\n      <td>RED WOOLLY HOTTIE WHITE HEART.</td>\n      <td>6</td>\n      <td>3.39</td>\n      <td>17850.0</td>\n      <td>United Kingdom</td>\n      <td>20.34</td>\n      <td>2010-12-01</td>\n      <td>6</td>\n      <td>6</td>\n      <td>5</td>\n    </tr>\n    <tr>\n      <th>5</th>\n      <td>536365</td>\n      <td>22752</td>\n      <td>SET 7 BABUSHKA NESTING BOXES</td>\n      <td>2</td>\n      <td>7.65</td>\n      <td>17850.0</td>\n      <td>United Kingdom</td>\n      <td>15.30</td>\n      <td>2010-12-01</td>\n      <td>5</td>\n      <td>6</td>\n      <td>5</td>\n    </tr>\n    <tr>\n      <th>6</th>\n      <td>536365</td>\n      <td>21730</td>\n      <td>GLASS STAR FROSTED T-LIGHT HOLDER</td>\n      <td>6</td>\n      <td>4.25</td>\n      <td>17850.0</td>\n      <td>United Kingdom</td>\n      <td>25.50</td>\n      <td>2010-12-01</td>\n      <td>5</td>\n      <td>6</td>\n      <td>5</td>\n    </tr>\n    <tr>\n      <th>7</th>\n      <td>536366</td>\n      <td>22633</td>\n      <td>HAND WARMER UNION JACK</td>\n      <td>6</td>\n      <td>1.85</td>\n      <td>17850.0</td>\n      <td>United Kingdom</td>\n      <td>11.10</td>\n      <td>2010-12-01</td>\n      <td>5</td>\n      <td>6</td>\n      <td>5</td>\n    </tr>\n    <tr>\n      <th>8</th>\n      <td>536366</td>\n      <td>22632</td>\n      <td>HAND WARMER RED POLKA DOT</td>\n      <td>6</td>\n      <td>1.85</td>\n      <td>17850.0</td>\n      <td>United Kingdom</td>\n      <td>11.10</td>\n      <td>2010-12-01</td>\n      <td>5</td>\n      <td>6</td>\n      <td>5</td>\n    </tr>\n    <tr>\n      <th>9</th>\n      <td>536367</td>\n      <td>84879</td>\n      <td>ASSORTED COLOUR BIRD ORNAMENT</td>\n      <td>32</td>\n      <td>1.69</td>\n      <td>13047.0</td>\n      <td>United Kingdom</td>\n      <td>54.08</td>\n      <td>2010-12-01</td>\n      <td>5</td>\n      <td>6</td>\n      <td>5</td>\n    </tr>\n  </tbody>\n</table>\n</div>"
     },
     "metadata": {},
     "execution_count": 467
    }
   ],
   "source": [
    "ecom.head(10)"
   ]
  },
  {
   "cell_type": "code",
   "execution_count": 468,
   "metadata": {},
   "outputs": [
    {
     "output_type": "stream",
     "name": "stdout",
     "text": [
      "(2904, 12)\n",
      "(532283, 12)\n"
     ]
    }
   ],
   "source": [
    "#2. Separate length-stockcode<5, StockCode=['AMAZONFEE','BANK CHARGES']\n",
    "ecom.otherdesc=ecom1[(ecom1['length_stockcode']<5) | (ecom1['StockCode']=='AMAZONFEE') \\\n",
    "                       | (ecom1['StockCode']=='BANK CHARGES')]\n",
    "print(ecom.otherdesc.shape)\n",
    "ecom.otherdesc.to_csv('Other descriptions.csv',index=False)\n",
    "ecom1=ecom1[~((ecom1['length_stockcode']<5) | (ecom1['StockCode']=='AMAZONFEE') \\\n",
    "                       | (ecom1['StockCode']=='BANK CHARGES'))]\n",
    "print(ecom1.shape)"
   ]
  },
  {
   "cell_type": "code",
   "execution_count": 469,
   "metadata": {},
   "outputs": [
    {
     "output_type": "stream",
     "name": "stdout",
     "text": [
      "(1014, 12)\n",
      "(531269, 12)\n"
     ]
    }
   ],
   "source": [
    "#3. Remove rows that contain problematic description and UnitPrice=0 into a new file.\n",
    "ecom.weird=ecom1[(ecom1.CustomerID.isnull()) & (ecom1['UnitPrice']==0)]\n",
    "print(ecom.weird.shape)\n",
    "ecom.weird.to_csv('weird description and or unitprice.csv',index=False)\n",
    "ecom1=ecom1[~((ecom1.CustomerID.isnull()) & (ecom1['UnitPrice']==0))]\n",
    "print(ecom1.shape)"
   ]
  },
  {
   "cell_type": "code",
   "execution_count": 470,
   "metadata": {},
   "outputs": [
    {
     "output_type": "stream",
     "name": "stdout",
     "text": [
      "(8668, 12)\n",
      "(522601, 12)\n"
     ]
    }
   ],
   "source": [
    "#4. to remove Cancelled transactions into a separate dataset\n",
    "ecom.Cancel=ecom1[ecom1['invoiceno_letter1']=='C']\n",
    "print(ecom.Cancel.shape)\n",
    "ecom.Cancel.to_csv('Cancelled Transactions v2.csv',index=False)\n",
    "ecom1=ecom1[ecom1['invoiceno_letter1']!='C']\n",
    "print(ecom1.shape)\n",
    "#we have 9251 row of cancelled transaction"
   ]
  },
  {
   "cell_type": "code",
   "execution_count": 471,
   "metadata": {},
   "outputs": [
    {
     "output_type": "execute_result",
     "data": {
      "text/plain": [
       "                                           Quantity  UnitPrice  TotalPrice  \\\n",
       "CustomerID Description                                                       \n",
       "12346.0    MEDIUM CERAMIC TOP STORAGE JAR     74215       1.04     77183.6   \n",
       "12347.0    3D DOG PICTURE PLAYING CARDS         126      14.75       371.7   \n",
       "           3D SHEET OF CAT STICKERS              12       0.85        10.2   \n",
       "           3D SHEET OF DOG STICKERS              12       0.85        10.2   \n",
       "           60 TEATIME FAIRY CAKE CASES           72       1.65        39.6   \n",
       "\n",
       "                                           length_stockcode  length_invoiceno  \n",
       "CustomerID Description                                                         \n",
       "12346.0    MEDIUM CERAMIC TOP STORAGE JAR                 5                 6  \n",
       "12347.0    3D DOG PICTURE PLAYING CARDS                  30                30  \n",
       "           3D SHEET OF CAT STICKERS                       6                 6  \n",
       "           3D SHEET OF DOG STICKERS                       6                 6  \n",
       "           60 TEATIME FAIRY CAKE CASES                   15                18  "
      ],
      "text/html": "<div>\n<style scoped>\n    .dataframe tbody tr th:only-of-type {\n        vertical-align: middle;\n    }\n\n    .dataframe tbody tr th {\n        vertical-align: top;\n    }\n\n    .dataframe thead th {\n        text-align: right;\n    }\n</style>\n<table border=\"1\" class=\"dataframe\">\n  <thead>\n    <tr style=\"text-align: right;\">\n      <th></th>\n      <th></th>\n      <th>Quantity</th>\n      <th>UnitPrice</th>\n      <th>TotalPrice</th>\n      <th>length_stockcode</th>\n      <th>length_invoiceno</th>\n    </tr>\n    <tr>\n      <th>CustomerID</th>\n      <th>Description</th>\n      <th></th>\n      <th></th>\n      <th></th>\n      <th></th>\n      <th></th>\n    </tr>\n  </thead>\n  <tbody>\n    <tr>\n      <th>12346.0</th>\n      <th>MEDIUM CERAMIC TOP STORAGE JAR</th>\n      <td>74215</td>\n      <td>1.04</td>\n      <td>77183.6</td>\n      <td>5</td>\n      <td>6</td>\n    </tr>\n    <tr>\n      <th rowspan=\"4\" valign=\"top\">12347.0</th>\n      <th>3D DOG PICTURE PLAYING CARDS</th>\n      <td>126</td>\n      <td>14.75</td>\n      <td>371.7</td>\n      <td>30</td>\n      <td>30</td>\n    </tr>\n    <tr>\n      <th>3D SHEET OF CAT STICKERS</th>\n      <td>12</td>\n      <td>0.85</td>\n      <td>10.2</td>\n      <td>6</td>\n      <td>6</td>\n    </tr>\n    <tr>\n      <th>3D SHEET OF DOG STICKERS</th>\n      <td>12</td>\n      <td>0.85</td>\n      <td>10.2</td>\n      <td>6</td>\n      <td>6</td>\n    </tr>\n    <tr>\n      <th>60 TEATIME FAIRY CAKE CASES</th>\n      <td>72</td>\n      <td>1.65</td>\n      <td>39.6</td>\n      <td>15</td>\n      <td>18</td>\n    </tr>\n  </tbody>\n</table>\n</div>"
     },
     "metadata": {},
     "execution_count": 471
    }
   ],
   "source": [
    "#1. Assign value to our missing customerID based on the Invoice Number\n",
    "ecom1[\"CustomerID\"].fillna(\"R\"+ecom1[\"InvoiceNo\"], inplace=True)\n",
    "ecom.CustomerID.value_counts(sort=True)\n",
    "NewID = ecom1.groupby(['CustomerID','Description']).sum()\n",
    "NewID.head()"
   ]
  },
  {
   "cell_type": "code",
   "execution_count": 472,
   "metadata": {},
   "outputs": [
    {
     "output_type": "execute_result",
     "data": {
      "text/plain": [
       "Empty DataFrame\n",
       "Columns: [InvoiceNo, StockCode, Description, Quantity, UnitPrice, CustomerID, Country, TotalPrice, InvoiceDate, length_stockcode, length_invoiceno, invoiceno_letter1]\n",
       "Index: []"
      ],
      "text/html": "<div>\n<style scoped>\n    .dataframe tbody tr th:only-of-type {\n        vertical-align: middle;\n    }\n\n    .dataframe tbody tr th {\n        vertical-align: top;\n    }\n\n    .dataframe thead th {\n        text-align: right;\n    }\n</style>\n<table border=\"1\" class=\"dataframe\">\n  <thead>\n    <tr style=\"text-align: right;\">\n      <th></th>\n      <th>InvoiceNo</th>\n      <th>StockCode</th>\n      <th>Description</th>\n      <th>Quantity</th>\n      <th>UnitPrice</th>\n      <th>CustomerID</th>\n      <th>Country</th>\n      <th>TotalPrice</th>\n      <th>InvoiceDate</th>\n      <th>length_stockcode</th>\n      <th>length_invoiceno</th>\n      <th>invoiceno_letter1</th>\n    </tr>\n  </thead>\n  <tbody>\n  </tbody>\n</table>\n</div>"
     },
     "metadata": {},
     "execution_count": 472
    }
   ],
   "source": [
    "#Check if there is any lowercase letter in stock code\n",
    "ecom1[ecom1['StockCode'].str.contains(\"[a-z]\",case=True, na=False)]\n",
    "#No lowercase code"
   ]
  },
  {
   "cell_type": "code",
   "execution_count": 473,
   "metadata": {},
   "outputs": [
    {
     "output_type": "execute_result",
     "data": {
      "text/plain": [
       "Empty DataFrame\n",
       "Columns: [InvoiceNo, StockCode, Description, Quantity, UnitPrice, CustomerID, Country, TotalPrice, InvoiceDate, length_stockcode, length_invoiceno, invoiceno_letter1]\n",
       "Index: []"
      ],
      "text/html": "<div>\n<style scoped>\n    .dataframe tbody tr th:only-of-type {\n        vertical-align: middle;\n    }\n\n    .dataframe tbody tr th {\n        vertical-align: top;\n    }\n\n    .dataframe thead th {\n        text-align: right;\n    }\n</style>\n<table border=\"1\" class=\"dataframe\">\n  <thead>\n    <tr style=\"text-align: right;\">\n      <th></th>\n      <th>InvoiceNo</th>\n      <th>StockCode</th>\n      <th>Description</th>\n      <th>Quantity</th>\n      <th>UnitPrice</th>\n      <th>CustomerID</th>\n      <th>Country</th>\n      <th>TotalPrice</th>\n      <th>InvoiceDate</th>\n      <th>length_stockcode</th>\n      <th>length_invoiceno</th>\n      <th>invoiceno_letter1</th>\n    </tr>\n  </thead>\n  <tbody>\n  </tbody>\n</table>\n</div>"
     },
     "metadata": {},
     "execution_count": 473
    }
   ],
   "source": [
    "#Now let check of negative Quantity\n",
    "ecom1[ecom1[\"Quantity\"]<=0]\n",
    "#Our negative quantity is zero as most of our negative quantity are inside Nan Description that we removed earlier"
   ]
  },
  {
   "cell_type": "code",
   "execution_count": 474,
   "metadata": {},
   "outputs": [
    {
     "output_type": "execute_result",
     "data": {
      "text/plain": [
       "<IPython.core.display.HTML object>"
      ],
      "text/html": "<table border=\"1\" class=\"dataframe\">\n  <thead>\n    <tr style=\"text-align: right;\">\n      <th></th>\n      <th>index</th>\n      <th>0</th>\n    </tr>\n  </thead>\n  <tbody>\n  </tbody>\n</table>"
     },
     "metadata": {},
     "execution_count": 474
    }
   ],
   "source": [
    "#we check if our problematic Description got removed by the drop negative and zero unit price\n",
    "from IPython.display import display, HTML\n",
    "\n",
    "ecom1.prob=ecom1[ecom1['Description'].str.contains(\"^[a-z]|\\\\?\",case=True, na=False)]\n",
    "ecom1.prob1=ecom1.prob.Description.str.split(expand=True).stack().value_counts().to_frame().reset_index()\n",
    "HTML(ecom1.prob1.to_html())\n",
    "#Our hypothesis is true as all the problematic description also got removed by our previous droping actvities"
   ]
  },
  {
   "cell_type": "code",
   "execution_count": 475,
   "metadata": {},
   "outputs": [
    {
     "output_type": "execute_result",
     "data": {
      "text/plain": [
       "            Quantity      UnitPrice     TotalPrice  length_stockcode  \\\n",
       "count  522601.000000  522601.000000  522601.000000      522601.00000   \n",
       "mean       10.668357       3.274861      19.609425           5.09752   \n",
       "std       157.542354       4.396005     269.922392           0.30413   \n",
       "min         1.000000       0.000000       0.000000           5.00000   \n",
       "25%         1.000000       1.250000       3.900000           5.00000   \n",
       "50%         4.000000       2.080000       9.900000           5.00000   \n",
       "75%        12.000000       4.130000      17.700000           5.00000   \n",
       "max     80995.000000     649.500000  168469.600000          12.00000   \n",
       "\n",
       "       length_invoiceno  \n",
       "count          522601.0  \n",
       "mean                6.0  \n",
       "std                 0.0  \n",
       "min                 6.0  \n",
       "25%                 6.0  \n",
       "50%                 6.0  \n",
       "75%                 6.0  \n",
       "max                 6.0  "
      ],
      "text/html": "<div>\n<style scoped>\n    .dataframe tbody tr th:only-of-type {\n        vertical-align: middle;\n    }\n\n    .dataframe tbody tr th {\n        vertical-align: top;\n    }\n\n    .dataframe thead th {\n        text-align: right;\n    }\n</style>\n<table border=\"1\" class=\"dataframe\">\n  <thead>\n    <tr style=\"text-align: right;\">\n      <th></th>\n      <th>Quantity</th>\n      <th>UnitPrice</th>\n      <th>TotalPrice</th>\n      <th>length_stockcode</th>\n      <th>length_invoiceno</th>\n    </tr>\n  </thead>\n  <tbody>\n    <tr>\n      <th>count</th>\n      <td>522601.000000</td>\n      <td>522601.000000</td>\n      <td>522601.000000</td>\n      <td>522601.00000</td>\n      <td>522601.0</td>\n    </tr>\n    <tr>\n      <th>mean</th>\n      <td>10.668357</td>\n      <td>3.274861</td>\n      <td>19.609425</td>\n      <td>5.09752</td>\n      <td>6.0</td>\n    </tr>\n    <tr>\n      <th>std</th>\n      <td>157.542354</td>\n      <td>4.396005</td>\n      <td>269.922392</td>\n      <td>0.30413</td>\n      <td>0.0</td>\n    </tr>\n    <tr>\n      <th>min</th>\n      <td>1.000000</td>\n      <td>0.000000</td>\n      <td>0.000000</td>\n      <td>5.00000</td>\n      <td>6.0</td>\n    </tr>\n    <tr>\n      <th>25%</th>\n      <td>1.000000</td>\n      <td>1.250000</td>\n      <td>3.900000</td>\n      <td>5.00000</td>\n      <td>6.0</td>\n    </tr>\n    <tr>\n      <th>50%</th>\n      <td>4.000000</td>\n      <td>2.080000</td>\n      <td>9.900000</td>\n      <td>5.00000</td>\n      <td>6.0</td>\n    </tr>\n    <tr>\n      <th>75%</th>\n      <td>12.000000</td>\n      <td>4.130000</td>\n      <td>17.700000</td>\n      <td>5.00000</td>\n      <td>6.0</td>\n    </tr>\n    <tr>\n      <th>max</th>\n      <td>80995.000000</td>\n      <td>649.500000</td>\n      <td>168469.600000</td>\n      <td>12.00000</td>\n      <td>6.0</td>\n    </tr>\n  </tbody>\n</table>\n</div>"
     },
     "metadata": {},
     "execution_count": 475
    }
   ],
   "source": [
    "ecom1.describe()"
   ]
  },
  {
   "cell_type": "code",
   "execution_count": 476,
   "metadata": {},
   "outputs": [
    {
     "output_type": "execute_result",
     "data": {
      "text/plain": [
       "InvoiceNo            0\n",
       "StockCode            0\n",
       "Description          0\n",
       "Quantity             0\n",
       "UnitPrice            0\n",
       "CustomerID           0\n",
       "Country              0\n",
       "TotalPrice           0\n",
       "InvoiceDate          0\n",
       "length_stockcode     0\n",
       "length_invoiceno     0\n",
       "invoiceno_letter1    0\n",
       "dtype: int64"
      ]
     },
     "metadata": {},
     "execution_count": 476
    }
   ],
   "source": [
    "ecom1.isnull().sum()"
   ]
  },
  {
   "cell_type": "code",
   "execution_count": 477,
   "metadata": {},
   "outputs": [
    {
     "output_type": "execute_result",
     "data": {
      "text/plain": [
       "       InvoiceNo StockCode                      Description  Quantity  \\\n",
       "1443      536544     21773  DECORATIVE ROSE BATHROOM BOTTLE         1   \n",
       "1444      536544     21774  DECORATIVE CATS BATHROOM BOTTLE         2   \n",
       "1445      536544     21786               POLKADOT RAIN HAT          4   \n",
       "1446      536544     21787            RAIN PONCHO RETROSPOT         2   \n",
       "1447      536544     21790               VINTAGE SNAP CARDS         9   \n",
       "...          ...       ...                              ...       ...   \n",
       "541535    581498    85049E        SCANDINAVIAN REDS RIBBONS         4   \n",
       "541536    581498    85099B          JUMBO BAG RED RETROSPOT         5   \n",
       "541537    581498    85099C   JUMBO  BAG BAROQUE BLACK WHITE         4   \n",
       "541538    581498     85150    LADIES & GENTLEMEN METAL SIGN         1   \n",
       "541539    581498     85174                S/4 CACTI CANDLES         1   \n",
       "\n",
       "        UnitPrice CustomerID         Country  TotalPrice InvoiceDate  \\\n",
       "1443         2.51    R536544  United Kingdom        2.51  2010-12-01   \n",
       "1444         2.51    R536544  United Kingdom        5.02  2010-12-01   \n",
       "1445         0.85    R536544  United Kingdom        3.40  2010-12-01   \n",
       "1446         1.66    R536544  United Kingdom        3.32  2010-12-01   \n",
       "1447         1.66    R536544  United Kingdom       14.94  2010-12-01   \n",
       "...           ...        ...             ...         ...         ...   \n",
       "541535       3.29    R581498  United Kingdom       13.16  2011-12-09   \n",
       "541536       4.13    R581498  United Kingdom       20.65  2011-12-09   \n",
       "541537       4.13    R581498  United Kingdom       16.52  2011-12-09   \n",
       "541538       4.96    R581498  United Kingdom        4.96  2011-12-09   \n",
       "541539      10.79    R581498  United Kingdom       10.79  2011-12-09   \n",
       "\n",
       "        length_stockcode  length_invoiceno invoiceno_letter1  \n",
       "1443                   5                 6                 5  \n",
       "1444                   5                 6                 5  \n",
       "1445                   5                 6                 5  \n",
       "1446                   5                 6                 5  \n",
       "1447                   5                 6                 5  \n",
       "...                  ...               ...               ...  \n",
       "541535                 6                 6                 5  \n",
       "541536                 6                 6                 5  \n",
       "541537                 6                 6                 5  \n",
       "541538                 5                 6                 5  \n",
       "541539                 5                 6                 5  \n",
       "\n",
       "[131418 rows x 12 columns]"
      ],
      "text/html": "<div>\n<style scoped>\n    .dataframe tbody tr th:only-of-type {\n        vertical-align: middle;\n    }\n\n    .dataframe tbody tr th {\n        vertical-align: top;\n    }\n\n    .dataframe thead th {\n        text-align: right;\n    }\n</style>\n<table border=\"1\" class=\"dataframe\">\n  <thead>\n    <tr style=\"text-align: right;\">\n      <th></th>\n      <th>InvoiceNo</th>\n      <th>StockCode</th>\n      <th>Description</th>\n      <th>Quantity</th>\n      <th>UnitPrice</th>\n      <th>CustomerID</th>\n      <th>Country</th>\n      <th>TotalPrice</th>\n      <th>InvoiceDate</th>\n      <th>length_stockcode</th>\n      <th>length_invoiceno</th>\n      <th>invoiceno_letter1</th>\n    </tr>\n  </thead>\n  <tbody>\n    <tr>\n      <th>1443</th>\n      <td>536544</td>\n      <td>21773</td>\n      <td>DECORATIVE ROSE BATHROOM BOTTLE</td>\n      <td>1</td>\n      <td>2.51</td>\n      <td>R536544</td>\n      <td>United Kingdom</td>\n      <td>2.51</td>\n      <td>2010-12-01</td>\n      <td>5</td>\n      <td>6</td>\n      <td>5</td>\n    </tr>\n    <tr>\n      <th>1444</th>\n      <td>536544</td>\n      <td>21774</td>\n      <td>DECORATIVE CATS BATHROOM BOTTLE</td>\n      <td>2</td>\n      <td>2.51</td>\n      <td>R536544</td>\n      <td>United Kingdom</td>\n      <td>5.02</td>\n      <td>2010-12-01</td>\n      <td>5</td>\n      <td>6</td>\n      <td>5</td>\n    </tr>\n    <tr>\n      <th>1445</th>\n      <td>536544</td>\n      <td>21786</td>\n      <td>POLKADOT RAIN HAT</td>\n      <td>4</td>\n      <td>0.85</td>\n      <td>R536544</td>\n      <td>United Kingdom</td>\n      <td>3.40</td>\n      <td>2010-12-01</td>\n      <td>5</td>\n      <td>6</td>\n      <td>5</td>\n    </tr>\n    <tr>\n      <th>1446</th>\n      <td>536544</td>\n      <td>21787</td>\n      <td>RAIN PONCHO RETROSPOT</td>\n      <td>2</td>\n      <td>1.66</td>\n      <td>R536544</td>\n      <td>United Kingdom</td>\n      <td>3.32</td>\n      <td>2010-12-01</td>\n      <td>5</td>\n      <td>6</td>\n      <td>5</td>\n    </tr>\n    <tr>\n      <th>1447</th>\n      <td>536544</td>\n      <td>21790</td>\n      <td>VINTAGE SNAP CARDS</td>\n      <td>9</td>\n      <td>1.66</td>\n      <td>R536544</td>\n      <td>United Kingdom</td>\n      <td>14.94</td>\n      <td>2010-12-01</td>\n      <td>5</td>\n      <td>6</td>\n      <td>5</td>\n    </tr>\n    <tr>\n      <th>...</th>\n      <td>...</td>\n      <td>...</td>\n      <td>...</td>\n      <td>...</td>\n      <td>...</td>\n      <td>...</td>\n      <td>...</td>\n      <td>...</td>\n      <td>...</td>\n      <td>...</td>\n      <td>...</td>\n      <td>...</td>\n    </tr>\n    <tr>\n      <th>541535</th>\n      <td>581498</td>\n      <td>85049E</td>\n      <td>SCANDINAVIAN REDS RIBBONS</td>\n      <td>4</td>\n      <td>3.29</td>\n      <td>R581498</td>\n      <td>United Kingdom</td>\n      <td>13.16</td>\n      <td>2011-12-09</td>\n      <td>6</td>\n      <td>6</td>\n      <td>5</td>\n    </tr>\n    <tr>\n      <th>541536</th>\n      <td>581498</td>\n      <td>85099B</td>\n      <td>JUMBO BAG RED RETROSPOT</td>\n      <td>5</td>\n      <td>4.13</td>\n      <td>R581498</td>\n      <td>United Kingdom</td>\n      <td>20.65</td>\n      <td>2011-12-09</td>\n      <td>6</td>\n      <td>6</td>\n      <td>5</td>\n    </tr>\n    <tr>\n      <th>541537</th>\n      <td>581498</td>\n      <td>85099C</td>\n      <td>JUMBO  BAG BAROQUE BLACK WHITE</td>\n      <td>4</td>\n      <td>4.13</td>\n      <td>R581498</td>\n      <td>United Kingdom</td>\n      <td>16.52</td>\n      <td>2011-12-09</td>\n      <td>6</td>\n      <td>6</td>\n      <td>5</td>\n    </tr>\n    <tr>\n      <th>541538</th>\n      <td>581498</td>\n      <td>85150</td>\n      <td>LADIES &amp; GENTLEMEN METAL SIGN</td>\n      <td>1</td>\n      <td>4.96</td>\n      <td>R581498</td>\n      <td>United Kingdom</td>\n      <td>4.96</td>\n      <td>2011-12-09</td>\n      <td>5</td>\n      <td>6</td>\n      <td>5</td>\n    </tr>\n    <tr>\n      <th>541539</th>\n      <td>581498</td>\n      <td>85174</td>\n      <td>S/4 CACTI CANDLES</td>\n      <td>1</td>\n      <td>10.79</td>\n      <td>R581498</td>\n      <td>United Kingdom</td>\n      <td>10.79</td>\n      <td>2011-12-09</td>\n      <td>5</td>\n      <td>6</td>\n      <td>5</td>\n    </tr>\n  </tbody>\n</table>\n<p>131418 rows × 12 columns</p>\n</div>"
     },
     "metadata": {},
     "execution_count": 477
    }
   ],
   "source": [
    "#Check if our new customer ID that been assigned with \"R\" + InvoiceNo\n",
    "ecom1[ecom1['CustomerID'].str.contains(\"R\",case=False, na=False)]\n"
   ]
  },
  {
   "cell_type": "code",
   "execution_count": 478,
   "metadata": {},
   "outputs": [
    {
     "output_type": "execute_result",
     "data": {
      "text/plain": [
       "InvoiceNo            19776\n",
       "StockCode             3803\n",
       "Description           4017\n",
       "Quantity               375\n",
       "UnitPrice              501\n",
       "CustomerID            5706\n",
       "Country                 38\n",
       "TotalPrice            4159\n",
       "InvoiceDate            305\n",
       "length_stockcode         6\n",
       "length_invoiceno         1\n",
       "invoiceno_letter1        1\n",
       "dtype: int64"
      ]
     },
     "metadata": {},
     "execution_count": 478
    }
   ],
   "source": [
    "ecom1.nunique()"
   ]
  },
  {
   "cell_type": "code",
   "execution_count": 479,
   "metadata": {},
   "outputs": [
    {
     "output_type": "execute_result",
     "data": {
      "text/plain": [
       "       Description\n",
       "count   215.000000\n",
       "mean      2.088372\n",
       "std       0.315643\n",
       "min       2.000000\n",
       "25%       2.000000\n",
       "50%       2.000000\n",
       "75%       2.000000\n",
       "max       4.000000"
      ],
      "text/html": "<div>\n<style scoped>\n    .dataframe tbody tr th:only-of-type {\n        vertical-align: middle;\n    }\n\n    .dataframe tbody tr th {\n        vertical-align: top;\n    }\n\n    .dataframe thead th {\n        text-align: right;\n    }\n</style>\n<table border=\"1\" class=\"dataframe\">\n  <thead>\n    <tr style=\"text-align: right;\">\n      <th></th>\n      <th>Description</th>\n    </tr>\n  </thead>\n  <tbody>\n    <tr>\n      <th>count</th>\n      <td>215.000000</td>\n    </tr>\n    <tr>\n      <th>mean</th>\n      <td>2.088372</td>\n    </tr>\n    <tr>\n      <th>std</th>\n      <td>0.315643</td>\n    </tr>\n    <tr>\n      <th>min</th>\n      <td>2.000000</td>\n    </tr>\n    <tr>\n      <th>25%</th>\n      <td>2.000000</td>\n    </tr>\n    <tr>\n      <th>50%</th>\n      <td>2.000000</td>\n    </tr>\n    <tr>\n      <th>75%</th>\n      <td>2.000000</td>\n    </tr>\n    <tr>\n      <th>max</th>\n      <td>4.000000</td>\n    </tr>\n  </tbody>\n</table>\n</div>"
     },
     "metadata": {},
     "execution_count": 479
    }
   ],
   "source": [
    "ecom1.StkDsc=ecom1.groupby(\"StockCode\")['Description'].nunique().reset_index()\n",
    "df1stk=ecom1.StkDsc[ecom1.StkDsc[\"Description\"]>1]\n",
    "df1stk.describe()\n",
    "#We have 215 row of stock code that have more than 1 description"
   ]
  },
  {
   "cell_type": "code",
   "execution_count": 480,
   "metadata": {},
   "outputs": [],
   "source": [
    "ecom2 = ecom1.copy()\n",
    "ecom2.rename({'TotalPrice':'Revenue'}, axis=1, inplace=True)"
   ]
  },
  {
   "cell_type": "code",
   "execution_count": 481,
   "metadata": {},
   "outputs": [],
   "source": [
    "ecom2.drop({'length_stockcode', 'length_invoiceno', 'invoiceno_letter1'}, 1, inplace=True)"
   ]
  },
  {
   "cell_type": "code",
   "execution_count": 482,
   "metadata": {},
   "outputs": [
    {
     "output_type": "execute_result",
     "data": {
      "text/plain": [
       "       InvoiceNo StockCode                          Description  Quantity  \\\n",
       "0         536365    85123A   WHITE HANGING HEART T-LIGHT HOLDER         6   \n",
       "1         536365     71053                  WHITE METAL LANTERN         6   \n",
       "2         536365    84406B       CREAM CUPID HEARTS COAT HANGER         8   \n",
       "3         536365    84029G  KNITTED UNION FLAG HOT WATER BOTTLE         6   \n",
       "4         536365    84029E       RED WOOLLY HOTTIE WHITE HEART.         6   \n",
       "...          ...       ...                                  ...       ...   \n",
       "541904    581587     22613          PACK OF 20 SPACEBOY NAPKINS        12   \n",
       "541905    581587     22899         CHILDREN'S APRON DOLLY GIRL          6   \n",
       "541906    581587     23254        CHILDRENS CUTLERY DOLLY GIRL          4   \n",
       "541907    581587     23255      CHILDRENS CUTLERY CIRCUS PARADE         4   \n",
       "541908    581587     22138        BAKING SET 9 PIECE RETROSPOT          3   \n",
       "\n",
       "        UnitPrice CustomerID         Country  Revenue InvoiceDate  \n",
       "0            2.55    17850.0  United Kingdom    15.30  2010-12-01  \n",
       "1            3.39    17850.0  United Kingdom    20.34  2010-12-01  \n",
       "2            2.75    17850.0  United Kingdom    22.00  2010-12-01  \n",
       "3            3.39    17850.0  United Kingdom    20.34  2010-12-01  \n",
       "4            3.39    17850.0  United Kingdom    20.34  2010-12-01  \n",
       "...           ...        ...             ...      ...         ...  \n",
       "541904       0.85    12680.0          France    10.20  2011-12-09  \n",
       "541905       2.10    12680.0          France    12.60  2011-12-09  \n",
       "541906       4.15    12680.0          France    16.60  2011-12-09  \n",
       "541907       4.15    12680.0          France    16.60  2011-12-09  \n",
       "541908       4.95    12680.0          France    14.85  2011-12-09  \n",
       "\n",
       "[522601 rows x 9 columns]"
      ],
      "text/html": "<div>\n<style scoped>\n    .dataframe tbody tr th:only-of-type {\n        vertical-align: middle;\n    }\n\n    .dataframe tbody tr th {\n        vertical-align: top;\n    }\n\n    .dataframe thead th {\n        text-align: right;\n    }\n</style>\n<table border=\"1\" class=\"dataframe\">\n  <thead>\n    <tr style=\"text-align: right;\">\n      <th></th>\n      <th>InvoiceNo</th>\n      <th>StockCode</th>\n      <th>Description</th>\n      <th>Quantity</th>\n      <th>UnitPrice</th>\n      <th>CustomerID</th>\n      <th>Country</th>\n      <th>Revenue</th>\n      <th>InvoiceDate</th>\n    </tr>\n  </thead>\n  <tbody>\n    <tr>\n      <th>0</th>\n      <td>536365</td>\n      <td>85123A</td>\n      <td>WHITE HANGING HEART T-LIGHT HOLDER</td>\n      <td>6</td>\n      <td>2.55</td>\n      <td>17850.0</td>\n      <td>United Kingdom</td>\n      <td>15.30</td>\n      <td>2010-12-01</td>\n    </tr>\n    <tr>\n      <th>1</th>\n      <td>536365</td>\n      <td>71053</td>\n      <td>WHITE METAL LANTERN</td>\n      <td>6</td>\n      <td>3.39</td>\n      <td>17850.0</td>\n      <td>United Kingdom</td>\n      <td>20.34</td>\n      <td>2010-12-01</td>\n    </tr>\n    <tr>\n      <th>2</th>\n      <td>536365</td>\n      <td>84406B</td>\n      <td>CREAM CUPID HEARTS COAT HANGER</td>\n      <td>8</td>\n      <td>2.75</td>\n      <td>17850.0</td>\n      <td>United Kingdom</td>\n      <td>22.00</td>\n      <td>2010-12-01</td>\n    </tr>\n    <tr>\n      <th>3</th>\n      <td>536365</td>\n      <td>84029G</td>\n      <td>KNITTED UNION FLAG HOT WATER BOTTLE</td>\n      <td>6</td>\n      <td>3.39</td>\n      <td>17850.0</td>\n      <td>United Kingdom</td>\n      <td>20.34</td>\n      <td>2010-12-01</td>\n    </tr>\n    <tr>\n      <th>4</th>\n      <td>536365</td>\n      <td>84029E</td>\n      <td>RED WOOLLY HOTTIE WHITE HEART.</td>\n      <td>6</td>\n      <td>3.39</td>\n      <td>17850.0</td>\n      <td>United Kingdom</td>\n      <td>20.34</td>\n      <td>2010-12-01</td>\n    </tr>\n    <tr>\n      <th>...</th>\n      <td>...</td>\n      <td>...</td>\n      <td>...</td>\n      <td>...</td>\n      <td>...</td>\n      <td>...</td>\n      <td>...</td>\n      <td>...</td>\n      <td>...</td>\n    </tr>\n    <tr>\n      <th>541904</th>\n      <td>581587</td>\n      <td>22613</td>\n      <td>PACK OF 20 SPACEBOY NAPKINS</td>\n      <td>12</td>\n      <td>0.85</td>\n      <td>12680.0</td>\n      <td>France</td>\n      <td>10.20</td>\n      <td>2011-12-09</td>\n    </tr>\n    <tr>\n      <th>541905</th>\n      <td>581587</td>\n      <td>22899</td>\n      <td>CHILDREN'S APRON DOLLY GIRL</td>\n      <td>6</td>\n      <td>2.10</td>\n      <td>12680.0</td>\n      <td>France</td>\n      <td>12.60</td>\n      <td>2011-12-09</td>\n    </tr>\n    <tr>\n      <th>541906</th>\n      <td>581587</td>\n      <td>23254</td>\n      <td>CHILDRENS CUTLERY DOLLY GIRL</td>\n      <td>4</td>\n      <td>4.15</td>\n      <td>12680.0</td>\n      <td>France</td>\n      <td>16.60</td>\n      <td>2011-12-09</td>\n    </tr>\n    <tr>\n      <th>541907</th>\n      <td>581587</td>\n      <td>23255</td>\n      <td>CHILDRENS CUTLERY CIRCUS PARADE</td>\n      <td>4</td>\n      <td>4.15</td>\n      <td>12680.0</td>\n      <td>France</td>\n      <td>16.60</td>\n      <td>2011-12-09</td>\n    </tr>\n    <tr>\n      <th>541908</th>\n      <td>581587</td>\n      <td>22138</td>\n      <td>BAKING SET 9 PIECE RETROSPOT</td>\n      <td>3</td>\n      <td>4.95</td>\n      <td>12680.0</td>\n      <td>France</td>\n      <td>14.85</td>\n      <td>2011-12-09</td>\n    </tr>\n  </tbody>\n</table>\n<p>522601 rows × 9 columns</p>\n</div>"
     },
     "metadata": {},
     "execution_count": 482
    }
   ],
   "source": [
    "ecom2.reset_index\n",
    "ecom2"
   ]
  },
  {
   "cell_type": "code",
   "execution_count": 483,
   "metadata": {},
   "outputs": [
    {
     "output_type": "execute_result",
     "data": {
      "text/plain": [
       "10247905.130000003"
      ]
     },
     "metadata": {},
     "execution_count": 483
    }
   ],
   "source": [
    "ecom2.Revenue.sum()"
   ]
  },
  {
   "cell_type": "code",
   "execution_count": 484,
   "metadata": {},
   "outputs": [
    {
     "output_type": "execute_result",
     "data": {
      "text/plain": [
       "InvoiceNo       object\n",
       "StockCode       object\n",
       "Description     object\n",
       "Quantity         int64\n",
       "UnitPrice      float64\n",
       "CustomerID      object\n",
       "Country         object\n",
       "Revenue        float64\n",
       "InvoiceDate     object\n",
       "dtype: object"
      ]
     },
     "metadata": {},
     "execution_count": 484
    }
   ],
   "source": [
    "ecom2.dtypes"
   ]
  },
  {
   "cell_type": "code",
   "execution_count": 485,
   "metadata": {},
   "outputs": [],
   "source": [
    "ecom2.InvoiceDate=ecom2.InvoiceDate.astype('datetime64[ns, UTC]')\n"
   ]
  },
  {
   "cell_type": "code",
   "execution_count": 486,
   "metadata": {},
   "outputs": [
    {
     "output_type": "execute_result",
     "data": {
      "text/plain": [
       "InvoiceNo                   object\n",
       "StockCode                   object\n",
       "Description                 object\n",
       "Quantity                     int64\n",
       "UnitPrice                  float64\n",
       "CustomerID                  object\n",
       "Country                     object\n",
       "Revenue                    float64\n",
       "InvoiceDate    datetime64[ns, UTC]\n",
       "dtype: object"
      ]
     },
     "metadata": {},
     "execution_count": 486
    }
   ],
   "source": [
    "ecom2.dtypes"
   ]
  },
  {
   "cell_type": "code",
   "execution_count": 489,
   "metadata": {},
   "outputs": [
    {
     "output_type": "execute_result",
     "data": {
      "text/plain": [
       "InvoiceDate\n",
       "February 2011      507866.54\n",
       "April 2011         515469.66\n",
       "December 2011      614499.25\n",
       "January 2011       670439.46\n",
       "July 2011          688252.67\n",
       "March 2011         689841.84\n",
       "August 2011        724308.16\n",
       "June 2011          737683.99\n",
       "May 2011           740036.33\n",
       "December 2010      775714.95\n",
       "September 2011    1028345.38\n",
       "October 2011      1103330.92\n",
       "November 2011     1452115.98\n",
       "Name: Revenue, dtype: float64"
      ]
     },
     "metadata": {},
     "execution_count": 489
    }
   ],
   "source": [
    "#Produce total revenue by months by descending value\n",
    "ecom2.groupby(ecom2['InvoiceDate'].dt.strftime('%B %Y'))['Revenue'].sum().sort_values()"
   ]
  },
  {
   "cell_type": "code",
   "execution_count": 490,
   "metadata": {},
   "outputs": [
    {
     "output_type": "execute_result",
     "data": {
      "text/plain": [
       "                 InvoiceDate     Revenue\n",
       "0  2010-12-31 00:00:00+00:00   775714.95\n",
       "1  2011-01-31 00:00:00+00:00   670439.46\n",
       "2  2011-02-28 00:00:00+00:00   507866.54\n",
       "3  2011-03-31 00:00:00+00:00   689841.84\n",
       "4  2011-04-30 00:00:00+00:00   515469.66\n",
       "5  2011-05-31 00:00:00+00:00   740036.33\n",
       "6  2011-06-30 00:00:00+00:00   737683.99\n",
       "7  2011-07-31 00:00:00+00:00   688252.67\n",
       "8  2011-08-31 00:00:00+00:00   724308.16\n",
       "9  2011-09-30 00:00:00+00:00  1028345.38\n",
       "10 2011-10-31 00:00:00+00:00  1103330.92\n",
       "11 2011-11-30 00:00:00+00:00  1452115.98\n",
       "12 2011-12-31 00:00:00+00:00   614499.25"
      ],
      "text/html": "<div>\n<style scoped>\n    .dataframe tbody tr th:only-of-type {\n        vertical-align: middle;\n    }\n\n    .dataframe tbody tr th {\n        vertical-align: top;\n    }\n\n    .dataframe thead th {\n        text-align: right;\n    }\n</style>\n<table border=\"1\" class=\"dataframe\">\n  <thead>\n    <tr style=\"text-align: right;\">\n      <th></th>\n      <th>InvoiceDate</th>\n      <th>Revenue</th>\n    </tr>\n  </thead>\n  <tbody>\n    <tr>\n      <th>0</th>\n      <td>2010-12-31 00:00:00+00:00</td>\n      <td>775714.95</td>\n    </tr>\n    <tr>\n      <th>1</th>\n      <td>2011-01-31 00:00:00+00:00</td>\n      <td>670439.46</td>\n    </tr>\n    <tr>\n      <th>2</th>\n      <td>2011-02-28 00:00:00+00:00</td>\n      <td>507866.54</td>\n    </tr>\n    <tr>\n      <th>3</th>\n      <td>2011-03-31 00:00:00+00:00</td>\n      <td>689841.84</td>\n    </tr>\n    <tr>\n      <th>4</th>\n      <td>2011-04-30 00:00:00+00:00</td>\n      <td>515469.66</td>\n    </tr>\n    <tr>\n      <th>5</th>\n      <td>2011-05-31 00:00:00+00:00</td>\n      <td>740036.33</td>\n    </tr>\n    <tr>\n      <th>6</th>\n      <td>2011-06-30 00:00:00+00:00</td>\n      <td>737683.99</td>\n    </tr>\n    <tr>\n      <th>7</th>\n      <td>2011-07-31 00:00:00+00:00</td>\n      <td>688252.67</td>\n    </tr>\n    <tr>\n      <th>8</th>\n      <td>2011-08-31 00:00:00+00:00</td>\n      <td>724308.16</td>\n    </tr>\n    <tr>\n      <th>9</th>\n      <td>2011-09-30 00:00:00+00:00</td>\n      <td>1028345.38</td>\n    </tr>\n    <tr>\n      <th>10</th>\n      <td>2011-10-31 00:00:00+00:00</td>\n      <td>1103330.92</td>\n    </tr>\n    <tr>\n      <th>11</th>\n      <td>2011-11-30 00:00:00+00:00</td>\n      <td>1452115.98</td>\n    </tr>\n    <tr>\n      <th>12</th>\n      <td>2011-12-31 00:00:00+00:00</td>\n      <td>614499.25</td>\n    </tr>\n  </tbody>\n</table>\n</div>"
     },
     "metadata": {},
     "execution_count": 490
    }
   ],
   "source": [
    "#Group the data set by months\n",
    "ecom2.groupby(pd.Grouper(key='InvoiceDate', freq='M'))['Revenue'].sum().reset_index().sort_values('InvoiceDate')\n"
   ]
  },
  {
   "cell_type": "code",
   "execution_count": 491,
   "metadata": {},
   "outputs": [
    {
     "output_type": "execute_result",
     "data": {
      "text/plain": [
       "                  InvoiceDate    Revenue\n",
       "0   2010-12-01 00:00:00+00:00   57442.33\n",
       "1   2010-12-02 00:00:00+00:00   47596.42\n",
       "2   2010-12-03 00:00:00+00:00   44788.90\n",
       "3   2010-12-04 00:00:00+00:00       0.00\n",
       "4   2010-12-05 00:00:00+00:00   30908.67\n",
       "..                        ...        ...\n",
       "369 2011-12-05 00:00:00+00:00   80011.23\n",
       "370 2011-12-06 00:00:00+00:00   55257.31\n",
       "371 2011-12-07 00:00:00+00:00   72799.09\n",
       "372 2011-12-08 00:00:00+00:00   77571.19\n",
       "373 2011-12-09 00:00:00+00:00  198094.64\n",
       "\n",
       "[374 rows x 2 columns]"
      ],
      "text/html": "<div>\n<style scoped>\n    .dataframe tbody tr th:only-of-type {\n        vertical-align: middle;\n    }\n\n    .dataframe tbody tr th {\n        vertical-align: top;\n    }\n\n    .dataframe thead th {\n        text-align: right;\n    }\n</style>\n<table border=\"1\" class=\"dataframe\">\n  <thead>\n    <tr style=\"text-align: right;\">\n      <th></th>\n      <th>InvoiceDate</th>\n      <th>Revenue</th>\n    </tr>\n  </thead>\n  <tbody>\n    <tr>\n      <th>0</th>\n      <td>2010-12-01 00:00:00+00:00</td>\n      <td>57442.33</td>\n    </tr>\n    <tr>\n      <th>1</th>\n      <td>2010-12-02 00:00:00+00:00</td>\n      <td>47596.42</td>\n    </tr>\n    <tr>\n      <th>2</th>\n      <td>2010-12-03 00:00:00+00:00</td>\n      <td>44788.90</td>\n    </tr>\n    <tr>\n      <th>3</th>\n      <td>2010-12-04 00:00:00+00:00</td>\n      <td>0.00</td>\n    </tr>\n    <tr>\n      <th>4</th>\n      <td>2010-12-05 00:00:00+00:00</td>\n      <td>30908.67</td>\n    </tr>\n    <tr>\n      <th>...</th>\n      <td>...</td>\n      <td>...</td>\n    </tr>\n    <tr>\n      <th>369</th>\n      <td>2011-12-05 00:00:00+00:00</td>\n      <td>80011.23</td>\n    </tr>\n    <tr>\n      <th>370</th>\n      <td>2011-12-06 00:00:00+00:00</td>\n      <td>55257.31</td>\n    </tr>\n    <tr>\n      <th>371</th>\n      <td>2011-12-07 00:00:00+00:00</td>\n      <td>72799.09</td>\n    </tr>\n    <tr>\n      <th>372</th>\n      <td>2011-12-08 00:00:00+00:00</td>\n      <td>77571.19</td>\n    </tr>\n    <tr>\n      <th>373</th>\n      <td>2011-12-09 00:00:00+00:00</td>\n      <td>198094.64</td>\n    </tr>\n  </tbody>\n</table>\n<p>374 rows × 2 columns</p>\n</div>"
     },
     "metadata": {},
     "execution_count": 491
    }
   ],
   "source": [
    "#Group the data set by days of months\n",
    "ecom2.groupby(pd.Grouper(key='InvoiceDate', freq='D'))['Revenue'].sum().reset_index().sort_values('InvoiceDate')"
   ]
  },
  {
   "cell_type": "code",
   "execution_count": 493,
   "metadata": {},
   "outputs": [
    {
     "output_type": "display_data",
     "data": {
      "text/plain": "<Figure size 1080x360 with 1 Axes>",
      "image/svg+xml": "<?xml version=\"1.0\" encoding=\"utf-8\" standalone=\"no\"?>\n<!DOCTYPE svg PUBLIC \"-//W3C//DTD SVG 1.1//EN\"\n  \"http://www.w3.org/Graphics/SVG/1.1/DTD/svg11.dtd\">\n<!-- Created with matplotlib (https://matplotlib.org/) -->\n<svg height=\"337.825156pt\" version=\"1.1\" viewBox=\"0 0 891.8525 337.825156\" width=\"891.8525pt\" xmlns=\"http://www.w3.org/2000/svg\" xmlns:xlink=\"http://www.w3.org/1999/xlink\">\n <metadata>\n  <rdf:RDF xmlns:cc=\"http://creativecommons.org/ns#\" xmlns:dc=\"http://purl.org/dc/elements/1.1/\" xmlns:rdf=\"http://www.w3.org/1999/02/22-rdf-syntax-ns#\">\n   <cc:Work>\n    <dc:type rdf:resource=\"http://purl.org/dc/dcmitype/StillImage\"/>\n    <dc:date>2021-03-09T18:52:10.145508</dc:date>\n    <dc:format>image/svg+xml</dc:format>\n    <dc:creator>\n     <cc:Agent>\n      <dc:title>Matplotlib v3.3.4, https://matplotlib.org/</dc:title>\n     </cc:Agent>\n    </dc:creator>\n   </cc:Work>\n  </rdf:RDF>\n </metadata>\n <defs>\n  <style type=\"text/css\">*{stroke-linecap:butt;stroke-linejoin:round;}</style>\n </defs>\n <g id=\"figure_1\">\n  <g id=\"patch_1\">\n   <path d=\"M 0 337.825156 \nL 891.8525 337.825156 \nL 891.8525 0 \nL 0 0 \nz\n\" style=\"fill:none;\"/>\n  </g>\n  <g id=\"axes_1\">\n   <g id=\"patch_2\">\n    <path d=\"M 47.6525 296.397656 \nL 884.6525 296.397656 \nL 884.6525 24.597656 \nL 47.6525 24.597656 \nz\n\" style=\"fill:#ffffff;\"/>\n   </g>\n   <g id=\"patch_3\">\n    <path clip-path=\"url(#pa37bbdfbe0)\" d=\"M 85.697955 296.397656 \nL 133.254773 296.397656 \nL 133.254773 158.117134 \nL 85.697955 158.117134 \nz\n\" style=\"fill:#1f77b4;\"/>\n   </g>\n   <g id=\"patch_4\">\n    <path clip-path=\"url(#pa37bbdfbe0)\" d=\"M 145.143977 296.397656 \nL 192.700795 296.397656 \nL 192.700795 176.883757 \nL 145.143977 176.883757 \nz\n\" style=\"fill:#1f77b4;\"/>\n   </g>\n   <g id=\"patch_5\">\n    <path clip-path=\"url(#pa37bbdfbe0)\" d=\"M 204.59 296.397656 \nL 252.146818 296.397656 \nL 252.146818 205.864336 \nL 204.59 205.864336 \nz\n\" style=\"fill:#1f77b4;\"/>\n   </g>\n   <g id=\"patch_6\">\n    <path clip-path=\"url(#pa37bbdfbe0)\" d=\"M 264.036023 296.397656 \nL 311.592841 296.397656 \nL 311.592841 173.425049 \nL 264.036023 173.425049 \nz\n\" style=\"fill:#1f77b4;\"/>\n   </g>\n   <g id=\"patch_7\">\n    <path clip-path=\"url(#pa37bbdfbe0)\" d=\"M 323.482045 296.397656 \nL 371.038864 296.397656 \nL 371.038864 204.508988 \nL 323.482045 204.508988 \nz\n\" style=\"fill:#1f77b4;\"/>\n   </g>\n   <g id=\"patch_8\">\n    <path clip-path=\"url(#pa37bbdfbe0)\" d=\"M 382.928068 296.397656 \nL 430.484886 296.397656 \nL 430.484886 164.477278 \nL 382.928068 164.477278 \nz\n\" style=\"fill:#1f77b4;\"/>\n   </g>\n   <g id=\"patch_9\">\n    <path clip-path=\"url(#pa37bbdfbe0)\" d=\"M 442.374091 296.397656 \nL 489.930909 296.397656 \nL 489.930909 164.89661 \nL 442.374091 164.89661 \nz\n\" style=\"fill:#1f77b4;\"/>\n   </g>\n   <g id=\"patch_10\">\n    <path clip-path=\"url(#pa37bbdfbe0)\" d=\"M 501.820114 296.397656 \nL 549.376932 296.397656 \nL 549.376932 173.708338 \nL 501.820114 173.708338 \nz\n\" style=\"fill:#1f77b4;\"/>\n   </g>\n   <g id=\"patch_11\">\n    <path clip-path=\"url(#pa37bbdfbe0)\" d=\"M 561.266136 296.397656 \nL 608.822955 296.397656 \nL 608.822955 167.281013 \nL 561.266136 167.281013 \nz\n\" style=\"fill:#1f77b4;\"/>\n   </g>\n   <g id=\"patch_12\">\n    <path clip-path=\"url(#pa37bbdfbe0)\" d=\"M 620.712159 296.397656 \nL 668.268977 296.397656 \nL 668.268977 113.082721 \nL 620.712159 113.082721 \nz\n\" style=\"fill:#1f77b4;\"/>\n   </g>\n   <g id=\"patch_13\">\n    <path clip-path=\"url(#pa37bbdfbe0)\" d=\"M 680.158182 296.397656 \nL 727.715 296.397656 \nL 727.715 99.715646 \nL 680.158182 99.715646 \nz\n\" style=\"fill:#1f77b4;\"/>\n   </g>\n   <g id=\"patch_14\">\n    <path clip-path=\"url(#pa37bbdfbe0)\" d=\"M 739.604205 296.397656 \nL 787.161023 296.397656 \nL 787.161023 37.540513 \nL 739.604205 37.540513 \nz\n\" style=\"fill:#1f77b4;\"/>\n   </g>\n   <g id=\"patch_15\">\n    <path clip-path=\"url(#pa37bbdfbe0)\" d=\"M 799.050227 296.397656 \nL 846.607045 296.397656 \nL 846.607045 186.855772 \nL 799.050227 186.855772 \nz\n\" style=\"fill:#1f77b4;\"/>\n   </g>\n   <g id=\"matplotlib.axis_1\">\n    <g id=\"xtick_1\">\n     <g id=\"line2d_1\">\n      <defs>\n       <path d=\"M 0 0 \nL 0 3.5 \n\" id=\"m7b1e5a9a32\" style=\"stroke:#000000;stroke-width:0.8;\"/>\n      </defs>\n      <g>\n       <use style=\"stroke:#000000;stroke-width:0.8;\" x=\"109.476364\" xlink:href=\"#m7b1e5a9a32\" y=\"296.397656\"/>\n      </g>\n     </g>\n     <g id=\"text_1\">\n      <!-- 2010-12 -->\n      <g transform=\"translate(88.584957 310.996094)scale(0.1 -0.1)\">\n       <defs>\n        <path d=\"M 19.1875 8.296875 \nL 53.609375 8.296875 \nL 53.609375 0 \nL 7.328125 0 \nL 7.328125 8.296875 \nQ 12.9375 14.109375 22.625 23.890625 \nQ 32.328125 33.6875 34.8125 36.53125 \nQ 39.546875 41.84375 41.421875 45.53125 \nQ 43.3125 49.21875 43.3125 52.78125 \nQ 43.3125 58.59375 39.234375 62.25 \nQ 35.15625 65.921875 28.609375 65.921875 \nQ 23.96875 65.921875 18.8125 64.3125 \nQ 13.671875 62.703125 7.8125 59.421875 \nL 7.8125 69.390625 \nQ 13.765625 71.78125 18.9375 73 \nQ 24.125 74.21875 28.421875 74.21875 \nQ 39.75 74.21875 46.484375 68.546875 \nQ 53.21875 62.890625 53.21875 53.421875 \nQ 53.21875 48.921875 51.53125 44.890625 \nQ 49.859375 40.875 45.40625 35.40625 \nQ 44.1875 33.984375 37.640625 27.21875 \nQ 31.109375 20.453125 19.1875 8.296875 \nz\n\" id=\"DejaVuSans-50\"/>\n        <path d=\"M 31.78125 66.40625 \nQ 24.171875 66.40625 20.328125 58.90625 \nQ 16.5 51.421875 16.5 36.375 \nQ 16.5 21.390625 20.328125 13.890625 \nQ 24.171875 6.390625 31.78125 6.390625 \nQ 39.453125 6.390625 43.28125 13.890625 \nQ 47.125 21.390625 47.125 36.375 \nQ 47.125 51.421875 43.28125 58.90625 \nQ 39.453125 66.40625 31.78125 66.40625 \nz\nM 31.78125 74.21875 \nQ 44.046875 74.21875 50.515625 64.515625 \nQ 56.984375 54.828125 56.984375 36.375 \nQ 56.984375 17.96875 50.515625 8.265625 \nQ 44.046875 -1.421875 31.78125 -1.421875 \nQ 19.53125 -1.421875 13.0625 8.265625 \nQ 6.59375 17.96875 6.59375 36.375 \nQ 6.59375 54.828125 13.0625 64.515625 \nQ 19.53125 74.21875 31.78125 74.21875 \nz\n\" id=\"DejaVuSans-48\"/>\n        <path d=\"M 12.40625 8.296875 \nL 28.515625 8.296875 \nL 28.515625 63.921875 \nL 10.984375 60.40625 \nL 10.984375 69.390625 \nL 28.421875 72.90625 \nL 38.28125 72.90625 \nL 38.28125 8.296875 \nL 54.390625 8.296875 \nL 54.390625 0 \nL 12.40625 0 \nz\n\" id=\"DejaVuSans-49\"/>\n        <path d=\"M 4.890625 31.390625 \nL 31.203125 31.390625 \nL 31.203125 23.390625 \nL 4.890625 23.390625 \nz\n\" id=\"DejaVuSans-45\"/>\n       </defs>\n       <use xlink:href=\"#DejaVuSans-50\"/>\n       <use x=\"63.623047\" xlink:href=\"#DejaVuSans-48\"/>\n       <use x=\"127.246094\" xlink:href=\"#DejaVuSans-49\"/>\n       <use x=\"190.869141\" xlink:href=\"#DejaVuSans-48\"/>\n       <use x=\"254.492188\" xlink:href=\"#DejaVuSans-45\"/>\n       <use x=\"290.576172\" xlink:href=\"#DejaVuSans-49\"/>\n       <use x=\"354.199219\" xlink:href=\"#DejaVuSans-50\"/>\n      </g>\n     </g>\n    </g>\n    <g id=\"xtick_2\">\n     <g id=\"line2d_2\">\n      <g>\n       <use style=\"stroke:#000000;stroke-width:0.8;\" x=\"168.922386\" xlink:href=\"#m7b1e5a9a32\" y=\"296.397656\"/>\n      </g>\n     </g>\n     <g id=\"text_2\">\n      <!-- 2011-01 -->\n      <g transform=\"translate(148.03098 310.996094)scale(0.1 -0.1)\">\n       <use xlink:href=\"#DejaVuSans-50\"/>\n       <use x=\"63.623047\" xlink:href=\"#DejaVuSans-48\"/>\n       <use x=\"127.246094\" xlink:href=\"#DejaVuSans-49\"/>\n       <use x=\"190.869141\" xlink:href=\"#DejaVuSans-49\"/>\n       <use x=\"254.492188\" xlink:href=\"#DejaVuSans-45\"/>\n       <use x=\"290.576172\" xlink:href=\"#DejaVuSans-48\"/>\n       <use x=\"354.199219\" xlink:href=\"#DejaVuSans-49\"/>\n      </g>\n     </g>\n    </g>\n    <g id=\"xtick_3\">\n     <g id=\"line2d_3\">\n      <g>\n       <use style=\"stroke:#000000;stroke-width:0.8;\" x=\"228.368409\" xlink:href=\"#m7b1e5a9a32\" y=\"296.397656\"/>\n      </g>\n     </g>\n     <g id=\"text_3\">\n      <!-- 2011-02 -->\n      <g transform=\"translate(207.477003 310.996094)scale(0.1 -0.1)\">\n       <use xlink:href=\"#DejaVuSans-50\"/>\n       <use x=\"63.623047\" xlink:href=\"#DejaVuSans-48\"/>\n       <use x=\"127.246094\" xlink:href=\"#DejaVuSans-49\"/>\n       <use x=\"190.869141\" xlink:href=\"#DejaVuSans-49\"/>\n       <use x=\"254.492188\" xlink:href=\"#DejaVuSans-45\"/>\n       <use x=\"290.576172\" xlink:href=\"#DejaVuSans-48\"/>\n       <use x=\"354.199219\" xlink:href=\"#DejaVuSans-50\"/>\n      </g>\n     </g>\n    </g>\n    <g id=\"xtick_4\">\n     <g id=\"line2d_4\">\n      <g>\n       <use style=\"stroke:#000000;stroke-width:0.8;\" x=\"287.814432\" xlink:href=\"#m7b1e5a9a32\" y=\"296.397656\"/>\n      </g>\n     </g>\n     <g id=\"text_4\">\n      <!-- 2011-03 -->\n      <g transform=\"translate(266.923026 310.996094)scale(0.1 -0.1)\">\n       <defs>\n        <path d=\"M 40.578125 39.3125 \nQ 47.65625 37.796875 51.625 33 \nQ 55.609375 28.21875 55.609375 21.1875 \nQ 55.609375 10.40625 48.1875 4.484375 \nQ 40.765625 -1.421875 27.09375 -1.421875 \nQ 22.515625 -1.421875 17.65625 -0.515625 \nQ 12.796875 0.390625 7.625 2.203125 \nL 7.625 11.71875 \nQ 11.71875 9.328125 16.59375 8.109375 \nQ 21.484375 6.890625 26.8125 6.890625 \nQ 36.078125 6.890625 40.9375 10.546875 \nQ 45.796875 14.203125 45.796875 21.1875 \nQ 45.796875 27.640625 41.28125 31.265625 \nQ 36.765625 34.90625 28.71875 34.90625 \nL 20.21875 34.90625 \nL 20.21875 43.015625 \nL 29.109375 43.015625 \nQ 36.375 43.015625 40.234375 45.921875 \nQ 44.09375 48.828125 44.09375 54.296875 \nQ 44.09375 59.90625 40.109375 62.90625 \nQ 36.140625 65.921875 28.71875 65.921875 \nQ 24.65625 65.921875 20.015625 65.03125 \nQ 15.375 64.15625 9.8125 62.3125 \nL 9.8125 71.09375 \nQ 15.4375 72.65625 20.34375 73.4375 \nQ 25.25 74.21875 29.59375 74.21875 \nQ 40.828125 74.21875 47.359375 69.109375 \nQ 53.90625 64.015625 53.90625 55.328125 \nQ 53.90625 49.265625 50.4375 45.09375 \nQ 46.96875 40.921875 40.578125 39.3125 \nz\n\" id=\"DejaVuSans-51\"/>\n       </defs>\n       <use xlink:href=\"#DejaVuSans-50\"/>\n       <use x=\"63.623047\" xlink:href=\"#DejaVuSans-48\"/>\n       <use x=\"127.246094\" xlink:href=\"#DejaVuSans-49\"/>\n       <use x=\"190.869141\" xlink:href=\"#DejaVuSans-49\"/>\n       <use x=\"254.492188\" xlink:href=\"#DejaVuSans-45\"/>\n       <use x=\"290.576172\" xlink:href=\"#DejaVuSans-48\"/>\n       <use x=\"354.199219\" xlink:href=\"#DejaVuSans-51\"/>\n      </g>\n     </g>\n    </g>\n    <g id=\"xtick_5\">\n     <g id=\"line2d_5\">\n      <g>\n       <use style=\"stroke:#000000;stroke-width:0.8;\" x=\"347.260455\" xlink:href=\"#m7b1e5a9a32\" y=\"296.397656\"/>\n      </g>\n     </g>\n     <g id=\"text_5\">\n      <!-- 2011-04 -->\n      <g transform=\"translate(326.369048 310.996094)scale(0.1 -0.1)\">\n       <defs>\n        <path d=\"M 37.796875 64.3125 \nL 12.890625 25.390625 \nL 37.796875 25.390625 \nz\nM 35.203125 72.90625 \nL 47.609375 72.90625 \nL 47.609375 25.390625 \nL 58.015625 25.390625 \nL 58.015625 17.1875 \nL 47.609375 17.1875 \nL 47.609375 0 \nL 37.796875 0 \nL 37.796875 17.1875 \nL 4.890625 17.1875 \nL 4.890625 26.703125 \nz\n\" id=\"DejaVuSans-52\"/>\n       </defs>\n       <use xlink:href=\"#DejaVuSans-50\"/>\n       <use x=\"63.623047\" xlink:href=\"#DejaVuSans-48\"/>\n       <use x=\"127.246094\" xlink:href=\"#DejaVuSans-49\"/>\n       <use x=\"190.869141\" xlink:href=\"#DejaVuSans-49\"/>\n       <use x=\"254.492188\" xlink:href=\"#DejaVuSans-45\"/>\n       <use x=\"290.576172\" xlink:href=\"#DejaVuSans-48\"/>\n       <use x=\"354.199219\" xlink:href=\"#DejaVuSans-52\"/>\n      </g>\n     </g>\n    </g>\n    <g id=\"xtick_6\">\n     <g id=\"line2d_6\">\n      <g>\n       <use style=\"stroke:#000000;stroke-width:0.8;\" x=\"406.706477\" xlink:href=\"#m7b1e5a9a32\" y=\"296.397656\"/>\n      </g>\n     </g>\n     <g id=\"text_6\">\n      <!-- 2011-05 -->\n      <g transform=\"translate(385.815071 310.996094)scale(0.1 -0.1)\">\n       <defs>\n        <path d=\"M 10.796875 72.90625 \nL 49.515625 72.90625 \nL 49.515625 64.59375 \nL 19.828125 64.59375 \nL 19.828125 46.734375 \nQ 21.96875 47.46875 24.109375 47.828125 \nQ 26.265625 48.1875 28.421875 48.1875 \nQ 40.625 48.1875 47.75 41.5 \nQ 54.890625 34.8125 54.890625 23.390625 \nQ 54.890625 11.625 47.5625 5.09375 \nQ 40.234375 -1.421875 26.90625 -1.421875 \nQ 22.3125 -1.421875 17.546875 -0.640625 \nQ 12.796875 0.140625 7.71875 1.703125 \nL 7.71875 11.625 \nQ 12.109375 9.234375 16.796875 8.0625 \nQ 21.484375 6.890625 26.703125 6.890625 \nQ 35.15625 6.890625 40.078125 11.328125 \nQ 45.015625 15.765625 45.015625 23.390625 \nQ 45.015625 31 40.078125 35.4375 \nQ 35.15625 39.890625 26.703125 39.890625 \nQ 22.75 39.890625 18.8125 39.015625 \nQ 14.890625 38.140625 10.796875 36.28125 \nz\n\" id=\"DejaVuSans-53\"/>\n       </defs>\n       <use xlink:href=\"#DejaVuSans-50\"/>\n       <use x=\"63.623047\" xlink:href=\"#DejaVuSans-48\"/>\n       <use x=\"127.246094\" xlink:href=\"#DejaVuSans-49\"/>\n       <use x=\"190.869141\" xlink:href=\"#DejaVuSans-49\"/>\n       <use x=\"254.492188\" xlink:href=\"#DejaVuSans-45\"/>\n       <use x=\"290.576172\" xlink:href=\"#DejaVuSans-48\"/>\n       <use x=\"354.199219\" xlink:href=\"#DejaVuSans-53\"/>\n      </g>\n     </g>\n    </g>\n    <g id=\"xtick_7\">\n     <g id=\"line2d_7\">\n      <g>\n       <use style=\"stroke:#000000;stroke-width:0.8;\" x=\"466.1525\" xlink:href=\"#m7b1e5a9a32\" y=\"296.397656\"/>\n      </g>\n     </g>\n     <g id=\"text_7\">\n      <!-- 2011-06 -->\n      <g transform=\"translate(445.261094 310.996094)scale(0.1 -0.1)\">\n       <defs>\n        <path d=\"M 33.015625 40.375 \nQ 26.375 40.375 22.484375 35.828125 \nQ 18.609375 31.296875 18.609375 23.390625 \nQ 18.609375 15.53125 22.484375 10.953125 \nQ 26.375 6.390625 33.015625 6.390625 \nQ 39.65625 6.390625 43.53125 10.953125 \nQ 47.40625 15.53125 47.40625 23.390625 \nQ 47.40625 31.296875 43.53125 35.828125 \nQ 39.65625 40.375 33.015625 40.375 \nz\nM 52.59375 71.296875 \nL 52.59375 62.3125 \nQ 48.875 64.0625 45.09375 64.984375 \nQ 41.3125 65.921875 37.59375 65.921875 \nQ 27.828125 65.921875 22.671875 59.328125 \nQ 17.53125 52.734375 16.796875 39.40625 \nQ 19.671875 43.65625 24.015625 45.921875 \nQ 28.375 48.1875 33.59375 48.1875 \nQ 44.578125 48.1875 50.953125 41.515625 \nQ 57.328125 34.859375 57.328125 23.390625 \nQ 57.328125 12.15625 50.6875 5.359375 \nQ 44.046875 -1.421875 33.015625 -1.421875 \nQ 20.359375 -1.421875 13.671875 8.265625 \nQ 6.984375 17.96875 6.984375 36.375 \nQ 6.984375 53.65625 15.1875 63.9375 \nQ 23.390625 74.21875 37.203125 74.21875 \nQ 40.921875 74.21875 44.703125 73.484375 \nQ 48.484375 72.75 52.59375 71.296875 \nz\n\" id=\"DejaVuSans-54\"/>\n       </defs>\n       <use xlink:href=\"#DejaVuSans-50\"/>\n       <use x=\"63.623047\" xlink:href=\"#DejaVuSans-48\"/>\n       <use x=\"127.246094\" xlink:href=\"#DejaVuSans-49\"/>\n       <use x=\"190.869141\" xlink:href=\"#DejaVuSans-49\"/>\n       <use x=\"254.492188\" xlink:href=\"#DejaVuSans-45\"/>\n       <use x=\"290.576172\" xlink:href=\"#DejaVuSans-48\"/>\n       <use x=\"354.199219\" xlink:href=\"#DejaVuSans-54\"/>\n      </g>\n     </g>\n    </g>\n    <g id=\"xtick_8\">\n     <g id=\"line2d_8\">\n      <g>\n       <use style=\"stroke:#000000;stroke-width:0.8;\" x=\"525.598523\" xlink:href=\"#m7b1e5a9a32\" y=\"296.397656\"/>\n      </g>\n     </g>\n     <g id=\"text_8\">\n      <!-- 2011-07 -->\n      <g transform=\"translate(504.707116 310.996094)scale(0.1 -0.1)\">\n       <defs>\n        <path d=\"M 8.203125 72.90625 \nL 55.078125 72.90625 \nL 55.078125 68.703125 \nL 28.609375 0 \nL 18.3125 0 \nL 43.21875 64.59375 \nL 8.203125 64.59375 \nz\n\" id=\"DejaVuSans-55\"/>\n       </defs>\n       <use xlink:href=\"#DejaVuSans-50\"/>\n       <use x=\"63.623047\" xlink:href=\"#DejaVuSans-48\"/>\n       <use x=\"127.246094\" xlink:href=\"#DejaVuSans-49\"/>\n       <use x=\"190.869141\" xlink:href=\"#DejaVuSans-49\"/>\n       <use x=\"254.492188\" xlink:href=\"#DejaVuSans-45\"/>\n       <use x=\"290.576172\" xlink:href=\"#DejaVuSans-48\"/>\n       <use x=\"354.199219\" xlink:href=\"#DejaVuSans-55\"/>\n      </g>\n     </g>\n    </g>\n    <g id=\"xtick_9\">\n     <g id=\"line2d_9\">\n      <g>\n       <use style=\"stroke:#000000;stroke-width:0.8;\" x=\"585.044545\" xlink:href=\"#m7b1e5a9a32\" y=\"296.397656\"/>\n      </g>\n     </g>\n     <g id=\"text_9\">\n      <!-- 2011-08 -->\n      <g transform=\"translate(564.153139 310.996094)scale(0.1 -0.1)\">\n       <defs>\n        <path d=\"M 31.78125 34.625 \nQ 24.75 34.625 20.71875 30.859375 \nQ 16.703125 27.09375 16.703125 20.515625 \nQ 16.703125 13.921875 20.71875 10.15625 \nQ 24.75 6.390625 31.78125 6.390625 \nQ 38.8125 6.390625 42.859375 10.171875 \nQ 46.921875 13.96875 46.921875 20.515625 \nQ 46.921875 27.09375 42.890625 30.859375 \nQ 38.875 34.625 31.78125 34.625 \nz\nM 21.921875 38.8125 \nQ 15.578125 40.375 12.03125 44.71875 \nQ 8.5 49.078125 8.5 55.328125 \nQ 8.5 64.0625 14.71875 69.140625 \nQ 20.953125 74.21875 31.78125 74.21875 \nQ 42.671875 74.21875 48.875 69.140625 \nQ 55.078125 64.0625 55.078125 55.328125 \nQ 55.078125 49.078125 51.53125 44.71875 \nQ 48 40.375 41.703125 38.8125 \nQ 48.828125 37.15625 52.796875 32.3125 \nQ 56.78125 27.484375 56.78125 20.515625 \nQ 56.78125 9.90625 50.3125 4.234375 \nQ 43.84375 -1.421875 31.78125 -1.421875 \nQ 19.734375 -1.421875 13.25 4.234375 \nQ 6.78125 9.90625 6.78125 20.515625 \nQ 6.78125 27.484375 10.78125 32.3125 \nQ 14.796875 37.15625 21.921875 38.8125 \nz\nM 18.3125 54.390625 \nQ 18.3125 48.734375 21.84375 45.5625 \nQ 25.390625 42.390625 31.78125 42.390625 \nQ 38.140625 42.390625 41.71875 45.5625 \nQ 45.3125 48.734375 45.3125 54.390625 \nQ 45.3125 60.0625 41.71875 63.234375 \nQ 38.140625 66.40625 31.78125 66.40625 \nQ 25.390625 66.40625 21.84375 63.234375 \nQ 18.3125 60.0625 18.3125 54.390625 \nz\n\" id=\"DejaVuSans-56\"/>\n       </defs>\n       <use xlink:href=\"#DejaVuSans-50\"/>\n       <use x=\"63.623047\" xlink:href=\"#DejaVuSans-48\"/>\n       <use x=\"127.246094\" xlink:href=\"#DejaVuSans-49\"/>\n       <use x=\"190.869141\" xlink:href=\"#DejaVuSans-49\"/>\n       <use x=\"254.492188\" xlink:href=\"#DejaVuSans-45\"/>\n       <use x=\"290.576172\" xlink:href=\"#DejaVuSans-48\"/>\n       <use x=\"354.199219\" xlink:href=\"#DejaVuSans-56\"/>\n      </g>\n     </g>\n    </g>\n    <g id=\"xtick_10\">\n     <g id=\"line2d_10\">\n      <g>\n       <use style=\"stroke:#000000;stroke-width:0.8;\" x=\"644.490568\" xlink:href=\"#m7b1e5a9a32\" y=\"296.397656\"/>\n      </g>\n     </g>\n     <g id=\"text_10\">\n      <!-- 2011-09 -->\n      <g transform=\"translate(623.599162 310.996094)scale(0.1 -0.1)\">\n       <defs>\n        <path d=\"M 10.984375 1.515625 \nL 10.984375 10.5 \nQ 14.703125 8.734375 18.5 7.8125 \nQ 22.3125 6.890625 25.984375 6.890625 \nQ 35.75 6.890625 40.890625 13.453125 \nQ 46.046875 20.015625 46.78125 33.40625 \nQ 43.953125 29.203125 39.59375 26.953125 \nQ 35.25 24.703125 29.984375 24.703125 \nQ 19.046875 24.703125 12.671875 31.3125 \nQ 6.296875 37.9375 6.296875 49.421875 \nQ 6.296875 60.640625 12.9375 67.421875 \nQ 19.578125 74.21875 30.609375 74.21875 \nQ 43.265625 74.21875 49.921875 64.515625 \nQ 56.59375 54.828125 56.59375 36.375 \nQ 56.59375 19.140625 48.40625 8.859375 \nQ 40.234375 -1.421875 26.421875 -1.421875 \nQ 22.703125 -1.421875 18.890625 -0.6875 \nQ 15.09375 0.046875 10.984375 1.515625 \nz\nM 30.609375 32.421875 \nQ 37.25 32.421875 41.125 36.953125 \nQ 45.015625 41.5 45.015625 49.421875 \nQ 45.015625 57.28125 41.125 61.84375 \nQ 37.25 66.40625 30.609375 66.40625 \nQ 23.96875 66.40625 20.09375 61.84375 \nQ 16.21875 57.28125 16.21875 49.421875 \nQ 16.21875 41.5 20.09375 36.953125 \nQ 23.96875 32.421875 30.609375 32.421875 \nz\n\" id=\"DejaVuSans-57\"/>\n       </defs>\n       <use xlink:href=\"#DejaVuSans-50\"/>\n       <use x=\"63.623047\" xlink:href=\"#DejaVuSans-48\"/>\n       <use x=\"127.246094\" xlink:href=\"#DejaVuSans-49\"/>\n       <use x=\"190.869141\" xlink:href=\"#DejaVuSans-49\"/>\n       <use x=\"254.492188\" xlink:href=\"#DejaVuSans-45\"/>\n       <use x=\"290.576172\" xlink:href=\"#DejaVuSans-48\"/>\n       <use x=\"354.199219\" xlink:href=\"#DejaVuSans-57\"/>\n      </g>\n     </g>\n    </g>\n    <g id=\"xtick_11\">\n     <g id=\"line2d_11\">\n      <g>\n       <use style=\"stroke:#000000;stroke-width:0.8;\" x=\"703.936591\" xlink:href=\"#m7b1e5a9a32\" y=\"296.397656\"/>\n      </g>\n     </g>\n     <g id=\"text_11\">\n      <!-- 2011-10 -->\n      <g transform=\"translate(683.045185 310.996094)scale(0.1 -0.1)\">\n       <use xlink:href=\"#DejaVuSans-50\"/>\n       <use x=\"63.623047\" xlink:href=\"#DejaVuSans-48\"/>\n       <use x=\"127.246094\" xlink:href=\"#DejaVuSans-49\"/>\n       <use x=\"190.869141\" xlink:href=\"#DejaVuSans-49\"/>\n       <use x=\"254.492188\" xlink:href=\"#DejaVuSans-45\"/>\n       <use x=\"290.576172\" xlink:href=\"#DejaVuSans-49\"/>\n       <use x=\"354.199219\" xlink:href=\"#DejaVuSans-48\"/>\n      </g>\n     </g>\n    </g>\n    <g id=\"xtick_12\">\n     <g id=\"line2d_12\">\n      <g>\n       <use style=\"stroke:#000000;stroke-width:0.8;\" x=\"763.382614\" xlink:href=\"#m7b1e5a9a32\" y=\"296.397656\"/>\n      </g>\n     </g>\n     <g id=\"text_12\">\n      <!-- 2011-11 -->\n      <g transform=\"translate(742.491207 310.996094)scale(0.1 -0.1)\">\n       <use xlink:href=\"#DejaVuSans-50\"/>\n       <use x=\"63.623047\" xlink:href=\"#DejaVuSans-48\"/>\n       <use x=\"127.246094\" xlink:href=\"#DejaVuSans-49\"/>\n       <use x=\"190.869141\" xlink:href=\"#DejaVuSans-49\"/>\n       <use x=\"254.492188\" xlink:href=\"#DejaVuSans-45\"/>\n       <use x=\"290.576172\" xlink:href=\"#DejaVuSans-49\"/>\n       <use x=\"354.199219\" xlink:href=\"#DejaVuSans-49\"/>\n      </g>\n     </g>\n    </g>\n    <g id=\"xtick_13\">\n     <g id=\"line2d_13\">\n      <g>\n       <use style=\"stroke:#000000;stroke-width:0.8;\" x=\"822.828636\" xlink:href=\"#m7b1e5a9a32\" y=\"296.397656\"/>\n      </g>\n     </g>\n     <g id=\"text_13\">\n      <!-- 2011-12 -->\n      <g transform=\"translate(801.93723 310.996094)scale(0.1 -0.1)\">\n       <use xlink:href=\"#DejaVuSans-50\"/>\n       <use x=\"63.623047\" xlink:href=\"#DejaVuSans-48\"/>\n       <use x=\"127.246094\" xlink:href=\"#DejaVuSans-49\"/>\n       <use x=\"190.869141\" xlink:href=\"#DejaVuSans-49\"/>\n       <use x=\"254.492188\" xlink:href=\"#DejaVuSans-45\"/>\n       <use x=\"290.576172\" xlink:href=\"#DejaVuSans-49\"/>\n       <use x=\"354.199219\" xlink:href=\"#DejaVuSans-50\"/>\n      </g>\n     </g>\n    </g>\n    <g id=\"text_14\">\n     <!-- Year-Month -->\n     <g transform=\"translate(427.31125 327.713594)scale(0.14 -0.14)\">\n      <defs>\n       <path d=\"M -0.203125 72.90625 \nL 10.40625 72.90625 \nL 30.609375 42.921875 \nL 50.6875 72.90625 \nL 61.28125 72.90625 \nL 35.5 34.71875 \nL 35.5 0 \nL 25.59375 0 \nL 25.59375 34.71875 \nz\n\" id=\"DejaVuSans-89\"/>\n       <path d=\"M 56.203125 29.59375 \nL 56.203125 25.203125 \nL 14.890625 25.203125 \nQ 15.484375 15.921875 20.484375 11.0625 \nQ 25.484375 6.203125 34.421875 6.203125 \nQ 39.59375 6.203125 44.453125 7.46875 \nQ 49.3125 8.734375 54.109375 11.28125 \nL 54.109375 2.78125 \nQ 49.265625 0.734375 44.1875 -0.34375 \nQ 39.109375 -1.421875 33.890625 -1.421875 \nQ 20.796875 -1.421875 13.15625 6.1875 \nQ 5.515625 13.8125 5.515625 26.8125 \nQ 5.515625 40.234375 12.765625 48.109375 \nQ 20.015625 56 32.328125 56 \nQ 43.359375 56 49.78125 48.890625 \nQ 56.203125 41.796875 56.203125 29.59375 \nz\nM 47.21875 32.234375 \nQ 47.125 39.59375 43.09375 43.984375 \nQ 39.0625 48.390625 32.421875 48.390625 \nQ 24.90625 48.390625 20.390625 44.140625 \nQ 15.875 39.890625 15.1875 32.171875 \nz\n\" id=\"DejaVuSans-101\"/>\n       <path d=\"M 34.28125 27.484375 \nQ 23.390625 27.484375 19.1875 25 \nQ 14.984375 22.515625 14.984375 16.5 \nQ 14.984375 11.71875 18.140625 8.90625 \nQ 21.296875 6.109375 26.703125 6.109375 \nQ 34.1875 6.109375 38.703125 11.40625 \nQ 43.21875 16.703125 43.21875 25.484375 \nL 43.21875 27.484375 \nz\nM 52.203125 31.203125 \nL 52.203125 0 \nL 43.21875 0 \nL 43.21875 8.296875 \nQ 40.140625 3.328125 35.546875 0.953125 \nQ 30.953125 -1.421875 24.3125 -1.421875 \nQ 15.921875 -1.421875 10.953125 3.296875 \nQ 6 8.015625 6 15.921875 \nQ 6 25.140625 12.171875 29.828125 \nQ 18.359375 34.515625 30.609375 34.515625 \nL 43.21875 34.515625 \nL 43.21875 35.40625 \nQ 43.21875 41.609375 39.140625 45 \nQ 35.0625 48.390625 27.6875 48.390625 \nQ 23 48.390625 18.546875 47.265625 \nQ 14.109375 46.140625 10.015625 43.890625 \nL 10.015625 52.203125 \nQ 14.9375 54.109375 19.578125 55.046875 \nQ 24.21875 56 28.609375 56 \nQ 40.484375 56 46.34375 49.84375 \nQ 52.203125 43.703125 52.203125 31.203125 \nz\n\" id=\"DejaVuSans-97\"/>\n       <path d=\"M 41.109375 46.296875 \nQ 39.59375 47.171875 37.8125 47.578125 \nQ 36.03125 48 33.890625 48 \nQ 26.265625 48 22.1875 43.046875 \nQ 18.109375 38.09375 18.109375 28.8125 \nL 18.109375 0 \nL 9.078125 0 \nL 9.078125 54.6875 \nL 18.109375 54.6875 \nL 18.109375 46.1875 \nQ 20.953125 51.171875 25.484375 53.578125 \nQ 30.03125 56 36.53125 56 \nQ 37.453125 56 38.578125 55.875 \nQ 39.703125 55.765625 41.0625 55.515625 \nz\n\" id=\"DejaVuSans-114\"/>\n       <path d=\"M 9.8125 72.90625 \nL 24.515625 72.90625 \nL 43.109375 23.296875 \nL 61.8125 72.90625 \nL 76.515625 72.90625 \nL 76.515625 0 \nL 66.890625 0 \nL 66.890625 64.015625 \nL 48.09375 14.015625 \nL 38.1875 14.015625 \nL 19.390625 64.015625 \nL 19.390625 0 \nL 9.8125 0 \nz\n\" id=\"DejaVuSans-77\"/>\n       <path d=\"M 30.609375 48.390625 \nQ 23.390625 48.390625 19.1875 42.75 \nQ 14.984375 37.109375 14.984375 27.296875 \nQ 14.984375 17.484375 19.15625 11.84375 \nQ 23.34375 6.203125 30.609375 6.203125 \nQ 37.796875 6.203125 41.984375 11.859375 \nQ 46.1875 17.53125 46.1875 27.296875 \nQ 46.1875 37.015625 41.984375 42.703125 \nQ 37.796875 48.390625 30.609375 48.390625 \nz\nM 30.609375 56 \nQ 42.328125 56 49.015625 48.375 \nQ 55.71875 40.765625 55.71875 27.296875 \nQ 55.71875 13.875 49.015625 6.21875 \nQ 42.328125 -1.421875 30.609375 -1.421875 \nQ 18.84375 -1.421875 12.171875 6.21875 \nQ 5.515625 13.875 5.515625 27.296875 \nQ 5.515625 40.765625 12.171875 48.375 \nQ 18.84375 56 30.609375 56 \nz\n\" id=\"DejaVuSans-111\"/>\n       <path d=\"M 54.890625 33.015625 \nL 54.890625 0 \nL 45.90625 0 \nL 45.90625 32.71875 \nQ 45.90625 40.484375 42.875 44.328125 \nQ 39.84375 48.1875 33.796875 48.1875 \nQ 26.515625 48.1875 22.3125 43.546875 \nQ 18.109375 38.921875 18.109375 30.90625 \nL 18.109375 0 \nL 9.078125 0 \nL 9.078125 54.6875 \nL 18.109375 54.6875 \nL 18.109375 46.1875 \nQ 21.34375 51.125 25.703125 53.5625 \nQ 30.078125 56 35.796875 56 \nQ 45.21875 56 50.046875 50.171875 \nQ 54.890625 44.34375 54.890625 33.015625 \nz\n\" id=\"DejaVuSans-110\"/>\n       <path d=\"M 18.3125 70.21875 \nL 18.3125 54.6875 \nL 36.8125 54.6875 \nL 36.8125 47.703125 \nL 18.3125 47.703125 \nL 18.3125 18.015625 \nQ 18.3125 11.328125 20.140625 9.421875 \nQ 21.96875 7.515625 27.59375 7.515625 \nL 36.8125 7.515625 \nL 36.8125 0 \nL 27.59375 0 \nQ 17.1875 0 13.234375 3.875 \nQ 9.28125 7.765625 9.28125 18.015625 \nL 9.28125 47.703125 \nL 2.6875 47.703125 \nL 2.6875 54.6875 \nL 9.28125 54.6875 \nL 9.28125 70.21875 \nz\n\" id=\"DejaVuSans-116\"/>\n       <path d=\"M 54.890625 33.015625 \nL 54.890625 0 \nL 45.90625 0 \nL 45.90625 32.71875 \nQ 45.90625 40.484375 42.875 44.328125 \nQ 39.84375 48.1875 33.796875 48.1875 \nQ 26.515625 48.1875 22.3125 43.546875 \nQ 18.109375 38.921875 18.109375 30.90625 \nL 18.109375 0 \nL 9.078125 0 \nL 9.078125 75.984375 \nL 18.109375 75.984375 \nL 18.109375 46.1875 \nQ 21.34375 51.125 25.703125 53.5625 \nQ 30.078125 56 35.796875 56 \nQ 45.21875 56 50.046875 50.171875 \nQ 54.890625 44.34375 54.890625 33.015625 \nz\n\" id=\"DejaVuSans-104\"/>\n      </defs>\n      <use xlink:href=\"#DejaVuSans-89\"/>\n      <use x=\"47.833984\" xlink:href=\"#DejaVuSans-101\"/>\n      <use x=\"109.357422\" xlink:href=\"#DejaVuSans-97\"/>\n      <use x=\"170.636719\" xlink:href=\"#DejaVuSans-114\"/>\n      <use x=\"205.375\" xlink:href=\"#DejaVuSans-45\"/>\n      <use x=\"241.458984\" xlink:href=\"#DejaVuSans-77\"/>\n      <use x=\"327.738281\" xlink:href=\"#DejaVuSans-111\"/>\n      <use x=\"388.919922\" xlink:href=\"#DejaVuSans-110\"/>\n      <use x=\"452.298828\" xlink:href=\"#DejaVuSans-116\"/>\n      <use x=\"491.507812\" xlink:href=\"#DejaVuSans-104\"/>\n     </g>\n    </g>\n   </g>\n   <g id=\"matplotlib.axis_2\">\n    <g id=\"ytick_1\">\n     <g id=\"line2d_14\">\n      <defs>\n       <path d=\"M 0 0 \nL -3.5 0 \n\" id=\"m53c5417697\" style=\"stroke:#000000;stroke-width:0.8;\"/>\n      </defs>\n      <g>\n       <use style=\"stroke:#000000;stroke-width:0.8;\" x=\"47.6525\" xlink:href=\"#m53c5417697\" y=\"296.397656\"/>\n      </g>\n     </g>\n     <g id=\"text_15\">\n      <!-- 0.0 -->\n      <g transform=\"translate(24.749375 300.196875)scale(0.1 -0.1)\">\n       <defs>\n        <path d=\"M 10.6875 12.40625 \nL 21 12.40625 \nL 21 0 \nL 10.6875 0 \nz\n\" id=\"DejaVuSans-46\"/>\n       </defs>\n       <use xlink:href=\"#DejaVuSans-48\"/>\n       <use x=\"63.623047\" xlink:href=\"#DejaVuSans-46\"/>\n       <use x=\"95.410156\" xlink:href=\"#DejaVuSans-48\"/>\n      </g>\n     </g>\n    </g>\n    <g id=\"ytick_2\">\n     <g id=\"line2d_15\">\n      <g>\n       <use style=\"stroke:#000000;stroke-width:0.8;\" x=\"47.6525\" xlink:href=\"#m53c5417697\" y=\"260.74525\"/>\n      </g>\n     </g>\n     <g id=\"text_16\">\n      <!-- 0.2 -->\n      <g transform=\"translate(24.749375 264.544469)scale(0.1 -0.1)\">\n       <use xlink:href=\"#DejaVuSans-48\"/>\n       <use x=\"63.623047\" xlink:href=\"#DejaVuSans-46\"/>\n       <use x=\"95.410156\" xlink:href=\"#DejaVuSans-50\"/>\n      </g>\n     </g>\n    </g>\n    <g id=\"ytick_3\">\n     <g id=\"line2d_16\">\n      <g>\n       <use style=\"stroke:#000000;stroke-width:0.8;\" x=\"47.6525\" xlink:href=\"#m53c5417697\" y=\"225.092844\"/>\n      </g>\n     </g>\n     <g id=\"text_17\">\n      <!-- 0.4 -->\n      <g transform=\"translate(24.749375 228.892063)scale(0.1 -0.1)\">\n       <use xlink:href=\"#DejaVuSans-48\"/>\n       <use x=\"63.623047\" xlink:href=\"#DejaVuSans-46\"/>\n       <use x=\"95.410156\" xlink:href=\"#DejaVuSans-52\"/>\n      </g>\n     </g>\n    </g>\n    <g id=\"ytick_4\">\n     <g id=\"line2d_17\">\n      <g>\n       <use style=\"stroke:#000000;stroke-width:0.8;\" x=\"47.6525\" xlink:href=\"#m53c5417697\" y=\"189.440438\"/>\n      </g>\n     </g>\n     <g id=\"text_18\">\n      <!-- 0.6 -->\n      <g transform=\"translate(24.749375 193.239657)scale(0.1 -0.1)\">\n       <use xlink:href=\"#DejaVuSans-48\"/>\n       <use x=\"63.623047\" xlink:href=\"#DejaVuSans-46\"/>\n       <use x=\"95.410156\" xlink:href=\"#DejaVuSans-54\"/>\n      </g>\n     </g>\n    </g>\n    <g id=\"ytick_5\">\n     <g id=\"line2d_18\">\n      <g>\n       <use style=\"stroke:#000000;stroke-width:0.8;\" x=\"47.6525\" xlink:href=\"#m53c5417697\" y=\"153.788032\"/>\n      </g>\n     </g>\n     <g id=\"text_19\">\n      <!-- 0.8 -->\n      <g transform=\"translate(24.749375 157.587251)scale(0.1 -0.1)\">\n       <use xlink:href=\"#DejaVuSans-48\"/>\n       <use x=\"63.623047\" xlink:href=\"#DejaVuSans-46\"/>\n       <use x=\"95.410156\" xlink:href=\"#DejaVuSans-56\"/>\n      </g>\n     </g>\n    </g>\n    <g id=\"ytick_6\">\n     <g id=\"line2d_19\">\n      <g>\n       <use style=\"stroke:#000000;stroke-width:0.8;\" x=\"47.6525\" xlink:href=\"#m53c5417697\" y=\"118.135626\"/>\n      </g>\n     </g>\n     <g id=\"text_20\">\n      <!-- 1.0 -->\n      <g transform=\"translate(24.749375 121.934845)scale(0.1 -0.1)\">\n       <use xlink:href=\"#DejaVuSans-49\"/>\n       <use x=\"63.623047\" xlink:href=\"#DejaVuSans-46\"/>\n       <use x=\"95.410156\" xlink:href=\"#DejaVuSans-48\"/>\n      </g>\n     </g>\n    </g>\n    <g id=\"ytick_7\">\n     <g id=\"line2d_20\">\n      <g>\n       <use style=\"stroke:#000000;stroke-width:0.8;\" x=\"47.6525\" xlink:href=\"#m53c5417697\" y=\"82.48322\"/>\n      </g>\n     </g>\n     <g id=\"text_21\">\n      <!-- 1.2 -->\n      <g transform=\"translate(24.749375 86.282439)scale(0.1 -0.1)\">\n       <use xlink:href=\"#DejaVuSans-49\"/>\n       <use x=\"63.623047\" xlink:href=\"#DejaVuSans-46\"/>\n       <use x=\"95.410156\" xlink:href=\"#DejaVuSans-50\"/>\n      </g>\n     </g>\n    </g>\n    <g id=\"ytick_8\">\n     <g id=\"line2d_21\">\n      <g>\n       <use style=\"stroke:#000000;stroke-width:0.8;\" x=\"47.6525\" xlink:href=\"#m53c5417697\" y=\"46.830814\"/>\n      </g>\n     </g>\n     <g id=\"text_22\">\n      <!-- 1.4 -->\n      <g transform=\"translate(24.749375 50.630033)scale(0.1 -0.1)\">\n       <use xlink:href=\"#DejaVuSans-49\"/>\n       <use x=\"63.623047\" xlink:href=\"#DejaVuSans-46\"/>\n       <use x=\"95.410156\" xlink:href=\"#DejaVuSans-52\"/>\n      </g>\n     </g>\n    </g>\n    <g id=\"text_23\">\n     <!-- Total Revenue -->\n     <g transform=\"translate(17.837813 209.555625)rotate(-90)scale(0.14 -0.14)\">\n      <defs>\n       <path d=\"M -0.296875 72.90625 \nL 61.375 72.90625 \nL 61.375 64.59375 \nL 35.5 64.59375 \nL 35.5 0 \nL 25.59375 0 \nL 25.59375 64.59375 \nL -0.296875 64.59375 \nz\n\" id=\"DejaVuSans-84\"/>\n       <path d=\"M 9.421875 75.984375 \nL 18.40625 75.984375 \nL 18.40625 0 \nL 9.421875 0 \nz\n\" id=\"DejaVuSans-108\"/>\n       <path id=\"DejaVuSans-32\"/>\n       <path d=\"M 44.390625 34.1875 \nQ 47.5625 33.109375 50.5625 29.59375 \nQ 53.5625 26.078125 56.59375 19.921875 \nL 66.609375 0 \nL 56 0 \nL 46.6875 18.703125 \nQ 43.0625 26.03125 39.671875 28.421875 \nQ 36.28125 30.8125 30.421875 30.8125 \nL 19.671875 30.8125 \nL 19.671875 0 \nL 9.8125 0 \nL 9.8125 72.90625 \nL 32.078125 72.90625 \nQ 44.578125 72.90625 50.734375 67.671875 \nQ 56.890625 62.453125 56.890625 51.90625 \nQ 56.890625 45.015625 53.6875 40.46875 \nQ 50.484375 35.9375 44.390625 34.1875 \nz\nM 19.671875 64.796875 \nL 19.671875 38.921875 \nL 32.078125 38.921875 \nQ 39.203125 38.921875 42.84375 42.21875 \nQ 46.484375 45.515625 46.484375 51.90625 \nQ 46.484375 58.296875 42.84375 61.546875 \nQ 39.203125 64.796875 32.078125 64.796875 \nz\n\" id=\"DejaVuSans-82\"/>\n       <path d=\"M 2.984375 54.6875 \nL 12.5 54.6875 \nL 29.59375 8.796875 \nL 46.6875 54.6875 \nL 56.203125 54.6875 \nL 35.6875 0 \nL 23.484375 0 \nz\n\" id=\"DejaVuSans-118\"/>\n       <path d=\"M 8.5 21.578125 \nL 8.5 54.6875 \nL 17.484375 54.6875 \nL 17.484375 21.921875 \nQ 17.484375 14.15625 20.5 10.265625 \nQ 23.53125 6.390625 29.59375 6.390625 \nQ 36.859375 6.390625 41.078125 11.03125 \nQ 45.3125 15.671875 45.3125 23.6875 \nL 45.3125 54.6875 \nL 54.296875 54.6875 \nL 54.296875 0 \nL 45.3125 0 \nL 45.3125 8.40625 \nQ 42.046875 3.421875 37.71875 1 \nQ 33.40625 -1.421875 27.6875 -1.421875 \nQ 18.265625 -1.421875 13.375 4.4375 \nQ 8.5 10.296875 8.5 21.578125 \nz\nM 31.109375 56 \nz\n\" id=\"DejaVuSans-117\"/>\n      </defs>\n      <use xlink:href=\"#DejaVuSans-84\"/>\n      <use x=\"44.083984\" xlink:href=\"#DejaVuSans-111\"/>\n      <use x=\"105.265625\" xlink:href=\"#DejaVuSans-116\"/>\n      <use x=\"144.474609\" xlink:href=\"#DejaVuSans-97\"/>\n      <use x=\"205.753906\" xlink:href=\"#DejaVuSans-108\"/>\n      <use x=\"233.537109\" xlink:href=\"#DejaVuSans-32\"/>\n      <use x=\"265.324219\" xlink:href=\"#DejaVuSans-82\"/>\n      <use x=\"330.306641\" xlink:href=\"#DejaVuSans-101\"/>\n      <use x=\"391.830078\" xlink:href=\"#DejaVuSans-118\"/>\n      <use x=\"451.009766\" xlink:href=\"#DejaVuSans-101\"/>\n      <use x=\"512.533203\" xlink:href=\"#DejaVuSans-110\"/>\n      <use x=\"575.912109\" xlink:href=\"#DejaVuSans-117\"/>\n      <use x=\"639.291016\" xlink:href=\"#DejaVuSans-101\"/>\n     </g>\n    </g>\n    <g id=\"text_24\">\n     <!-- 1e6 -->\n     <g transform=\"translate(47.6525 21.597656)scale(0.1 -0.1)\">\n      <use xlink:href=\"#DejaVuSans-49\"/>\n      <use x=\"63.623047\" xlink:href=\"#DejaVuSans-101\"/>\n      <use x=\"125.146484\" xlink:href=\"#DejaVuSans-54\"/>\n     </g>\n    </g>\n   </g>\n   <g id=\"patch_16\">\n    <path d=\"M 47.6525 296.397656 \nL 47.6525 24.597656 \n\" style=\"fill:none;stroke:#000000;stroke-linecap:square;stroke-linejoin:miter;stroke-width:0.8;\"/>\n   </g>\n   <g id=\"patch_17\">\n    <path d=\"M 884.6525 296.397656 \nL 884.6525 24.597656 \n\" style=\"fill:none;stroke:#000000;stroke-linecap:square;stroke-linejoin:miter;stroke-width:0.8;\"/>\n   </g>\n   <g id=\"patch_18\">\n    <path d=\"M 47.6525 296.397656 \nL 884.6525 296.397656 \n\" style=\"fill:none;stroke:#000000;stroke-linecap:square;stroke-linejoin:miter;stroke-width:0.8;\"/>\n   </g>\n   <g id=\"patch_19\">\n    <path d=\"M 47.6525 24.597656 \nL 884.6525 24.597656 \n\" style=\"fill:none;stroke:#000000;stroke-linecap:square;stroke-linejoin:miter;stroke-width:0.8;\"/>\n   </g>\n   <g id=\"text_25\">\n    <!-- Total Revenue by Month -->\n    <g transform=\"translate(376.116172 18.597656)scale(0.15 -0.15)\">\n     <defs>\n      <path d=\"M 48.6875 27.296875 \nQ 48.6875 37.203125 44.609375 42.84375 \nQ 40.53125 48.484375 33.40625 48.484375 \nQ 26.265625 48.484375 22.1875 42.84375 \nQ 18.109375 37.203125 18.109375 27.296875 \nQ 18.109375 17.390625 22.1875 11.75 \nQ 26.265625 6.109375 33.40625 6.109375 \nQ 40.53125 6.109375 44.609375 11.75 \nQ 48.6875 17.390625 48.6875 27.296875 \nz\nM 18.109375 46.390625 \nQ 20.953125 51.265625 25.265625 53.625 \nQ 29.59375 56 35.59375 56 \nQ 45.5625 56 51.78125 48.09375 \nQ 58.015625 40.1875 58.015625 27.296875 \nQ 58.015625 14.40625 51.78125 6.484375 \nQ 45.5625 -1.421875 35.59375 -1.421875 \nQ 29.59375 -1.421875 25.265625 0.953125 \nQ 20.953125 3.328125 18.109375 8.203125 \nL 18.109375 0 \nL 9.078125 0 \nL 9.078125 75.984375 \nL 18.109375 75.984375 \nz\n\" id=\"DejaVuSans-98\"/>\n      <path d=\"M 32.171875 -5.078125 \nQ 28.375 -14.84375 24.75 -17.8125 \nQ 21.140625 -20.796875 15.09375 -20.796875 \nL 7.90625 -20.796875 \nL 7.90625 -13.28125 \nL 13.1875 -13.28125 \nQ 16.890625 -13.28125 18.9375 -11.515625 \nQ 21 -9.765625 23.484375 -3.21875 \nL 25.09375 0.875 \nL 2.984375 54.6875 \nL 12.5 54.6875 \nL 29.59375 11.921875 \nL 46.6875 54.6875 \nL 56.203125 54.6875 \nz\n\" id=\"DejaVuSans-121\"/>\n     </defs>\n     <use xlink:href=\"#DejaVuSans-84\"/>\n     <use x=\"44.083984\" xlink:href=\"#DejaVuSans-111\"/>\n     <use x=\"105.265625\" xlink:href=\"#DejaVuSans-116\"/>\n     <use x=\"144.474609\" xlink:href=\"#DejaVuSans-97\"/>\n     <use x=\"205.753906\" xlink:href=\"#DejaVuSans-108\"/>\n     <use x=\"233.537109\" xlink:href=\"#DejaVuSans-32\"/>\n     <use x=\"265.324219\" xlink:href=\"#DejaVuSans-82\"/>\n     <use x=\"330.306641\" xlink:href=\"#DejaVuSans-101\"/>\n     <use x=\"391.830078\" xlink:href=\"#DejaVuSans-118\"/>\n     <use x=\"451.009766\" xlink:href=\"#DejaVuSans-101\"/>\n     <use x=\"512.533203\" xlink:href=\"#DejaVuSans-110\"/>\n     <use x=\"575.912109\" xlink:href=\"#DejaVuSans-117\"/>\n     <use x=\"639.291016\" xlink:href=\"#DejaVuSans-101\"/>\n     <use x=\"700.814453\" xlink:href=\"#DejaVuSans-32\"/>\n     <use x=\"732.601562\" xlink:href=\"#DejaVuSans-98\"/>\n     <use x=\"796.078125\" xlink:href=\"#DejaVuSans-121\"/>\n     <use x=\"855.257812\" xlink:href=\"#DejaVuSans-32\"/>\n     <use x=\"887.044922\" xlink:href=\"#DejaVuSans-77\"/>\n     <use x=\"973.324219\" xlink:href=\"#DejaVuSans-111\"/>\n     <use x=\"1034.505859\" xlink:href=\"#DejaVuSans-110\"/>\n     <use x=\"1097.884766\" xlink:href=\"#DejaVuSans-116\"/>\n     <use x=\"1137.09375\" xlink:href=\"#DejaVuSans-104\"/>\n    </g>\n   </g>\n  </g>\n </g>\n <defs>\n  <clipPath id=\"pa37bbdfbe0\">\n   <rect height=\"271.8\" width=\"837\" x=\"47.6525\" y=\"24.597656\"/>\n  </clipPath>\n </defs>\n</svg>\n",
      "image/png": "[encoded data removed]"
     },
     "metadata": {
      "needs_background": "light"
     }
    }
   ],
   "source": [
    "temp = ecom2.loc[:,('Revenue', 'InvoiceDate')]\n",
    "temp.InvoiceDate = ecom2.InvoiceDate.dt.to_period('M')\n",
    "temp = temp.groupby(['InvoiceDate'])['Revenue'].sum()\n",
    "temp = temp.reset_index(drop = False)\n",
    "\n",
    "plt.figure(figsize=(15,5))\n",
    "plt.bar(np.arange(len(temp['InvoiceDate'])), temp['Revenue'])\n",
    "plt.xticks(np.arange(len(temp['InvoiceDate'])), temp['InvoiceDate'])\n",
    "plt.ylabel('Total Revenue',fontsize=14)\n",
    "plt.xlabel('Year-Month',fontsize=14)\n",
    "plt.title('Total Revenue by Month',fontsize=15)\n",
    " \n",
    "plt.show()\n"
   ]
  },
  {
   "cell_type": "code",
   "execution_count": 495,
   "metadata": {},
   "outputs": [
    {
     "output_type": "execute_result",
     "data": {
      "text/plain": [
       "                InvoiceDate    Revenue\n",
       "0 2010-12-06 00:00:00+00:00  232403.44\n",
       "1 2010-12-13 00:00:00+00:00  285989.94\n",
       "2 2010-12-20 00:00:00+00:00  197556.75\n",
       "3 2010-12-27 00:00:00+00:00   59764.82\n",
       "4 2011-01-03 00:00:00+00:00       0.00"
      ],
      "text/html": "<div>\n<style scoped>\n    .dataframe tbody tr th:only-of-type {\n        vertical-align: middle;\n    }\n\n    .dataframe tbody tr th {\n        vertical-align: top;\n    }\n\n    .dataframe thead th {\n        text-align: right;\n    }\n</style>\n<table border=\"1\" class=\"dataframe\">\n  <thead>\n    <tr style=\"text-align: right;\">\n      <th></th>\n      <th>InvoiceDate</th>\n      <th>Revenue</th>\n    </tr>\n  </thead>\n  <tbody>\n    <tr>\n      <th>0</th>\n      <td>2010-12-06 00:00:00+00:00</td>\n      <td>232403.44</td>\n    </tr>\n    <tr>\n      <th>1</th>\n      <td>2010-12-13 00:00:00+00:00</td>\n      <td>285989.94</td>\n    </tr>\n    <tr>\n      <th>2</th>\n      <td>2010-12-20 00:00:00+00:00</td>\n      <td>197556.75</td>\n    </tr>\n    <tr>\n      <th>3</th>\n      <td>2010-12-27 00:00:00+00:00</td>\n      <td>59764.82</td>\n    </tr>\n    <tr>\n      <th>4</th>\n      <td>2011-01-03 00:00:00+00:00</td>\n      <td>0.00</td>\n    </tr>\n  </tbody>\n</table>\n</div>"
     },
     "metadata": {},
     "execution_count": 495
    }
   ],
   "source": [
    "#Now group the revenue by week\n",
    "ecom2.RevWeek=ecom2.groupby(pd.Grouper(key='InvoiceDate', freq='W-MON'))['Revenue'].sum().reset_index().sort_values('InvoiceDate')\n",
    "ecom2.RevWeek.head()"
   ]
  },
  {
   "cell_type": "code",
   "execution_count": null,
   "metadata": {},
   "outputs": [],
   "source": []
  }
 ]
}