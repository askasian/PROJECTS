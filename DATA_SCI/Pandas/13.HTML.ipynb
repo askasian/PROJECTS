{
 "metadata": {
  "language_info": {
   "codemirror_mode": {
    "name": "ipython",
    "version": 3
   },
   "file_extension": ".py",
   "mimetype": "text/x-python",
   "name": "python",
   "nbconvert_exporter": "python",
   "pygments_lexer": "ipython3",
   "version": "3.9.2-final"
  },
  "orig_nbformat": 2,
  "kernelspec": {
   "name": "python39264bit53189a78836a44bb83e468537909f6de",
   "display_name": "Python 3.9.2 64-bit"
  }
 },
 "nbformat": 4,
 "nbformat_minor": 2,
 "cells": [
  {
   "cell_type": "code",
   "execution_count": 1,
   "metadata": {},
   "outputs": [
    {
     "output_type": "execute_result",
     "data": {
      "text/plain": [
       "'https://embedded.azureedge.net/66578/193917/23efc109-1e2c-4507-95dd-0d1be2585ed3.html?v=34784-399041990'"
      ]
     },
     "metadata": {},
     "execution_count": 1
    }
   ],
   "source": [
    "src=\"https://embedded.azureedge.net/66578/193917/23efc109-1e2c-4507-95dd-0d1be2585ed3.html?v=34784-399041990\"\n",
    "src"
   ]
  },
  {
   "cell_type": "code",
   "execution_count": 3,
   "metadata": {},
   "outputs": [],
   "source": [
    "import pandas as pd "
   ]
  },
  {
   "cell_type": "code",
   "execution_count": 4,
   "metadata": {},
   "outputs": [
    {
     "output_type": "execute_result",
     "data": {
      "text/plain": [
       "[                \" + this._get(inst, \"weekHeader\") + \"  \\\n",
       " 0   \" + this._get(inst, \"calculateWeek\")(printDate...   \n",
       " 1                                                 NaN   \n",
       " 2      ' + (win.title || localization.text.title) + '   \n",
       " 3      ' + (win.title || localization.text.title) + '   \n",
       " 4      ' + (win.title || localization.text.title) + '   \n",
       " 5      ' + (win.title || localization.text.title) + '   \n",
       " 6      ' + (win.title || localization.text.title) + '   \n",
       " 7      ' + (win.title || localization.text.title) + '   \n",
       " 8      ' + (win.title || localization.text.title) + '   \n",
       " 9      ' + (win.title || localization.text.title) + '   \n",
       " 10     ' + (win.title || localization.text.title) + '   \n",
       " 11                                                {0}   \n",
       " 12                                                {0}   \n",
       " \n",
       "    = 5 ? \" class='ui-datepicker-week-end'\" : \"\") + \">\" + \"\" + dayNamesMin[day] + \"  \\\n",
       " 0   \" + // actions (otherMonth && !showOtherMonths...                                \n",
       " 1                                                 NaN                                \n",
       " 2                                                 NaN                                \n",
       " 3                                                 NaN                                \n",
       " 4                                                 NaN                                \n",
       " 5                                                 NaN                                \n",
       " 6                                                 NaN                                \n",
       " 7                                                 NaN                                \n",
       " 8                                                 NaN                                \n",
       " 9                                                 NaN                                \n",
       " 10                                                NaN                                \n",
       " 11                                                {1}                                \n",
       " 12                                                {1}                                \n",
       " \n",
       "                                            Unnamed: 2  \\\n",
       " 0                                                 NaN   \n",
       " 1                                                 NaN   \n",
       " 2   ' + localization.text.newColor + ' ' + localiz...   \n",
       " 3                                                  H:   \n",
       " 4                                                  S:   \n",
       " 5                                                  V:   \n",
       " 6                                                  R:   \n",
       " 7                                                  G:   \n",
       " 8                                                  B:   \n",
       " 9             ' + (win.alphaSupport ? 'A:' : ' ') + '   \n",
       " 10                        #:' + (win.alphaSupport ? '   \n",
       " 11                                                {2}   \n",
       " 12                                                {2}   \n",
       " \n",
       "                                            Unnamed: 3 Unnamed: 4 Unnamed: 5  \n",
       " 0                                                 NaN        NaN        NaN  \n",
       " 1                                                 NaN        NaN        NaN  \n",
       " 2   ' + localization.text.newColor + ' ' + localiz...        NaN        NaN  \n",
       " 3                                                   °        NaN        NaN  \n",
       " 4                                                   %        NaN        NaN  \n",
       " 5                                                   %        NaN        NaN  \n",
       " 6                                                 NaN        NaN        NaN  \n",
       " 7                                                 NaN        NaN        NaN  \n",
       " 8                                                 NaN        NaN        NaN  \n",
       " 9             ' + (win.alphaSupport ? ' %' : ' ') + '        NaN        NaN  \n",
       " 10                        #:' + (win.alphaSupport ? '        NaN        NaN  \n",
       " 11                                                {3}        {4}        {5}  \n",
       " 12                                                {3}        {4}        {5}  ,\n",
       "                \" + this._get(inst, \"weekHeader\") + \"  \\\n",
       " 0  \" + this._get(inst, \"calculateWeek\")(printDate...   \n",
       " \n",
       "   = 5 ? \" class='ui-datepicker-week-end'\" : \"\") + \">\" + \"\" + dayNamesMin[day] + \"  \n",
       " 0  \" + // actions (otherMonth && !showOtherMonths...                               ,\n",
       "                                                 0   1  \\\n",
       " 0                                             NaN NaN   \n",
       " 1  ' + (win.title || localization.text.title) + ' NaN   \n",
       " 2  ' + (win.title || localization.text.title) + ' NaN   \n",
       " 3  ' + (win.title || localization.text.title) + ' NaN   \n",
       " 4  ' + (win.title || localization.text.title) + ' NaN   \n",
       " 5  ' + (win.title || localization.text.title) + ' NaN   \n",
       " 6  ' + (win.title || localization.text.title) + ' NaN   \n",
       " 7  ' + (win.title || localization.text.title) + ' NaN   \n",
       " 8  ' + (win.title || localization.text.title) + ' NaN   \n",
       " 9  ' + (win.title || localization.text.title) + ' NaN   \n",
       " \n",
       "                                                    2  \\\n",
       " 0                                                NaN   \n",
       " 1  ' + localization.text.newColor + ' ' + localiz...   \n",
       " 2                                                 H:   \n",
       " 3                                                 S:   \n",
       " 4                                                 V:   \n",
       " 5                                                 R:   \n",
       " 6                                                 G:   \n",
       " 7                                                 B:   \n",
       " 8            ' + (win.alphaSupport ? 'A:' : ' ') + '   \n",
       " 9                        #:' + (win.alphaSupport ? '   \n",
       " \n",
       "                                                    3   4  \n",
       " 0                                                NaN NaN  \n",
       " 1  ' + localization.text.newColor + ' ' + localiz... NaN  \n",
       " 2                                                  ° NaN  \n",
       " 3                                                  % NaN  \n",
       " 4                                                  % NaN  \n",
       " 5                                                NaN NaN  \n",
       " 6                                                NaN NaN  \n",
       " 7                                                NaN NaN  \n",
       " 8            ' + (win.alphaSupport ? ' %' : ' ') + ' NaN  \n",
       " 9                        #:' + (win.alphaSupport ? ' NaN  ]"
      ]
     },
     "metadata": {},
     "execution_count": 4
    }
   ],
   "source": [
    "data=pd.read_html(src)\n",
    "data"
   ]
  },
  {
   "cell_type": "code",
   "execution_count": null,
   "metadata": {},
   "outputs": [],
   "source": []
  }
 ]
}